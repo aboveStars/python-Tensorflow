{
 "cells": [
  {
   "cell_type": "markdown",
   "id": "203d062c",
   "metadata": {},
   "source": [
    "## While"
   ]
  },
  {
   "cell_type": "code",
   "execution_count": 9,
   "id": "1deb6a33",
   "metadata": {},
   "outputs": [
    {
     "name": "stdout",
     "output_type": "stream",
     "text": [
      "0\n",
      "merhaba\n",
      "1\n",
      "merhaba\n",
      "2\n",
      "merhaba\n",
      "3\n",
      "merhaba\n",
      "4\n",
      "merhaba\n",
      "5\n",
      "merhaba\n",
      "6\n",
      "merhaba\n",
      "7\n",
      "merhaba\n",
      "8\n",
      "merhaba\n",
      "9\n",
      "merhaba\n",
      "10\n",
      "merhaba\n"
     ]
    }
   ],
   "source": [
    "x = 0\n",
    "while x<=10:\n",
    "    print(x)\n",
    "    print(\"merhaba\")\n",
    "    x = x + 1"
   ]
  },
  {
   "cell_type": "code",
   "execution_count": 10,
   "id": "3174ba33",
   "metadata": {},
   "outputs": [],
   "source": [
    "myList = [1,2,3,4,5]"
   ]
  },
  {
   "cell_type": "code",
   "execution_count": 11,
   "id": "a9061af0",
   "metadata": {},
   "outputs": [
    {
     "data": {
      "text/plain": [
       "5"
      ]
     },
     "execution_count": 11,
     "metadata": {},
     "output_type": "execute_result"
    }
   ],
   "source": [
    "myList.pop()"
   ]
  },
  {
   "cell_type": "code",
   "execution_count": 12,
   "id": "6409d574",
   "metadata": {},
   "outputs": [],
   "source": [
    "myList.append(5)"
   ]
  },
  {
   "cell_type": "code",
   "execution_count": 13,
   "id": "85322efa",
   "metadata": {},
   "outputs": [
    {
     "data": {
      "text/plain": [
       "[1, 2, 3, 4, 5]"
      ]
     },
     "execution_count": 13,
     "metadata": {},
     "output_type": "execute_result"
    }
   ],
   "source": [
    "myList"
   ]
  },
  {
   "cell_type": "code",
   "execution_count": 15,
   "id": "4541528d",
   "metadata": {},
   "outputs": [
    {
     "data": {
      "text/plain": [
       "True"
      ]
     },
     "execution_count": 15,
     "metadata": {},
     "output_type": "execute_result"
    }
   ],
   "source": [
    "3 in myList\n",
    "    "
   ]
  },
  {
   "cell_type": "code",
   "execution_count": 16,
   "id": "14796c11",
   "metadata": {},
   "outputs": [
    {
     "name": "stdout",
     "output_type": "stream",
     "text": [
      "3 is here\n",
      "3 is here\n",
      "3 is here\n"
     ]
    }
   ],
   "source": [
    "while 3 in myList:\n",
    "    print(\"3 is here\")\n",
    "    myList.pop()"
   ]
  },
  {
   "cell_type": "code",
   "execution_count": 17,
   "id": "00fa5836",
   "metadata": {},
   "outputs": [],
   "source": [
    "num = 0"
   ]
  },
  {
   "cell_type": "code",
   "execution_count": 18,
   "id": "50d1ef2a",
   "metadata": {},
   "outputs": [
    {
     "name": "stdout",
     "output_type": "stream",
     "text": [
      "0\n",
      "1\n",
      "2\n",
      "3\n"
     ]
    }
   ],
   "source": [
    "while num <5:\n",
    "    if num == 4:\n",
    "        break\n",
    "    print(num)\n",
    "    num = num + 1"
   ]
  },
  {
   "cell_type": "code",
   "execution_count": 20,
   "id": "871dc3f7",
   "metadata": {
    "scrolled": false
   },
   "outputs": [
    {
     "name": "stdout",
     "output_type": "stream",
     "text": [
      "Yeni Değişkenin Değeri:  0\n",
      "Yeni Değişkenin Değeri:  1\n",
      "Yeni Değişkenin Değeri:  2\n",
      "Yeni Değişkenin Değeri:  3\n",
      "Yeni Değişkenin Değeri:  4\n",
      "Yeni Değişkenin Değeri:  5\n",
      "Yeni Değişkenin Değeri:  6\n",
      "Yeni Değişkenin Değeri:  7\n",
      "Yeni Değişkenin Değeri:  8\n",
      "Yeni Değişkenin Değeri:  9\n",
      "Yeni Değişkenin Değeri:  10\n",
      "Yeni Değişkenin Değeri:  11\n",
      "Yeni Değişkenin Değeri:  12\n",
      "Yeni Değişkenin Değeri:  13\n",
      "Yeni Değişkenin Değeri:  14\n"
     ]
    }
   ],
   "source": [
    "newVar = 0\n",
    "while newVar < 15:\n",
    "    print(\"Yeni Değişkenin Değeri:  \" + str(newVar))\n",
    "    newVar = newVar + 1"
   ]
  },
  {
   "cell_type": "markdown",
   "id": "f5c9fc78",
   "metadata": {},
   "source": [
    "## Format the text with f\"\""
   ]
  },
  {
   "cell_type": "code",
   "execution_count": 21,
   "id": "4b34caf9",
   "metadata": {},
   "outputs": [
    {
     "name": "stdout",
     "output_type": "stream",
     "text": [
      "Yeni Değişkenin Güncel Değeri: 0\n",
      "Yeni Değişkenin Güncel Değeri: 1\n",
      "Yeni Değişkenin Güncel Değeri: 2\n",
      "Yeni Değişkenin Güncel Değeri: 3\n",
      "Yeni Değişkenin Güncel Değeri: 4\n",
      "Yeni Değişkenin Güncel Değeri: 5\n",
      "Yeni Değişkenin Güncel Değeri: 6\n",
      "Yeni Değişkenin Güncel Değeri: 7\n",
      "Yeni Değişkenin Güncel Değeri: 8\n",
      "Yeni Değişkenin Güncel Değeri: 9\n",
      "Yeni Değişkenin Güncel Değeri: 10\n",
      "Yeni Değişkenin Güncel Değeri: 11\n",
      "Yeni Değişkenin Güncel Değeri: 12\n",
      "Yeni Değişkenin Güncel Değeri: 13\n",
      "Yeni Değişkenin Güncel Değeri: 14\n"
     ]
    }
   ],
   "source": [
    "newVar = 0\n",
    "while newVar < 15:\n",
    "    print(f\"Yeni Değişkenin Güncel Değeri: {newVar}\")\n",
    "    newVar = newVar + 1"
   ]
  },
  {
   "cell_type": "code",
   "execution_count": null,
   "id": "b288d74a",
   "metadata": {},
   "outputs": [],
   "source": []
  }
 ],
 "metadata": {
  "kernelspec": {
   "display_name": "Python 3 (ipykernel)",
   "language": "python",
   "name": "python3"
  },
  "language_info": {
   "codemirror_mode": {
    "name": "ipython",
    "version": 3
   },
   "file_extension": ".py",
   "mimetype": "text/x-python",
   "name": "python",
   "nbconvert_exporter": "python",
   "pygments_lexer": "ipython3",
   "version": "3.9.12"
  }
 },
 "nbformat": 4,
 "nbformat_minor": 5
}
