{
 "cells": [
  {
   "cell_type": "code",
   "execution_count": 1,
   "id": "5fa56c1f",
   "metadata": {},
   "outputs": [],
   "source": [
    "myList = list()"
   ]
  },
  {
   "cell_type": "code",
   "execution_count": 2,
   "id": "2f6468f5",
   "metadata": {},
   "outputs": [
    {
     "data": {
      "text/plain": [
       "list"
      ]
     },
     "execution_count": 2,
     "metadata": {},
     "output_type": "execute_result"
    }
   ],
   "source": [
    "type(myList)"
   ]
  },
  {
   "cell_type": "markdown",
   "id": "b89c47ca",
   "metadata": {},
   "source": [
    "## Instance & Attribute"
   ]
  },
  {
   "cell_type": "code",
   "execution_count": 14,
   "id": "37a280b2",
   "metadata": {},
   "outputs": [],
   "source": [
    "class SuperKahraman():\n",
    "    def __init__(self,isimInput,yasInput,meslekInput):\n",
    "        print(\"Init Çağrıldı\")\n",
    "        self.isim = isimInput\n",
    "        self.yas = yasInput\n",
    "        self.meslek = meslekInput"
   ]
  },
  {
   "cell_type": "code",
   "execution_count": 16,
   "id": "d2a06b99",
   "metadata": {},
   "outputs": [
    {
     "name": "stdout",
     "output_type": "stream",
     "text": [
      "Init Çağrıldı\n"
     ]
    }
   ],
   "source": [
    "superman = SuperKahraman(\"Superman\",30,\"Gazeteci\")"
   ]
  },
  {
   "cell_type": "code",
   "execution_count": 17,
   "id": "dcb529f2",
   "metadata": {},
   "outputs": [
    {
     "data": {
      "text/plain": [
       "'Superman'"
      ]
     },
     "execution_count": 17,
     "metadata": {},
     "output_type": "execute_result"
    }
   ],
   "source": [
    "superman.isim"
   ]
  },
  {
   "cell_type": "code",
   "execution_count": 18,
   "id": "dcfd7e1d",
   "metadata": {},
   "outputs": [],
   "source": [
    "superman.isim = \"clark kent\""
   ]
  },
  {
   "cell_type": "code",
   "execution_count": 19,
   "id": "9f332acc",
   "metadata": {},
   "outputs": [
    {
     "data": {
      "text/plain": [
       "'clark kent'"
      ]
     },
     "execution_count": 19,
     "metadata": {},
     "output_type": "execute_result"
    }
   ],
   "source": [
    "superman.isim"
   ]
  },
  {
   "cell_type": "code",
   "execution_count": 20,
   "id": "4f9b222f",
   "metadata": {},
   "outputs": [],
   "source": [
    "class IK():\n",
    "    def __init__(self,isimSoyisim,yas,memleket):\n",
    "        print(\"Inıt başarılı\")\n",
    "        self.isimSoyisim = isimSoyisim\n",
    "        self.yas = yas\n",
    "        self.memleket = memleket\n",
    "        self.nerdensin = memleket"
   ]
  },
  {
   "cell_type": "code",
   "execution_count": 22,
   "id": "ed9ca8b8",
   "metadata": {},
   "outputs": [
    {
     "name": "stdout",
     "output_type": "stream",
     "text": [
      "Inıt başarılı\n"
     ]
    }
   ],
   "source": [
    "yunus = IK(\"Yunus Korkmaz\",19,\"Rize\")"
   ]
  },
  {
   "cell_type": "code",
   "execution_count": 23,
   "id": "6f758877",
   "metadata": {},
   "outputs": [
    {
     "data": {
      "text/plain": [
       "'Rize'"
      ]
     },
     "execution_count": 23,
     "metadata": {},
     "output_type": "execute_result"
    }
   ],
   "source": [
    "yunus.memleket"
   ]
  },
  {
   "cell_type": "code",
   "execution_count": 24,
   "id": "77d3d477",
   "metadata": {},
   "outputs": [
    {
     "data": {
      "text/plain": [
       "'Rize'"
      ]
     },
     "execution_count": 24,
     "metadata": {},
     "output_type": "execute_result"
    }
   ],
   "source": [
    "yunus.nerdensin"
   ]
  },
  {
   "cell_type": "code",
   "execution_count": 25,
   "id": "d54d4684",
   "metadata": {},
   "outputs": [
    {
     "data": {
      "text/plain": [
       "19"
      ]
     },
     "execution_count": 25,
     "metadata": {},
     "output_type": "execute_result"
    }
   ],
   "source": [
    "yunus.yas"
   ]
  },
  {
   "cell_type": "code",
   "execution_count": 26,
   "id": "f540cc55",
   "metadata": {},
   "outputs": [
    {
     "name": "stdout",
     "output_type": "stream",
     "text": [
      "Init Çağrıldı\n"
     ]
    }
   ],
   "source": [
    "yunus = SuperKahraman(\"fearless\",19,\"Öğrenci\")"
   ]
  },
  {
   "cell_type": "code",
   "execution_count": 27,
   "id": "0e2ec698",
   "metadata": {},
   "outputs": [
    {
     "data": {
      "text/plain": [
       "'Öğrenci'"
      ]
     },
     "execution_count": 27,
     "metadata": {},
     "output_type": "execute_result"
    }
   ],
   "source": [
    "yunus.meslek"
   ]
  },
  {
   "cell_type": "code",
   "execution_count": 33,
   "id": "96bc23f4",
   "metadata": {},
   "outputs": [],
   "source": [
    "class SuperKahraman():\n",
    "    \n",
    "    ozelGuc = \"Görünmezlik\"\n",
    "    \n",
    "    def __init__(self,isimInput,yasInput,meslekInput):\n",
    "        print(\"Init Çağrıldı\")\n",
    "        self.isim = isimInput\n",
    "        self.yas = yasInput\n",
    "        self.meslek = meslekInput\n",
    "        \n",
    "    def ornekMethod():\n",
    "        print(\"ben süperkahramanım\")"
   ]
  },
  {
   "cell_type": "code",
   "execution_count": 48,
   "id": "2dc160e3",
   "metadata": {},
   "outputs": [
    {
     "name": "stdout",
     "output_type": "stream",
     "text": [
      "Init Çağrıldı\n"
     ]
    }
   ],
   "source": [
    "superman = SuperKahraman(\"Superman\",30,\"Öğrenci\")"
   ]
  },
  {
   "cell_type": "code",
   "execution_count": 35,
   "id": "b2e5ee59",
   "metadata": {},
   "outputs": [
    {
     "data": {
      "text/plain": [
       "'Görünmezlik'"
      ]
     },
     "execution_count": 35,
     "metadata": {},
     "output_type": "execute_result"
    }
   ],
   "source": [
    "superman.ozelGuc"
   ]
  },
  {
   "cell_type": "code",
   "execution_count": 36,
   "id": "be4d2277",
   "metadata": {},
   "outputs": [
    {
     "data": {
      "text/plain": [
       "30"
      ]
     },
     "execution_count": 36,
     "metadata": {},
     "output_type": "execute_result"
    }
   ],
   "source": [
    "superman.yas"
   ]
  },
  {
   "cell_type": "code",
   "execution_count": 37,
   "id": "b5905171",
   "metadata": {},
   "outputs": [
    {
     "data": {
      "text/plain": [
       "<bound method SuperKahraman.ornekMethod of <__main__.SuperKahraman object at 0x7ff279ee25b0>>"
      ]
     },
     "execution_count": 37,
     "metadata": {},
     "output_type": "execute_result"
    }
   ],
   "source": [
    "superman.ornekMethod"
   ]
  },
  {
   "cell_type": "code",
   "execution_count": 38,
   "id": "90fede1b",
   "metadata": {},
   "outputs": [
    {
     "ename": "TypeError",
     "evalue": "ornekMethod() takes 0 positional arguments but 1 was given",
     "output_type": "error",
     "traceback": [
      "\u001b[0;31m---------------------------------------------------------------------------\u001b[0m",
      "\u001b[0;31mTypeError\u001b[0m                                 Traceback (most recent call last)",
      "Input \u001b[0;32mIn [38]\u001b[0m, in \u001b[0;36m<cell line: 1>\u001b[0;34m()\u001b[0m\n\u001b[0;32m----> 1\u001b[0m \u001b[43msuperman\u001b[49m\u001b[38;5;241;43m.\u001b[39;49m\u001b[43mornekMethod\u001b[49m\u001b[43m(\u001b[49m\u001b[43m)\u001b[49m\n",
      "\u001b[0;31mTypeError\u001b[0m: ornekMethod() takes 0 positional arguments but 1 was given"
     ]
    }
   ],
   "source": [
    "superman.ornekMethod()"
   ]
  },
  {
   "cell_type": "code",
   "execution_count": 47,
   "id": "0222bfa5",
   "metadata": {},
   "outputs": [],
   "source": [
    "class SuperKahraman():\n",
    "    \n",
    "    ozelGuc = \"Görünmezlik\"\n",
    "    \n",
    "    def __init__(self,isimInput,yasInput,meslekInput):\n",
    "        print(\"Init Çağrıldı\")\n",
    "        self.isim = isimInput\n",
    "        self.yas = yasInput\n",
    "        self.meslek = meslekInput\n",
    "        \n",
    "    def ornekMethod(self):\n",
    "        print(f\"Ben Süperkahramanım {self.meslek}\")"
   ]
  },
  {
   "cell_type": "code",
   "execution_count": 49,
   "id": "c6890875",
   "metadata": {},
   "outputs": [
    {
     "name": "stdout",
     "output_type": "stream",
     "text": [
      "Ben Süperkahramanım Öğrenci\n"
     ]
    }
   ],
   "source": [
    "superman.ornekMethod()"
   ]
  },
  {
   "cell_type": "code",
   "execution_count": 56,
   "id": "80f3694e",
   "metadata": {},
   "outputs": [],
   "source": [
    "class Kopek():\n",
    "    def __init__(self,yas=5):\n",
    "        self.yas = yas\n",
    "        "
   ]
  },
  {
   "cell_type": "code",
   "execution_count": 51,
   "id": "a1220ddc",
   "metadata": {},
   "outputs": [
    {
     "ename": "TypeError",
     "evalue": "__init__() missing 1 required positional argument: 'yas'",
     "output_type": "error",
     "traceback": [
      "\u001b[0;31m---------------------------------------------------------------------------\u001b[0m",
      "\u001b[0;31mTypeError\u001b[0m                                 Traceback (most recent call last)",
      "Input \u001b[0;32mIn [51]\u001b[0m, in \u001b[0;36m<cell line: 1>\u001b[0;34m()\u001b[0m\n\u001b[0;32m----> 1\u001b[0m benimKopek \u001b[38;5;241m=\u001b[39m \u001b[43mKopek\u001b[49m\u001b[43m(\u001b[49m\u001b[43m)\u001b[49m\n",
      "\u001b[0;31mTypeError\u001b[0m: __init__() missing 1 required positional argument: 'yas'"
     ]
    }
   ],
   "source": [
    "benimKopek = Kopek()"
   ]
  },
  {
   "cell_type": "code",
   "execution_count": 57,
   "id": "d5740b32",
   "metadata": {},
   "outputs": [],
   "source": [
    "benimKopek = Kopek(3)"
   ]
  },
  {
   "cell_type": "code",
   "execution_count": 58,
   "id": "3b89aba2",
   "metadata": {},
   "outputs": [
    {
     "data": {
      "text/plain": [
       "3"
      ]
     },
     "execution_count": 58,
     "metadata": {},
     "output_type": "execute_result"
    }
   ],
   "source": [
    "benimKopek.yas"
   ]
  },
  {
   "cell_type": "code",
   "execution_count": 59,
   "id": "9545aaa3",
   "metadata": {},
   "outputs": [],
   "source": [
    "aslan = Kopek()"
   ]
  },
  {
   "cell_type": "code",
   "execution_count": 60,
   "id": "247491cb",
   "metadata": {},
   "outputs": [
    {
     "data": {
      "text/plain": [
       "5"
      ]
     },
     "execution_count": 60,
     "metadata": {},
     "output_type": "execute_result"
    }
   ],
   "source": [
    "aslan.yas"
   ]
  },
  {
   "cell_type": "code",
   "execution_count": 61,
   "id": "f0e3b764",
   "metadata": {},
   "outputs": [],
   "source": [
    "aslan = Kopek(12)"
   ]
  },
  {
   "cell_type": "code",
   "execution_count": 62,
   "id": "e1a2e262",
   "metadata": {},
   "outputs": [
    {
     "data": {
      "text/plain": [
       "12"
      ]
     },
     "execution_count": 62,
     "metadata": {},
     "output_type": "execute_result"
    }
   ],
   "source": [
    "aslan.yas"
   ]
  },
  {
   "cell_type": "code",
   "execution_count": 64,
   "id": "3fe774a3",
   "metadata": {},
   "outputs": [],
   "source": [
    "class Kopek():\n",
    "    def __init__(self,yas=5):\n",
    "        self.yas = yas\n",
    "        \n",
    "    def insanYasıHesaplama(self):\n",
    "        print(f\"Köpeğinizin İnsan Yaşı: {self.yas * 7}\")\n",
    "        "
   ]
  },
  {
   "cell_type": "code",
   "execution_count": 71,
   "id": "305cfeb2",
   "metadata": {},
   "outputs": [],
   "source": [
    "piggy = Kopek(17)"
   ]
  },
  {
   "cell_type": "code",
   "execution_count": 72,
   "id": "6d52b6bc",
   "metadata": {},
   "outputs": [
    {
     "data": {
      "text/plain": [
       "'Köpeğinizin İnsan Yaşı: 119'"
      ]
     },
     "execution_count": 72,
     "metadata": {},
     "output_type": "execute_result"
    }
   ],
   "source": [
    "piggy.insanYasıHesaplama()"
   ]
  },
  {
   "cell_type": "code",
   "execution_count": 70,
   "id": "8b623158",
   "metadata": {},
   "outputs": [],
   "source": [
    "class Kopek():\n",
    "    \n",
    "    yilCarpani = 7\n",
    "    \n",
    "    def __init__(self,yas=5):\n",
    "        self.yas = yas\n",
    "        \n",
    "    def insanYasıHesaplama(self):\n",
    "        return(f\"Köpeğinizin İnsan Yaşı: {self.yas * Kopek.yilCarpani}\")\n",
    "        "
   ]
  },
  {
   "cell_type": "code",
   "execution_count": 74,
   "id": "a6b7c5f0",
   "metadata": {},
   "outputs": [],
   "source": [
    "class Kopek():\n",
    "    \n",
    "    yilCarpani = 7\n",
    "    \n",
    "    def __init__(self,yas=5):\n",
    "        self.yas = yas\n",
    "        self.insanYas = yas * Kopek.yilCarpani\n",
    "        \n",
    "    def insanYasıHesaplama(self):\n",
    "        return(f\"Köpeğinizin İnsan Yaşı: {self.yas * Kopek.yilCarpani}\")\n",
    "        "
   ]
  },
  {
   "cell_type": "code",
   "execution_count": 76,
   "id": "4ed16396",
   "metadata": {},
   "outputs": [],
   "source": [
    "kaplan = Kopek(15)"
   ]
  },
  {
   "cell_type": "code",
   "execution_count": 77,
   "id": "05ac71b7",
   "metadata": {},
   "outputs": [
    {
     "data": {
      "text/plain": [
       "105"
      ]
     },
     "execution_count": 77,
     "metadata": {},
     "output_type": "execute_result"
    }
   ],
   "source": [
    "kaplan.insanYas"
   ]
  },
  {
   "cell_type": "markdown",
   "id": "153a55f2",
   "metadata": {},
   "source": [
    "# Inheritance"
   ]
  },
  {
   "cell_type": "code",
   "execution_count": 105,
   "id": "5b328b34",
   "metadata": {},
   "outputs": [],
   "source": [
    "class Hayvan():\n",
    "    def __init__(self):\n",
    "        print(\"Hayvan Sınıfı Init Çağrıldı\")\n",
    "        \n",
    "    def method1(self):\n",
    "        print(\"Hayvan Sınıfı 'method1' çağrıldı\")\n",
    "        \n",
    "    def method2(self):\n",
    "        print(\"Hayvan Sınıfı 'method2' çağrıldı\")"
   ]
  },
  {
   "cell_type": "code",
   "execution_count": 79,
   "id": "2a873d0d",
   "metadata": {},
   "outputs": [
    {
     "name": "stdout",
     "output_type": "stream",
     "text": [
      "Hayvan Sınıfı Init Çağrıldı\n"
     ]
    }
   ],
   "source": [
    "benimHayvanim = Hayvan()"
   ]
  },
  {
   "cell_type": "code",
   "execution_count": 80,
   "id": "1708dc8d",
   "metadata": {},
   "outputs": [
    {
     "name": "stdout",
     "output_type": "stream",
     "text": [
      "Hayvan Sınıfı 'method1' çağrıldı\n"
     ]
    }
   ],
   "source": [
    "benimHayvanim.method1()"
   ]
  },
  {
   "cell_type": "code",
   "execution_count": 81,
   "id": "e815611d",
   "metadata": {},
   "outputs": [
    {
     "name": "stdout",
     "output_type": "stream",
     "text": [
      "Hayvan Sınıfı 'method2' çağrıldı\n"
     ]
    }
   ],
   "source": [
    "benimHayvanim.method2()"
   ]
  },
  {
   "cell_type": "code",
   "execution_count": 82,
   "id": "1e373fb5",
   "metadata": {},
   "outputs": [],
   "source": [
    "class Kedi(Hayvan):\n",
    "    def __init__(self):\n",
    "        Hayvan.__init__(self)\n",
    "        print(\"Kedi Sınıfı Init Çağrıldı\")"
   ]
  },
  {
   "cell_type": "code",
   "execution_count": 83,
   "id": "2b2b7767",
   "metadata": {},
   "outputs": [
    {
     "name": "stdout",
     "output_type": "stream",
     "text": [
      "Hayvan Sınıfı Init Çağrıldı\n",
      "Kedi Sınıfı Init Çağrıldı\n"
     ]
    }
   ],
   "source": [
    "benimKedi = Kedi()"
   ]
  },
  {
   "cell_type": "code",
   "execution_count": 84,
   "id": "d2f01c43",
   "metadata": {},
   "outputs": [
    {
     "name": "stdout",
     "output_type": "stream",
     "text": [
      "Hayvan Sınıfı 'method1' çağrıldı\n"
     ]
    }
   ],
   "source": [
    "benimKedi.method1()"
   ]
  },
  {
   "cell_type": "code",
   "execution_count": 95,
   "id": "466bb77d",
   "metadata": {},
   "outputs": [],
   "source": [
    "class Kedi(Hayvan):\n",
    "    def __init__(self):\n",
    "        Hayvan.__init__(self)\n",
    "        print(\"Kedi Sınıfı Init Çağrıldı\")\n",
    "    \n",
    "    def miyavla(self):\n",
    "        print(\"miyav\")"
   ]
  },
  {
   "cell_type": "code",
   "execution_count": 96,
   "id": "41caa2b9",
   "metadata": {},
   "outputs": [
    {
     "name": "stdout",
     "output_type": "stream",
     "text": [
      "Hayvan Sınıfı Init Çağrıldı\n",
      "Kedi Sınıfı Init Çağrıldı\n"
     ]
    }
   ],
   "source": [
    "kedim = Kedi()"
   ]
  },
  {
   "cell_type": "code",
   "execution_count": 97,
   "id": "b1de4c0a",
   "metadata": {},
   "outputs": [
    {
     "name": "stdout",
     "output_type": "stream",
     "text": [
      "miyav\n"
     ]
    }
   ],
   "source": [
    "kedim.miyavla()"
   ]
  },
  {
   "cell_type": "code",
   "execution_count": 98,
   "id": "1c6f705f",
   "metadata": {},
   "outputs": [
    {
     "name": "stdout",
     "output_type": "stream",
     "text": [
      "Hayvan Sınıfı 'method1'\n"
     ]
    }
   ],
   "source": [
    "kedim.method1()"
   ]
  },
  {
   "cell_type": "code",
   "execution_count": 99,
   "id": "ad24c251",
   "metadata": {},
   "outputs": [],
   "source": [
    "class Kedi(Hayvan):\n",
    "    def __init__(self):\n",
    "        Hayvan.__init__(self)\n",
    "        print(\"Kedi Sınıfı Init Çağrıldı\")\n",
    "    \n",
    "    def miyavla(self):\n",
    "        print(\"miyav\")\n",
    "        \n",
    "    def method1(self):\n",
    "        print(\"kedideki method1\")"
   ]
  },
  {
   "cell_type": "code",
   "execution_count": 108,
   "id": "56755ecf",
   "metadata": {},
   "outputs": [
    {
     "name": "stdout",
     "output_type": "stream",
     "text": [
      "Hayvan Sınıfı Init Çağrıldı\n",
      "Kedi Sınıfı Init Çağrıldı\n"
     ]
    }
   ],
   "source": [
    "kedimm = Kedi()"
   ]
  },
  {
   "cell_type": "code",
   "execution_count": 109,
   "id": "0a9388d4",
   "metadata": {},
   "outputs": [
    {
     "name": "stdout",
     "output_type": "stream",
     "text": [
      "kedideki method1\n"
     ]
    }
   ],
   "source": [
    "kedimm.method1()"
   ]
  },
  {
   "cell_type": "code",
   "execution_count": 102,
   "id": "681e0ae5",
   "metadata": {},
   "outputs": [
    {
     "name": "stdout",
     "output_type": "stream",
     "text": [
      "Hayvan Sınıfı Init Çağrıldı\n",
      "Kedi Sınıfı Init Çağrıldı\n"
     ]
    }
   ],
   "source": [
    "aslan = Kedi()"
   ]
  },
  {
   "cell_type": "code",
   "execution_count": 106,
   "id": "bed5009e",
   "metadata": {},
   "outputs": [
    {
     "name": "stdout",
     "output_type": "stream",
     "text": [
      "Hayvan Sınıfı Init Çağrıldı\n"
     ]
    }
   ],
   "source": [
    "kaplann = Hayvan()"
   ]
  },
  {
   "cell_type": "code",
   "execution_count": 107,
   "id": "66504f1c",
   "metadata": {},
   "outputs": [
    {
     "name": "stdout",
     "output_type": "stream",
     "text": [
      "Hayvan Sınıfı 'method1' çağrıldı\n"
     ]
    }
   ],
   "source": [
    "kaplann.method1()"
   ]
  },
  {
   "cell_type": "markdown",
   "id": "d59bec93",
   "metadata": {},
   "source": [
    "## Polymorphism"
   ]
  },
  {
   "cell_type": "code",
   "execution_count": 110,
   "id": "9a531cec",
   "metadata": {},
   "outputs": [],
   "source": [
    "class Elma():\n",
    "    def __init__(self,isim):\n",
    "        self.isim = isim\n",
    "        \n",
    "    def bilgiVer(self):\n",
    "        return self.isim + \" 100 Kalori \"\n",
    "    "
   ]
  },
  {
   "cell_type": "code",
   "execution_count": 112,
   "id": "534dc318",
   "metadata": {},
   "outputs": [],
   "source": [
    "class Muz():\n",
    "    def __init__(self,isim):\n",
    "        self.isim = isim\n",
    "        \n",
    "    def bilgiVer(self):\n",
    "        return self.isim + \" 150 Kalori \""
   ]
  },
  {
   "cell_type": "code",
   "execution_count": 113,
   "id": "011d9d82",
   "metadata": {},
   "outputs": [],
   "source": [
    "elma = Elma(\"elma\")"
   ]
  },
  {
   "cell_type": "code",
   "execution_count": 115,
   "id": "045abeb3",
   "metadata": {},
   "outputs": [
    {
     "data": {
      "text/plain": [
       "'elma 100 Kalori '"
      ]
     },
     "execution_count": 115,
     "metadata": {},
     "output_type": "execute_result"
    }
   ],
   "source": [
    "elma.bilgiVer()"
   ]
  },
  {
   "cell_type": "code",
   "execution_count": 116,
   "id": "59b242e4",
   "metadata": {},
   "outputs": [],
   "source": [
    "muz = Muz(\"Muz\")"
   ]
  },
  {
   "cell_type": "code",
   "execution_count": 117,
   "id": "8a878ab3",
   "metadata": {},
   "outputs": [
    {
     "data": {
      "text/plain": [
       "'Muz 150 Kalori '"
      ]
     },
     "execution_count": 117,
     "metadata": {},
     "output_type": "execute_result"
    }
   ],
   "source": [
    "muz.bilgiVer()"
   ]
  },
  {
   "cell_type": "code",
   "execution_count": 118,
   "id": "4bab6484",
   "metadata": {},
   "outputs": [],
   "source": [
    "meyveListesi = [elma,muz]"
   ]
  },
  {
   "cell_type": "code",
   "execution_count": 119,
   "id": "e5b2e791",
   "metadata": {},
   "outputs": [
    {
     "name": "stdout",
     "output_type": "stream",
     "text": [
      "elma 100 Kalori \n",
      "Muz 150 Kalori \n"
     ]
    }
   ],
   "source": [
    "for meyve in meyveListesi:\n",
    "    print(meyve.bilgiVer())"
   ]
  },
  {
   "cell_type": "code",
   "execution_count": 124,
   "id": "0adffb03",
   "metadata": {},
   "outputs": [],
   "source": [
    "def bilgiAl(element):\n",
    "    print(element.bilgiVer())"
   ]
  },
  {
   "cell_type": "code",
   "execution_count": 125,
   "id": "eacfedd3",
   "metadata": {},
   "outputs": [
    {
     "name": "stdout",
     "output_type": "stream",
     "text": [
      "Muz 150 Kalori \n"
     ]
    }
   ],
   "source": [
    "bilgiAl(muz)"
   ]
  },
  {
   "cell_type": "code",
   "execution_count": 126,
   "id": "15d52a80",
   "metadata": {},
   "outputs": [
    {
     "name": "stdout",
     "output_type": "stream",
     "text": [
      "Muz 150 Kalori \n"
     ]
    }
   ],
   "source": [
    "bilgiAl(muz)"
   ]
  },
  {
   "cell_type": "code",
   "execution_count": 127,
   "id": "921299b4",
   "metadata": {},
   "outputs": [
    {
     "name": "stdout",
     "output_type": "stream",
     "text": [
      "elma 100 Kalori \n"
     ]
    }
   ],
   "source": [
    "bilgiAl(elma)"
   ]
  },
  {
   "cell_type": "code",
   "execution_count": null,
   "id": "55cace7d",
   "metadata": {},
   "outputs": [],
   "source": []
  }
 ],
 "metadata": {
  "kernelspec": {
   "display_name": "Python 3 (ipykernel)",
   "language": "python",
   "name": "python3"
  },
  "language_info": {
   "codemirror_mode": {
    "name": "ipython",
    "version": 3
   },
   "file_extension": ".py",
   "mimetype": "text/x-python",
   "name": "python",
   "nbconvert_exporter": "python",
   "pygments_lexer": "ipython3",
   "version": "3.9.12"
  }
 },
 "nbformat": 4,
 "nbformat_minor": 5
}
