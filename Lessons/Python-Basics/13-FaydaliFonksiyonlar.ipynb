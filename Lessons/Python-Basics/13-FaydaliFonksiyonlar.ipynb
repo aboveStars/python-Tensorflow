{
 "cells": [
  {
   "cell_type": "code",
   "execution_count": 1,
   "id": "83188a03",
   "metadata": {},
   "outputs": [],
   "source": [
    "def bolme(numara):\n",
    "    return numara / 2"
   ]
  },
  {
   "cell_type": "code",
   "execution_count": 2,
   "id": "46505132",
   "metadata": {},
   "outputs": [
    {
     "data": {
      "text/plain": [
       "5.0"
      ]
     },
     "execution_count": 2,
     "metadata": {},
     "output_type": "execute_result"
    }
   ],
   "source": [
    "bolme(10)"
   ]
  },
  {
   "cell_type": "code",
   "execution_count": 6,
   "id": "4f34e2cd",
   "metadata": {},
   "outputs": [],
   "source": [
    "myList = list(range(1,11))"
   ]
  },
  {
   "cell_type": "code",
   "execution_count": 7,
   "id": "194625de",
   "metadata": {},
   "outputs": [],
   "source": [
    "newList = []\n",
    "for eleman in myList:\n",
    "    newList.append(bolme(eleman))"
   ]
  },
  {
   "cell_type": "code",
   "execution_count": 8,
   "id": "f2cdef02",
   "metadata": {},
   "outputs": [
    {
     "data": {
      "text/plain": [
       "[0.5, 1.0, 1.5, 2.0, 2.5, 3.0, 3.5, 4.0, 4.5, 5.0]"
      ]
     },
     "execution_count": 8,
     "metadata": {},
     "output_type": "execute_result"
    }
   ],
   "source": [
    "newList"
   ]
  },
  {
   "cell_type": "markdown",
   "id": "41a9a797",
   "metadata": {},
   "source": [
    "## Map (Listeyi Fonksiyona gömme)\n"
   ]
  },
  {
   "cell_type": "code",
   "execution_count": 9,
   "id": "267c7176",
   "metadata": {},
   "outputs": [
    {
     "data": {
      "text/plain": [
       "<map at 0x7fb4e051c3d0>"
      ]
     },
     "execution_count": 9,
     "metadata": {},
     "output_type": "execute_result"
    }
   ],
   "source": [
    "map(bolme,myList)"
   ]
  },
  {
   "cell_type": "code",
   "execution_count": 10,
   "id": "4cedc581",
   "metadata": {},
   "outputs": [
    {
     "data": {
      "text/plain": [
       "[0.5, 1.0, 1.5, 2.0, 2.5, 3.0, 3.5, 4.0, 4.5, 5.0]"
      ]
     },
     "execution_count": 10,
     "metadata": {},
     "output_type": "execute_result"
    }
   ],
   "source": [
    "list(map(bolme,myList))"
   ]
  },
  {
   "cell_type": "code",
   "execution_count": 11,
   "id": "f7c52df3",
   "metadata": {},
   "outputs": [],
   "source": [
    "def kF(text):\n",
    "    return \"a\" in text\n",
    "    "
   ]
  },
  {
   "cell_type": "code",
   "execution_count": 12,
   "id": "847b3ce4",
   "metadata": {},
   "outputs": [
    {
     "data": {
      "text/plain": [
       "True"
      ]
     },
     "execution_count": 12,
     "metadata": {},
     "output_type": "execute_result"
    }
   ],
   "source": [
    "\"a\" in \"atıl\""
   ]
  },
  {
   "cell_type": "code",
   "execution_count": 13,
   "id": "52c95305",
   "metadata": {},
   "outputs": [
    {
     "data": {
      "text/plain": [
       "True"
      ]
     },
     "execution_count": 13,
     "metadata": {},
     "output_type": "execute_result"
    }
   ],
   "source": [
    "kF(\"atıl\")"
   ]
  },
  {
   "cell_type": "code",
   "execution_count": 14,
   "id": "d21c9378",
   "metadata": {},
   "outputs": [
    {
     "data": {
      "text/plain": [
       "False"
      ]
     },
     "execution_count": 14,
     "metadata": {},
     "output_type": "execute_result"
    }
   ],
   "source": [
    "kF(\"zeynep\")"
   ]
  },
  {
   "cell_type": "code",
   "execution_count": 15,
   "id": "f6c11a66",
   "metadata": {},
   "outputs": [],
   "source": [
    "sL = [\"atıl\",\"samancıoğlu\",\"atlas\",\"zeynep\",\"mehmet\",\"ahmet\",\"levent\"]"
   ]
  },
  {
   "cell_type": "code",
   "execution_count": 17,
   "id": "2c744fb3",
   "metadata": {},
   "outputs": [
    {
     "data": {
      "text/plain": [
       "4"
      ]
     },
     "execution_count": 17,
     "metadata": {},
     "output_type": "execute_result"
    }
   ],
   "source": [
    "list(map(kF,sL)).count(True)  "
   ]
  },
  {
   "cell_type": "markdown",
   "id": "52fb69f9",
   "metadata": {},
   "source": [
    "## Filter (filtreleme yapıp göstermeye yarar)"
   ]
  },
  {
   "cell_type": "code",
   "execution_count": 18,
   "id": "2079ddd8",
   "metadata": {
    "scrolled": true
   },
   "outputs": [
    {
     "data": {
      "text/plain": [
       "['atıl', 'samancıoğlu', 'atlas', 'ahmet']"
      ]
     },
     "execution_count": 18,
     "metadata": {},
     "output_type": "execute_result"
    }
   ],
   "source": [
    "list(filter(kF,sL))"
   ]
  },
  {
   "cell_type": "code",
   "execution_count": 46,
   "id": "8429a12e",
   "metadata": {},
   "outputs": [],
   "source": [
    "def oF(e):\n",
    "    return \"a\" in e\n",
    "    "
   ]
  },
  {
   "cell_type": "code",
   "execution_count": 47,
   "id": "79fc308e",
   "metadata": {},
   "outputs": [],
   "source": [
    "nL = filter(\n",
    "    oF, sL)"
   ]
  },
  {
   "cell_type": "code",
   "execution_count": 48,
   "id": "ff076d91",
   "metadata": {},
   "outputs": [],
   "source": [
    "nL = list(filter(oF,sL))"
   ]
  },
  {
   "cell_type": "code",
   "execution_count": 49,
   "id": "6cb7b537",
   "metadata": {},
   "outputs": [
    {
     "data": {
      "text/plain": [
       "['atıl', 'samancıoğlu', 'atlas', 'ahmet']"
      ]
     },
     "execution_count": 49,
     "metadata": {},
     "output_type": "execute_result"
    }
   ],
   "source": [
    "nL"
   ]
  },
  {
   "cell_type": "code",
   "execution_count": 50,
   "id": "b0adfd5d",
   "metadata": {},
   "outputs": [
    {
     "data": {
      "text/plain": [
       "[True, True, True, False, False, True, False]"
      ]
     },
     "execution_count": 50,
     "metadata": {},
     "output_type": "execute_result"
    }
   ],
   "source": [
    "list(map(oF,sL))"
   ]
  },
  {
   "cell_type": "code",
   "execution_count": 56,
   "id": "6198eec1",
   "metadata": {},
   "outputs": [],
   "source": [
    "def eF(number):\n",
    "    return number % 2 == 0\n",
    "    "
   ]
  },
  {
   "cell_type": "code",
   "execution_count": 57,
   "id": "711941be",
   "metadata": {},
   "outputs": [],
   "source": [
    "nL = list(range(1,11))"
   ]
  },
  {
   "cell_type": "code",
   "execution_count": 58,
   "id": "6d08d937",
   "metadata": {},
   "outputs": [],
   "source": [
    "myListR = list(filter(eF,nL))"
   ]
  },
  {
   "cell_type": "code",
   "execution_count": 59,
   "id": "33a64280",
   "metadata": {
    "scrolled": false
   },
   "outputs": [
    {
     "data": {
      "text/plain": [
       "[2, 4, 6, 8, 10]"
      ]
     },
     "execution_count": 59,
     "metadata": {},
     "output_type": "execute_result"
    }
   ],
   "source": [
    "myListR"
   ]
  },
  {
   "cell_type": "markdown",
   "id": "02111096",
   "metadata": {},
   "source": [
    "### Lambda (tek satırda fonksiyon)\n"
   ]
  },
  {
   "cell_type": "code",
   "execution_count": 19,
   "id": "7665620e",
   "metadata": {},
   "outputs": [],
   "source": [
    "carpma = lambda numara : numara *3"
   ]
  },
  {
   "cell_type": "code",
   "execution_count": 20,
   "id": "baaf2021",
   "metadata": {},
   "outputs": [
    {
     "data": {
      "text/plain": [
       "30"
      ]
     },
     "execution_count": 20,
     "metadata": {},
     "output_type": "execute_result"
    }
   ],
   "source": [
    "carpma(10)"
   ]
  },
  {
   "cell_type": "code",
   "execution_count": 28,
   "id": "d8c30e0b",
   "metadata": {},
   "outputs": [],
   "source": [
    "ornekListe = list(range(10,31,10))"
   ]
  },
  {
   "cell_type": "code",
   "execution_count": 29,
   "id": "9e909c7c",
   "metadata": {},
   "outputs": [
    {
     "data": {
      "text/plain": [
       "[10, 20, 30]"
      ]
     },
     "execution_count": 29,
     "metadata": {},
     "output_type": "execute_result"
    }
   ],
   "source": [
    "ornekListe"
   ]
  },
  {
   "cell_type": "code",
   "execution_count": 30,
   "id": "15c3dcb2",
   "metadata": {},
   "outputs": [
    {
     "data": {
      "text/plain": [
       "[30, 60, 90]"
      ]
     },
     "execution_count": 30,
     "metadata": {},
     "output_type": "execute_result"
    }
   ],
   "source": [
    "list(map(lambda num:num*3,ornekListe))"
   ]
  },
  {
   "cell_type": "code",
   "execution_count": null,
   "id": "7d5c3af9",
   "metadata": {},
   "outputs": [],
   "source": []
  }
 ],
 "metadata": {
  "kernelspec": {
   "display_name": "Python 3 (ipykernel)",
   "language": "python",
   "name": "python3"
  },
  "language_info": {
   "codemirror_mode": {
    "name": "ipython",
    "version": 3
   },
   "file_extension": ".py",
   "mimetype": "text/x-python",
   "name": "python",
   "nbconvert_exporter": "python",
   "pygments_lexer": "ipython3",
   "version": "3.9.12"
  }
 },
 "nbformat": 4,
 "nbformat_minor": 5
}
