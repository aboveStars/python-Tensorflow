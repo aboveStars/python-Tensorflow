{
 "cells": [
  {
   "cell_type": "code",
   "execution_count": 1,
   "id": "fbd7160f",
   "metadata": {},
   "outputs": [],
   "source": [
    "myList = [10,20,30,40,50]"
   ]
  },
  {
   "cell_type": "code",
   "execution_count": 3,
   "id": "3ff712ff",
   "metadata": {},
   "outputs": [
    {
     "name": "stdout",
     "output_type": "stream",
     "text": [
      "yes\n"
     ]
    }
   ],
   "source": [
    "if 10 in myList:\n",
    "    print(\"yes\")"
   ]
  },
  {
   "cell_type": "code",
   "execution_count": 4,
   "id": "54456159",
   "metadata": {},
   "outputs": [
    {
     "data": {
      "text/plain": [
       "9.23076923076923"
      ]
     },
     "execution_count": 4,
     "metadata": {},
     "output_type": "execute_result"
    }
   ],
   "source": [
    "myList[2]*4/13"
   ]
  },
  {
   "cell_type": "markdown",
   "id": "574e61ef",
   "metadata": {},
   "source": [
    "## For"
   ]
  },
  {
   "cell_type": "code",
   "execution_count": 9,
   "id": "2f79cf86",
   "metadata": {
    "scrolled": true
   },
   "outputs": [
    {
     "name": "stdout",
     "output_type": "stream",
     "text": [
      "döngü başladı\n",
      "20\n",
      "40\n",
      "60\n",
      "80\n",
      "100\n",
      "Döngü Bitti\n"
     ]
    }
   ],
   "source": [
    "print(\"döngü başladı\")\n",
    "for numara in myList: ## bu bitmeden alta geçemez\n",
    "    print(numara *2)\n",
    "print(\"Döngü Bitti\")"
   ]
  },
  {
   "cell_type": "code",
   "execution_count": 6,
   "id": "7b074990",
   "metadata": {},
   "outputs": [
    {
     "data": {
      "text/plain": [
       "50"
      ]
     },
     "execution_count": 6,
     "metadata": {},
     "output_type": "execute_result"
    }
   ],
   "source": [
    "numara\n"
   ]
  },
  {
   "cell_type": "code",
   "execution_count": 10,
   "id": "d8d4843c",
   "metadata": {},
   "outputs": [
    {
     "name": "stdout",
     "output_type": "stream",
     "text": [
      "16.666666666666668\n",
      "33.333333333333336\n",
      "50.0\n",
      "66.66666666666667\n",
      "83.33333333333333\n"
     ]
    }
   ],
   "source": [
    "for num in myList:\n",
    "    newNum = num * 5 / 3\n",
    "    print(newNum)"
   ]
  },
  {
   "cell_type": "code",
   "execution_count": 11,
   "id": "9eafbdac",
   "metadata": {},
   "outputs": [],
   "source": [
    "newList = [1,2,3,4,5,6]"
   ]
  },
  {
   "cell_type": "code",
   "execution_count": 13,
   "id": "a136d9fb",
   "metadata": {},
   "outputs": [
    {
     "name": "stdout",
     "output_type": "stream",
     "text": [
      "2\n",
      "4\n",
      "6\n"
     ]
    }
   ],
   "source": [
    "for rakam in newList:\n",
    "    if(rakam%2 == 0):\n",
    "        print(rakam)"
   ]
  },
  {
   "cell_type": "code",
   "execution_count": 14,
   "id": "892478bd",
   "metadata": {},
   "outputs": [],
   "source": [
    "newStr = \"yunus korkmaz\""
   ]
  },
  {
   "cell_type": "code",
   "execution_count": 15,
   "id": "1340b23c",
   "metadata": {},
   "outputs": [
    {
     "name": "stdout",
     "output_type": "stream",
     "text": [
      "y\n",
      "u\n",
      "n\n",
      "u\n",
      "s\n",
      " \n",
      "k\n",
      "o\n",
      "r\n",
      "k\n",
      "m\n",
      "a\n",
      "z\n"
     ]
    }
   ],
   "source": [
    "for harf in newStr:\n",
    "    print(harf)"
   ]
  },
  {
   "cell_type": "code",
   "execution_count": 16,
   "id": "76c05d2f",
   "metadata": {},
   "outputs": [],
   "source": [
    "myTuple = (1,2,3,4,5)"
   ]
  },
  {
   "cell_type": "code",
   "execution_count": 18,
   "id": "a3e6938e",
   "metadata": {},
   "outputs": [
    {
     "name": "stdout",
     "output_type": "stream",
     "text": [
      "1\n",
      "2\n",
      "3\n",
      "4\n",
      "5\n"
     ]
    }
   ],
   "source": [
    "for tE in myTuple:\n",
    "    print(tE)"
   ]
  },
  {
   "cell_type": "code",
   "execution_count": 27,
   "id": "733a62f0",
   "metadata": {},
   "outputs": [],
   "source": [
    "coList = [(10.2,15.2,14.3),(32.4,16.2,15),(40.2,20.2,14)]"
   ]
  },
  {
   "cell_type": "code",
   "execution_count": 20,
   "id": "b5824a7c",
   "metadata": {},
   "outputs": [
    {
     "data": {
      "text/plain": [
       "list"
      ]
     },
     "execution_count": 20,
     "metadata": {},
     "output_type": "execute_result"
    }
   ],
   "source": [
    "type(coList)"
   ]
  },
  {
   "cell_type": "code",
   "execution_count": 21,
   "id": "994139c9",
   "metadata": {},
   "outputs": [
    {
     "data": {
      "text/plain": [
       "tuple"
      ]
     },
     "execution_count": 21,
     "metadata": {},
     "output_type": "execute_result"
    }
   ],
   "source": [
    "type(coList[0])"
   ]
  },
  {
   "cell_type": "code",
   "execution_count": 22,
   "id": "e8544f07",
   "metadata": {},
   "outputs": [
    {
     "name": "stdout",
     "output_type": "stream",
     "text": [
      "(10.2, 15.2)\n",
      "(32.4, 16.2)\n",
      "(40.2, 20.2)\n"
     ]
    }
   ],
   "source": [
    "for t in coList:\n",
    "    print(t)"
   ]
  },
  {
   "cell_type": "code",
   "execution_count": 23,
   "id": "5f34fc53",
   "metadata": {},
   "outputs": [
    {
     "name": "stdout",
     "output_type": "stream",
     "text": [
      "10.2\n",
      "32.4\n",
      "40.2\n"
     ]
    }
   ],
   "source": [
    "for t in coList:\n",
    "    print(t[0])"
   ]
  },
  {
   "cell_type": "markdown",
   "id": "eeff855c",
   "metadata": {},
   "source": [
    "## Verileri Sınıflandırma"
   ]
  },
  {
   "cell_type": "code",
   "execution_count": 29,
   "id": "f9af4e69",
   "metadata": {},
   "outputs": [
    {
     "name": "stdout",
     "output_type": "stream",
     "text": [
      "15.2\n",
      "16.2\n",
      "20.2\n"
     ]
    }
   ],
   "source": [
    "for (x,y,z) in coList:\n",
    "    print(y)"
   ]
  },
  {
   "cell_type": "code",
   "execution_count": 30,
   "id": "d102b34b",
   "metadata": {},
   "outputs": [],
   "source": [
    "myWList = [(1,2,3),(4,5,6),(7,8,9)]"
   ]
  },
  {
   "cell_type": "code",
   "execution_count": 31,
   "id": "8efe2971",
   "metadata": {},
   "outputs": [
    {
     "name": "stdout",
     "output_type": "stream",
     "text": [
      "3\n",
      "6\n",
      "9\n"
     ]
    }
   ],
   "source": [
    "for (x,y,z) in myWList:\n",
    "    print(z)"
   ]
  },
  {
   "cell_type": "markdown",
   "id": "6a3e3da6",
   "metadata": {},
   "source": [
    "## Sözlük Kullanımı"
   ]
  },
  {
   "cell_type": "code",
   "execution_count": 32,
   "id": "e2fce4d9",
   "metadata": {},
   "outputs": [],
   "source": [
    "myDict = {\"muz\": 150, \"portakal\": 250, \"elma\":400}"
   ]
  },
  {
   "cell_type": "code",
   "execution_count": 33,
   "id": "8bf456f9",
   "metadata": {},
   "outputs": [
    {
     "data": {
      "text/plain": [
       "dict_items([('muz', 150), ('portakal', 250), ('elma', 400)])"
      ]
     },
     "execution_count": 33,
     "metadata": {},
     "output_type": "execute_result"
    }
   ],
   "source": [
    "myDict.items()"
   ]
  },
  {
   "cell_type": "code",
   "execution_count": 34,
   "id": "312f404a",
   "metadata": {},
   "outputs": [
    {
     "data": {
      "text/plain": [
       "dict_items"
      ]
     },
     "execution_count": 34,
     "metadata": {},
     "output_type": "execute_result"
    }
   ],
   "source": [
    "type(myDict.items())"
   ]
  },
  {
   "cell_type": "code",
   "execution_count": 35,
   "id": "9f52ab30",
   "metadata": {},
   "outputs": [
    {
     "data": {
      "text/plain": [
       "<function dict.items>"
      ]
     },
     "execution_count": 35,
     "metadata": {},
     "output_type": "execute_result"
    }
   ],
   "source": [
    "myDict.items"
   ]
  },
  {
   "cell_type": "code",
   "execution_count": 36,
   "id": "813fcc47",
   "metadata": {},
   "outputs": [
    {
     "data": {
      "text/plain": [
       "dict_items([('muz', 150), ('portakal', 250), ('elma', 400)])"
      ]
     },
     "execution_count": 36,
     "metadata": {},
     "output_type": "execute_result"
    }
   ],
   "source": [
    "myDict.items()"
   ]
  },
  {
   "cell_type": "code",
   "execution_count": 38,
   "id": "25ff93ff",
   "metadata": {},
   "outputs": [
    {
     "name": "stdout",
     "output_type": "stream",
     "text": [
      "150\n",
      "250\n",
      "400\n"
     ]
    }
   ],
   "source": [
    "for (key,value) in myDict.items():\n",
    "    print (value)"
   ]
  },
  {
   "cell_type": "code",
   "execution_count": null,
   "id": "6575caf6",
   "metadata": {},
   "outputs": [],
   "source": []
  }
 ],
 "metadata": {
  "kernelspec": {
   "display_name": "Python 3 (ipykernel)",
   "language": "python",
   "name": "python3"
  },
  "language_info": {
   "codemirror_mode": {
    "name": "ipython",
    "version": 3
   },
   "file_extension": ".py",
   "mimetype": "text/x-python",
   "name": "python",
   "nbconvert_exporter": "python",
   "pygments_lexer": "ipython3",
   "version": "3.9.12"
  }
 },
 "nbformat": 4,
 "nbformat_minor": 5
}
