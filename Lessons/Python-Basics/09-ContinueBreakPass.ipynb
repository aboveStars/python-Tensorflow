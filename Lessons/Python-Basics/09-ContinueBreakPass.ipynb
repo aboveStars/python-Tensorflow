{
 "cells": [
  {
   "cell_type": "code",
   "execution_count": 1,
   "id": "236aa2cf",
   "metadata": {},
   "outputs": [],
   "source": [
    "myList = [5,10,15,20,25,30]"
   ]
  },
  {
   "cell_type": "code",
   "execution_count": 2,
   "id": "58090e77",
   "metadata": {},
   "outputs": [
    {
     "name": "stdout",
     "output_type": "stream",
     "text": [
      "1.0\n",
      "2.0\n",
      "3.0\n",
      "4.0\n",
      "5.0\n",
      "6.0\n"
     ]
    }
   ],
   "source": [
    "for num in myList:\n",
    "    print(num/5)"
   ]
  },
  {
   "cell_type": "markdown",
   "id": "c9bcb356",
   "metadata": {},
   "source": [
    "## Break (döngüden tamamen çıkar)"
   ]
  },
  {
   "cell_type": "code",
   "execution_count": 4,
   "id": "da751088",
   "metadata": {},
   "outputs": [
    {
     "name": "stdout",
     "output_type": "stream",
     "text": [
      "5\n",
      "10\n"
     ]
    }
   ],
   "source": [
    "for num in myList:\n",
    "    if num == 15:\n",
    "        break\n",
    "    print(num)"
   ]
  },
  {
   "cell_type": "markdown",
   "id": "151e03dd",
   "metadata": {},
   "source": [
    "## Continue (direkt başa döner, onu atlar)"
   ]
  },
  {
   "cell_type": "code",
   "execution_count": 5,
   "id": "1b9d9a36",
   "metadata": {},
   "outputs": [
    {
     "name": "stdout",
     "output_type": "stream",
     "text": [
      "5\n",
      "10\n",
      "20\n",
      "25\n",
      "30\n"
     ]
    }
   ],
   "source": [
    "for num in myList:\n",
    "    if num == 15:\n",
    "        continue\n",
    "    print(num)"
   ]
  },
  {
   "cell_type": "markdown",
   "id": "113d1360",
   "metadata": {},
   "source": [
    "## Pass (Boşluk İçin)"
   ]
  },
  {
   "cell_type": "code",
   "execution_count": 10,
   "id": "59d44b79",
   "metadata": {
    "scrolled": true
   },
   "outputs": [
    {
     "ename": "IndentationError",
     "evalue": "expected an indented block (2561319220.py, line 4)",
     "output_type": "error",
     "traceback": [
      "\u001b[0;36m  Input \u001b[0;32mIn [10]\u001b[0;36m\u001b[0m\n\u001b[0;31m    print(num)\u001b[0m\n\u001b[0m    ^\u001b[0m\n\u001b[0;31mIndentationError\u001b[0m\u001b[0;31m:\u001b[0m expected an indented block\n"
     ]
    }
   ],
   "source": [
    "for num in myList:\n",
    "    if num == 20:\n",
    "        \n",
    "    print(num)"
   ]
  },
  {
   "cell_type": "code",
   "execution_count": 8,
   "id": "40422e9e",
   "metadata": {
    "scrolled": true
   },
   "outputs": [
    {
     "data": {
      "text/plain": [
       "[5, 10, 15, 20, 25, 30]"
      ]
     },
     "execution_count": 8,
     "metadata": {},
     "output_type": "execute_result"
    }
   ],
   "source": [
    "myList"
   ]
  },
  {
   "cell_type": "code",
   "execution_count": null,
   "id": "4baf5ddd",
   "metadata": {},
   "outputs": [],
   "source": []
  }
 ],
 "metadata": {
  "kernelspec": {
   "display_name": "Python 3 (ipykernel)",
   "language": "python",
   "name": "python3"
  },
  "language_info": {
   "codemirror_mode": {
    "name": "ipython",
    "version": 3
   },
   "file_extension": ".py",
   "mimetype": "text/x-python",
   "name": "python",
   "nbconvert_exporter": "python",
   "pygments_lexer": "ipython3",
   "version": "3.9.12"
  }
 },
 "nbformat": 4,
 "nbformat_minor": 5
}
