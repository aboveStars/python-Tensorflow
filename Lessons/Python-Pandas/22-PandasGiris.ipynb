{
 "cells": [
  {
   "cell_type": "code",
   "execution_count": 1,
   "id": "14b30c49",
   "metadata": {},
   "outputs": [],
   "source": [
    "import numpy as np\n",
    "import pandas as pd"
   ]
  },
  {
   "cell_type": "markdown",
   "id": "e05a68b6",
   "metadata": {},
   "source": [
    "## Series"
   ]
  },
  {
   "cell_type": "code",
   "execution_count": 2,
   "id": "58e141a4",
   "metadata": {},
   "outputs": [],
   "source": [
    "myDict = {\"Yunus\": 50, \"Zeynep\": 40, \"Mehmet\": 30}"
   ]
  },
  {
   "cell_type": "code",
   "execution_count": 3,
   "id": "36ab7a0a",
   "metadata": {},
   "outputs": [
    {
     "data": {
      "text/plain": [
       "Yunus     50\n",
       "Zeynep    40\n",
       "Mehmet    30\n",
       "dtype: int64"
      ]
     },
     "execution_count": 3,
     "metadata": {},
     "output_type": "execute_result"
    }
   ],
   "source": [
    "pd.Series(myDict)"
   ]
  },
  {
   "cell_type": "code",
   "execution_count": 4,
   "id": "830d526d",
   "metadata": {},
   "outputs": [
    {
     "data": {
      "text/plain": [
       "pandas.core.series.Series"
      ]
     },
     "execution_count": 4,
     "metadata": {},
     "output_type": "execute_result"
    }
   ],
   "source": [
    "type(pd.Series(myDict))"
   ]
  },
  {
   "cell_type": "code",
   "execution_count": 5,
   "id": "029ddbc0",
   "metadata": {},
   "outputs": [],
   "source": [
    "myYas = [50,40,30]\n",
    "myNames = [\"Yunus\",\"Zeynep\",\"Mehmet\"]"
   ]
  },
  {
   "cell_type": "code",
   "execution_count": 6,
   "id": "4ae5fbb0",
   "metadata": {},
   "outputs": [
    {
     "data": {
      "text/plain": [
       "0    50\n",
       "1    40\n",
       "2    30\n",
       "dtype: int64"
      ]
     },
     "execution_count": 6,
     "metadata": {},
     "output_type": "execute_result"
    }
   ],
   "source": [
    "pd.Series(myYas)"
   ]
  },
  {
   "cell_type": "code",
   "execution_count": 7,
   "id": "831633f7",
   "metadata": {},
   "outputs": [
    {
     "data": {
      "text/plain": [
       "Yunus     50\n",
       "Zeynep    40\n",
       "Mehmet    30\n",
       "dtype: int64"
      ]
     },
     "execution_count": 7,
     "metadata": {},
     "output_type": "execute_result"
    }
   ],
   "source": [
    "pd.Series(myYas,myNames)"
   ]
  },
  {
   "cell_type": "code",
   "execution_count": 8,
   "id": "d0bc9e93",
   "metadata": {},
   "outputs": [
    {
     "data": {
      "text/plain": [
       "Yunus     50\n",
       "Zeynep    40\n",
       "Mehmet    30\n",
       "dtype: int64"
      ]
     },
     "execution_count": 8,
     "metadata": {},
     "output_type": "execute_result"
    }
   ],
   "source": [
    "pd.Series(data=myYas, index = myNames)"
   ]
  },
  {
   "cell_type": "code",
   "execution_count": 9,
   "id": "b1b61bf1",
   "metadata": {},
   "outputs": [],
   "source": [
    "numpyDizisi = np.array([50,40,30])"
   ]
  },
  {
   "cell_type": "code",
   "execution_count": 10,
   "id": "a4ed326f",
   "metadata": {},
   "outputs": [
    {
     "data": {
      "text/plain": [
       "array([50, 40, 30])"
      ]
     },
     "execution_count": 10,
     "metadata": {},
     "output_type": "execute_result"
    }
   ],
   "source": [
    "numpyDizisi"
   ]
  },
  {
   "cell_type": "code",
   "execution_count": 11,
   "id": "dd7f06b8",
   "metadata": {},
   "outputs": [
    {
     "data": {
      "text/plain": [
       "0    50\n",
       "1    40\n",
       "2    30\n",
       "dtype: int64"
      ]
     },
     "execution_count": 11,
     "metadata": {},
     "output_type": "execute_result"
    }
   ],
   "source": [
    "pd.Series(numpyDizisi)"
   ]
  },
  {
   "cell_type": "code",
   "execution_count": 12,
   "id": "7af407b9",
   "metadata": {},
   "outputs": [
    {
     "data": {
      "text/plain": [
       "Yunus     50\n",
       "Zeynep    40\n",
       "Mehmet    30\n",
       "dtype: int64"
      ]
     },
     "execution_count": 12,
     "metadata": {},
     "output_type": "execute_result"
    }
   ],
   "source": [
    "pd.Series(data = numpyDizisi, index = myNames)"
   ]
  },
  {
   "cell_type": "code",
   "execution_count": 14,
   "id": "65d40326",
   "metadata": {},
   "outputs": [
    {
     "data": {
      "text/plain": [
       "1    Yunus\n",
       "2    Merve\n",
       "3    Deniz\n",
       "dtype: object"
      ]
     },
     "execution_count": 14,
     "metadata": {},
     "output_type": "execute_result"
    }
   ],
   "source": [
    "pd.Series([\"Yunus\",\"Merve\",\"Deniz\"], [1,2,3])"
   ]
  },
  {
   "cell_type": "code",
   "execution_count": 15,
   "id": "7bd0cacb",
   "metadata": {},
   "outputs": [],
   "source": [
    "compRes1 = pd.Series([10,5,1],[\"Yunus\",\"Merve\",\"Deniz\"])"
   ]
  },
  {
   "cell_type": "code",
   "execution_count": 16,
   "id": "7d3d3cf7",
   "metadata": {},
   "outputs": [
    {
     "data": {
      "text/plain": [
       "Yunus    10\n",
       "Merve     5\n",
       "Deniz     1\n",
       "dtype: int64"
      ]
     },
     "execution_count": 16,
     "metadata": {},
     "output_type": "execute_result"
    }
   ],
   "source": [
    "compRes1"
   ]
  },
  {
   "cell_type": "code",
   "execution_count": 17,
   "id": "c83abcd6",
   "metadata": {},
   "outputs": [],
   "source": [
    "compRes2 = pd.Series(data = [20,10,8], index = [\"Yunus\",\"Merve\",\"Deniz\"])"
   ]
  },
  {
   "cell_type": "code",
   "execution_count": 18,
   "id": "8a8feb56",
   "metadata": {},
   "outputs": [
    {
     "data": {
      "text/plain": [
       "Yunus    20\n",
       "Merve    10\n",
       "Deniz     8\n",
       "dtype: int64"
      ]
     },
     "execution_count": 18,
     "metadata": {},
     "output_type": "execute_result"
    }
   ],
   "source": [
    "compRes2"
   ]
  },
  {
   "cell_type": "code",
   "execution_count": 19,
   "id": "406c9451",
   "metadata": {},
   "outputs": [
    {
     "data": {
      "text/plain": [
       "20"
      ]
     },
     "execution_count": 19,
     "metadata": {},
     "output_type": "execute_result"
    }
   ],
   "source": [
    "compRes2[\"Yunus\"]"
   ]
  },
  {
   "cell_type": "code",
   "execution_count": 20,
   "id": "a5e5bec4",
   "metadata": {},
   "outputs": [],
   "source": [
    "sonSonuc = compRes1 + compRes2"
   ]
  },
  {
   "cell_type": "code",
   "execution_count": 21,
   "id": "157de665",
   "metadata": {},
   "outputs": [
    {
     "data": {
      "text/plain": [
       "Yunus    30\n",
       "Merve    15\n",
       "Deniz     9\n",
       "dtype: int64"
      ]
     },
     "execution_count": 21,
     "metadata": {},
     "output_type": "execute_result"
    }
   ],
   "source": [
    "sonSonuc"
   ]
  },
  {
   "cell_type": "code",
   "execution_count": 22,
   "id": "6c5ccc6f",
   "metadata": {},
   "outputs": [],
   "source": [
    "difSeries = pd.Series([20,30,40,50],[\"a\",\"b\",\"c\",\"d\"])"
   ]
  },
  {
   "cell_type": "code",
   "execution_count": 23,
   "id": "15db5cb9",
   "metadata": {},
   "outputs": [],
   "source": [
    "difSeries2 = pd.Series([10,5,3,1], [\"a\",\"c\",\"f\",\"g\"])"
   ]
  },
  {
   "cell_type": "code",
   "execution_count": 24,
   "id": "25a968e6",
   "metadata": {},
   "outputs": [
    {
     "data": {
      "text/plain": [
       "a    20\n",
       "b    30\n",
       "c    40\n",
       "d    50\n",
       "dtype: int64"
      ]
     },
     "execution_count": 24,
     "metadata": {},
     "output_type": "execute_result"
    }
   ],
   "source": [
    "difSeries"
   ]
  },
  {
   "cell_type": "code",
   "execution_count": 25,
   "id": "67913d00",
   "metadata": {},
   "outputs": [
    {
     "data": {
      "text/plain": [
       "a    10\n",
       "c     5\n",
       "f     3\n",
       "g     1\n",
       "dtype: int64"
      ]
     },
     "execution_count": 25,
     "metadata": {},
     "output_type": "execute_result"
    }
   ],
   "source": [
    "difSeries2"
   ]
  },
  {
   "cell_type": "code",
   "execution_count": 27,
   "id": "cca8f61c",
   "metadata": {
    "scrolled": true
   },
   "outputs": [
    {
     "data": {
      "text/plain": [
       "a    30.0\n",
       "b     NaN\n",
       "c    45.0\n",
       "d     NaN\n",
       "f     NaN\n",
       "g     NaN\n",
       "dtype: float64"
      ]
     },
     "execution_count": 27,
     "metadata": {},
     "output_type": "execute_result"
    }
   ],
   "source": [
    "difSeries + difSeries2"
   ]
  },
  {
   "cell_type": "code",
   "execution_count": null,
   "id": "9e1e1856",
   "metadata": {},
   "outputs": [],
   "source": []
  }
 ],
 "metadata": {
  "kernelspec": {
   "display_name": "Python 3 (ipykernel)",
   "language": "python",
   "name": "python3"
  },
  "language_info": {
   "codemirror_mode": {
    "name": "ipython",
    "version": 3
   },
   "file_extension": ".py",
   "mimetype": "text/x-python",
   "name": "python",
   "nbconvert_exporter": "python",
   "pygments_lexer": "ipython3",
   "version": "3.9.12"
  }
 },
 "nbformat": 4,
 "nbformat_minor": 5
}
