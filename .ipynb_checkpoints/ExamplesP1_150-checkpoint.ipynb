{
 "cells": [
  {
   "cell_type": "markdown",
   "metadata": {},
   "source": [
    "### Example 1"
   ]
  },
  {
   "cell_type": "code",
   "execution_count": 1,
   "metadata": {},
   "outputs": [
    {
     "name": "stdout",
     "output_type": "stream",
     "text": [
      "Twinkle, twinkle, little star, \n",
      "    How I Wonder what you are! \n",
      "       Up Above the world so high \n",
      "       Like a diamondin the sky. \n",
      "Twinkle, twinkle, little star, \n",
      "       How I Wonder what you are\n"
     ]
    }
   ],
   "source": [
    "print(\"Twinkle, twinkle, little star, \\n    How I Wonder what you are! \\n       Up Above the world so high \\n       Like a diamondin the sky. \\nTwinkle, twinkle, little star, \\n       How I Wonder what you are\")"
   ]
  },
  {
   "cell_type": "markdown",
   "metadata": {},
   "source": [
    "### Example 2"
   ]
  },
  {
   "cell_type": "code",
   "execution_count": 2,
   "metadata": {},
   "outputs": [
    {
     "name": "stdout",
     "output_type": "stream",
     "text": [
      "3.9.12 (main, Apr  5 2022, 01:53:17) \n",
      "[Clang 12.0.0 ]\n"
     ]
    }
   ],
   "source": [
    "print(sys.version)"
   ]
  },
  {
   "cell_type": "markdown",
   "metadata": {},
   "source": [
    "### Example 3"
   ]
  },
  {
   "cell_type": "code",
   "execution_count": 5,
   "metadata": {},
   "outputs": [
    {
     "data": {
      "text/plain": [
       "datetime.datetime(2022, 10, 23, 0, 57, 1, 951473)"
      ]
     },
     "execution_count": 5,
     "metadata": {},
     "output_type": "execute_result"
    }
   ],
   "source": [
    "import datetime\n",
    "\n",
    "\n",
    "datetime.datetime.now()"
   ]
  },
  {
   "cell_type": "markdown",
   "metadata": {},
   "source": [
    "### Example 4"
   ]
  },
  {
   "cell_type": "code",
   "execution_count": 6,
   "metadata": {},
   "outputs": [
    {
     "name": "stdout",
     "output_type": "stream",
     "text": [
      "Area of circle: 452.3893421169302\n"
     ]
    }
   ],
   "source": [
    "import math\n",
    "\n",
    "\n",
    "x = float(input(\"Radius: \"))\n",
    "print(f\"Area of circle: {x**2 * math.pi}\")"
   ]
  },
  {
   "cell_type": "markdown",
   "metadata": {},
   "source": [
    "### Example 5"
   ]
  },
  {
   "cell_type": "code",
   "execution_count": 7,
   "metadata": {},
   "outputs": [
    {
     "name": "stdout",
     "output_type": "stream",
     "text": [
      "Korkmaz Yunus\n"
     ]
    }
   ],
   "source": [
    "fN = input(\"İlk İsim: \")\n",
    "lN = input(\"Son İsim: \")\n",
    "\n",
    "print(f\"{lN} {fN}\")"
   ]
  },
  {
   "cell_type": "markdown",
   "metadata": {},
   "source": [
    "### Example 6"
   ]
  },
  {
   "cell_type": "code",
   "execution_count": 15,
   "metadata": {},
   "outputs": [
    {
     "name": "stdout",
     "output_type": "stream",
     "text": [
      "['yunus', 'korkmaz']\n",
      "('yunus', 'korkmaz')\n"
     ]
    }
   ],
   "source": [
    "x = input(\"Giriniz: \")\n",
    "\n",
    "y = []\n",
    "\n",
    "xE = x.split(\",\")\n",
    "\n",
    "y = xE\n",
    "z = tuple(y)\n",
    "\n",
    "print(y)\n",
    "print(z)"
   ]
  },
  {
   "cell_type": "markdown",
   "metadata": {},
   "source": [
    "### Example 7"
   ]
  },
  {
   "cell_type": "code",
   "execution_count": 16,
   "metadata": {},
   "outputs": [
    {
     "name": "stdout",
     "output_type": "stream",
     "text": [
      "apfs\n"
     ]
    }
   ],
   "source": [
    "fullName = input(\"Say my name: \")\n",
    "extensionName= fullName.split(\".\")[-1]\n",
    "print(extensionName)"
   ]
  },
  {
   "cell_type": "markdown",
   "metadata": {},
   "source": [
    "### Example 8"
   ]
  },
  {
   "cell_type": "code",
   "execution_count": 17,
   "metadata": {},
   "outputs": [
    {
     "name": "stdout",
     "output_type": "stream",
     "text": [
      "First: Red \n",
      "Second: Black\n"
     ]
    }
   ],
   "source": [
    "color_list = [\"Red\",\"Green\",\"White\" ,\"Black\"]\n",
    "print(f\"First: {color_list[0]} \\nSecond: {color_list[-1]}\")"
   ]
  },
  {
   "cell_type": "markdown",
   "metadata": {},
   "source": [
    "### Example 9"
   ]
  },
  {
   "cell_type": "code",
   "execution_count": 25,
   "metadata": {},
   "outputs": [
    {
     "name": "stdout",
     "output_type": "stream",
     "text": [
      "16/5/2003\n"
     ]
    }
   ],
   "source": [
    "deadLine = (16,5,2003)\n",
    "print(\"%i/%i/%i\"%deadLine)"
   ]
  },
  {
   "cell_type": "markdown",
   "metadata": {},
   "source": [
    "### Example 10"
   ]
  },
  {
   "cell_type": "code",
   "execution_count": 27,
   "metadata": {},
   "outputs": [
    {
     "name": "stdout",
     "output_type": "stream",
     "text": [
      "615\n"
     ]
    }
   ],
   "source": [
    "x = input(\"Say A Number: \")\n",
    "\n",
    "firstNumber = int(x)\n",
    "secondNumber = int(x + x)\n",
    "thirdNumber = int(x+x+x)\n",
    "\n",
    "print(firstNumber+secondNumber+thirdNumber)"
   ]
  },
  {
   "cell_type": "markdown",
   "metadata": {},
   "source": [
    "### Example 11\n"
   ]
  },
  {
   "cell_type": "code",
   "execution_count": 3,
   "metadata": {},
   "outputs": [
    {
     "name": "stdout",
     "output_type": "stream",
     "text": [
      "Return the absolute value of the argument.\n"
     ]
    }
   ],
   "source": [
    "print(abs.__doc__)\n"
   ]
  },
  {
   "cell_type": "markdown",
   "metadata": {},
   "source": [
    "### Example 12"
   ]
  },
  {
   "cell_type": "code",
   "execution_count": 4,
   "metadata": {},
   "outputs": [
    {
     "name": "stdout",
     "output_type": "stream",
     "text": [
      "      May 2003\n",
      "Mo Tu We Th Fr Sa Su\n",
      "          1  2  3  4\n",
      " 5  6  7  8  9 10 11\n",
      "12 13 14 15 16 17 18\n",
      "19 20 21 22 23 24 25\n",
      "26 27 28 29 30 31\n",
      "\n"
     ]
    }
   ],
   "source": [
    "import calendar\n",
    "\n",
    "\n",
    "y = int(input(\"Year: \"))\n",
    "m = int(input(\"Month: \"))\n",
    "\n",
    "print(calendar.month(y,m))"
   ]
  },
  {
   "cell_type": "markdown",
   "metadata": {},
   "source": [
    "### Example 13"
   ]
  },
  {
   "cell_type": "code",
   "execution_count": 8,
   "metadata": {},
   "outputs": [
    {
     "name": "stdout",
     "output_type": "stream",
     "text": [
      "\n",
      "Uzun ince bir yoldayım\n",
      "    Gidiyorum gündüz gece\n",
      "Bilmiyorum ne haldeyim\n",
      "    Gidiyorum gündüz gece\n",
      "\n"
     ]
    }
   ],
   "source": [
    "print(\"\"\"\n",
    "Uzun ince bir yoldayım\n",
    "    Gidiyorum gündüz gece\n",
    "Bilmiyorum ne haldeyim\n",
    "    Gidiyorum gündüz gece\n",
    "\"\"\")"
   ]
  },
  {
   "cell_type": "markdown",
   "metadata": {},
   "source": [
    "### Example 14"
   ]
  },
  {
   "cell_type": "code",
   "execution_count": 11,
   "metadata": {},
   "outputs": [
    {
     "name": "stdout",
     "output_type": "stream",
     "text": [
      "My Living Days: 7100 days, 0:00:00 \n"
     ]
    }
   ],
   "source": [
    "import datetime as dt\n",
    "firstDate = dt.date(2003,5,16)\n",
    "secondDate = dt.date(2022,10,23)\n",
    "\n",
    "print(f\"My Living Days: {secondDate-firstDate} \")\n"
   ]
  },
  {
   "cell_type": "markdown",
   "metadata": {},
   "source": [
    "### Example 15"
   ]
  },
  {
   "cell_type": "code",
   "execution_count": 12,
   "metadata": {},
   "outputs": [
    {
     "name": "stdout",
     "output_type": "stream",
     "text": [
      "678.5840131753953\n"
     ]
    }
   ],
   "source": [
    "import math as mt\n",
    "print(mt.pi * 6**3)"
   ]
  },
  {
   "cell_type": "markdown",
   "metadata": {},
   "source": [
    "### Example 16"
   ]
  },
  {
   "cell_type": "code",
   "execution_count": 15,
   "metadata": {},
   "outputs": [
    {
     "name": "stdout",
     "output_type": "stream",
     "text": [
      "7\n",
      "26\n"
     ]
    }
   ],
   "source": [
    "def weirdFunction(n):\n",
    "    if n<=17:\n",
    "        return 17-n\n",
    "    else:\n",
    "        return (n-17)*2\n",
    "\n",
    "print(weirdFunction(10))\n",
    "print(weirdFunction(30))\n"
   ]
  },
  {
   "cell_type": "markdown",
   "metadata": {},
   "source": [
    "### Example 17"
   ]
  },
  {
   "cell_type": "code",
   "execution_count": 17,
   "metadata": {},
   "outputs": [
    {
     "name": "stdout",
     "output_type": "stream",
     "text": [
      "True\n"
     ]
    }
   ],
   "source": [
    "def otherFunc(n):\n",
    "    if n in list(range(100,1001)):\n",
    "        return True\n",
    "\n",
    "print(otherFunc(500))"
   ]
  },
  {
   "cell_type": "markdown",
   "metadata": {},
   "source": [
    "### Example 18"
   ]
  },
  {
   "cell_type": "code",
   "execution_count": 24,
   "metadata": {},
   "outputs": [
    {
     "data": {
      "text/plain": [
       "60"
      ]
     },
     "execution_count": 24,
     "metadata": {},
     "output_type": "execute_result"
    }
   ],
   "source": [
    "def three_sisters(a,b,c):\n",
    "    sum = a + b + c\n",
    "\n",
    "    if(a==b==c):\n",
    "        return sum * 3\n",
    "    else:\n",
    "        return sum\n",
    "\n",
    "three_sisters(10,20,30)\n"
   ]
  },
  {
   "cell_type": "markdown",
   "metadata": {},
   "source": [
    "### Example 19"
   ]
  },
  {
   "cell_type": "code",
   "execution_count": 30,
   "metadata": {},
   "outputs": [
    {
     "name": "stdout",
     "output_type": "stream",
     "text": [
      "Isildur\n",
      "Isyunus\n",
      "Not Interested\n"
     ]
    }
   ],
   "source": [
    "def stringFunc(s):\n",
    "    if len(s) <= 2:\n",
    "        return \"Not Interested\"\n",
    "    \n",
    "    else:\n",
    "        firstTwo = s[:2]\n",
    "        if firstTwo == \"Is\":\n",
    "            return s\n",
    "        else:\n",
    "            return f\"Is{s}\"\n",
    "\n",
    "\n",
    "print(stringFunc(\"Isildur\"))\n",
    "print(stringFunc(\"yunus\"))\n",
    "print(stringFunc(\"Is\"))"
   ]
  },
  {
   "cell_type": "markdown",
   "metadata": {},
   "source": [
    "### Example 20"
   ]
  },
  {
   "cell_type": "code",
   "execution_count": 37,
   "metadata": {},
   "outputs": [
    {
     "name": "stdout",
     "output_type": "stream",
     "text": [
      "YunusYunusYunusYunusYunus\n",
      "False\n"
     ]
    }
   ],
   "source": [
    "def stringCopier(s,n):\n",
    "    return s*n\n",
    "\n",
    "#stringCopier(\"Yunus\",5)\n",
    "\n",
    "def largeString(s,n):\n",
    "\n",
    "    if n <= 0:\n",
    "        return False\n",
    "    \n",
    "\n",
    "    x = \"\"\n",
    "\n",
    "    for i in range(n):\n",
    "        x = x + s\n",
    "    \n",
    "    return x\n",
    "\n",
    "\n",
    "print(largeString(\"Yunus\",5))\n",
    "print(largeString(\"yunus\",-1))\n",
    "\n",
    "    "
   ]
  },
  {
   "cell_type": "markdown",
   "metadata": {},
   "source": [
    "### Example 21"
   ]
  },
  {
   "cell_type": "code",
   "execution_count": 39,
   "metadata": {},
   "outputs": [
    {
     "name": "stdout",
     "output_type": "stream",
     "text": [
      "This Number is odd\n"
     ]
    }
   ],
   "source": [
    "x = int(input(\"Please give a number: \"))\n",
    "\n",
    "\n",
    "if x%2 == 0:\n",
    "    print(\"This Number is even\") \n",
    "else:\n",
    "    print(\"This Number is odd\") "
   ]
  },
  {
   "cell_type": "markdown",
   "metadata": {},
   "source": [
    "### Example 22"
   ]
  },
  {
   "cell_type": "code",
   "execution_count": 50,
   "metadata": {},
   "outputs": [
    {
     "name": "stdout",
     "output_type": "stream",
     "text": [
      "2\n",
      "3\n"
     ]
    }
   ],
   "source": [
    "def four_finder(i):\n",
    "    tempList = list(i)\n",
    "    return tempList.count(4)\n",
    "\n",
    "print(four_finder([12,13,14,4,4]))\n",
    "\n",
    "def foru_finder_new(i):\n",
    "\n",
    "    count = 0\n",
    "    \n",
    "    for v in i:\n",
    "        if v==4:\n",
    "            count = count + 1\n",
    "\n",
    "    return count \n",
    "\n",
    "print(foru_finder_new([4,0,4,3,4,2]))\n"
   ]
  },
  {
   "cell_type": "markdown",
   "metadata": {},
   "source": [
    "### Example 23"
   ]
  },
  {
   "cell_type": "code",
   "execution_count": 52,
   "metadata": {},
   "outputs": [
    {
     "name": "stdout",
     "output_type": "stream",
     "text": [
      "yunusyunusyunusyunusyunusyunusyunusyunusyunusyunus\n",
      "aaaa\n"
     ]
    }
   ],
   "source": [
    "def weirdStringFuntion(s,n):\n",
    "    if len(s) < 2:\n",
    "        emptyString = \"\"\n",
    "        for i in range(n):\n",
    "            emptyString = emptyString + s\n",
    "        return emptyString\n",
    "\n",
    "    else:\n",
    "        neededPart = s[:2]\n",
    "        emptyString = \"\"\n",
    "        for i in range(n):\n",
    "            emptyString = emptyString + s\n",
    "        \n",
    "        return emptyString\n",
    "\n",
    "print(weirdStringFuntion(\"yunus\",10))\n",
    "print(weirdStringFuntion(\"a\",4))\n",
    "\n",
    "\n",
    "\n"
   ]
  },
  {
   "cell_type": "markdown",
   "metadata": {},
   "source": [
    "### Example 24"
   ]
  },
  {
   "cell_type": "code",
   "execution_count": 59,
   "metadata": {},
   "outputs": [
    {
     "name": "stdout",
     "output_type": "stream",
     "text": [
      "It is NOWEL\n",
      "It is NOWEL\n",
      "It is NOT NOWEL\n"
     ]
    }
   ],
   "source": [
    "def vowelOrNot(l):\n",
    "    vowelS = [\"A\",\"E\",\"I\",\"O\",\"U\"]\n",
    "    vowelSC = list()\n",
    "\n",
    "    for e in vowelS:\n",
    "        vowelSC.append(e.lower())\n",
    "\n",
    "    if l in vowelS or l in vowelSC:\n",
    "        return \"It is NOWEL\"\n",
    "    else:\n",
    "        return \"It is NOT NOWEL\"\n",
    "\n",
    "print(vowelOrNot(\"a\"))\n",
    "print(vowelOrNot(\"I\"))\n",
    "print(vowelOrNot(\"x\"))\n",
    "\n",
    "\n"
   ]
  },
  {
   "cell_type": "markdown",
   "metadata": {},
   "source": [
    "### Example 25"
   ]
  },
  {
   "cell_type": "code",
   "execution_count": 60,
   "metadata": {},
   "outputs": [
    {
     "name": "stdout",
     "output_type": "stream",
     "text": [
      "True\n",
      "False\n"
     ]
    }
   ],
   "source": [
    "def magicFunc(e,l):\n",
    "    if e in l:\n",
    "        return True\n",
    "    else:\n",
    "        return False\n",
    "\n",
    "print(magicFunc(5,[5,10,15]))\n",
    "print(magicFunc(1,[2,3,4,5,6]))"
   ]
  },
  {
   "cell_type": "markdown",
   "metadata": {},
   "source": [
    "### Example 26"
   ]
  },
  {
   "cell_type": "code",
   "execution_count": 61,
   "metadata": {},
   "outputs": [
    {
     "name": "stdout",
     "output_type": "stream",
     "text": [
      "@\n",
      "@@\n",
      "@@@\n",
      "@@@@\n",
      "@@@@@\n",
      "@@@@\n",
      "@@@\n",
      "@@\n",
      "@\n"
     ]
    }
   ],
   "source": [
    "def histogram_creator(ob,hT):\n",
    "    for n in hT:\n",
    "        print(ob*n)\n",
    "\n",
    "histogram_creator(\"@\",[1,2,3,4,5,4,3,2,1])\n"
   ]
  },
  {
   "cell_type": "markdown",
   "metadata": {},
   "source": [
    "### Example 27"
   ]
  },
  {
   "cell_type": "code",
   "execution_count": 63,
   "metadata": {},
   "outputs": [
    {
     "name": "stdout",
     "output_type": "stream",
     "text": [
      "121yunuselon1413-1\n"
     ]
    }
   ],
   "source": [
    "def concatenateFunc(l):\n",
    "    sum = \"\"\n",
    "    for e in l:\n",
    "        sum = sum + str(e)\n",
    "    return sum\n",
    "\n",
    "print(concatenateFunc([1,2,1,\"yunus\",\"elon\",14,13,-1,]))"
   ]
  },
  {
   "cell_type": "markdown",
   "metadata": {},
   "source": [
    "### Example 28"
   ]
  },
  {
   "cell_type": "code",
   "execution_count": 76,
   "metadata": {},
   "outputs": [
    {
     "name": "stdout",
     "output_type": "stream",
     "text": [
      "386\n",
      "462\n",
      "418\n",
      "344\n",
      "236\n",
      "566\n",
      "978\n",
      "328\n",
      "162\n",
      "758\n",
      "918\n",
      "237\n"
     ]
    }
   ],
   "source": [
    "def listEvener(l):\n",
    "    for e in l:\n",
    "        if e != 237:\n",
    "            if e %2 == 0:\n",
    "                print(e)\n",
    "        else:\n",
    "            print(237)\n",
    "            break\n",
    "        \n",
    "\n",
    "listEvener([386, 462, 47, 418, 907, 344, 236, 375, 823, 566, 597, 978, 328, 615, 953, 345, \n",
    "    399, 162, 758, 219, 918, 237, 412, 566, 826, 248, 866, 950, 626, 949, 687, 217, \n",
    "    815, 67, 104, 58, 512, 24, 892, 894, 767, 553, 81, 379, 843, 831, 445, 742, 717, \n",
    "    958,743, 527])\n"
   ]
  },
  {
   "cell_type": "markdown",
   "metadata": {},
   "source": [
    "### Example 29"
   ]
  },
  {
   "cell_type": "code",
   "execution_count": 82,
   "metadata": {},
   "outputs": [
    {
     "name": "stdout",
     "output_type": "stream",
     "text": [
      "['Black', 'White']\n",
      "{'Black', 'White'}\n",
      "{'Green'}\n"
     ]
    }
   ],
   "source": [
    "color_list_1 = set([\"White\",\"Black\",\"Red\"])\n",
    "color_list_2 = set([\"Red\",\"Green\"])\n",
    "\n",
    "finalList = []\n",
    "\n",
    "for c in color_list_1:\n",
    "    if c not in color_list_2:\n",
    "        finalList.append(c)\n",
    "print(finalList)\n",
    "\n",
    "\n",
    "print(color_list_1.difference(color_list_2))\n",
    "print(color_list_2.difference(color_list_1))"
   ]
  },
  {
   "cell_type": "markdown",
   "metadata": {},
   "source": [
    "### Example 30"
   ]
  },
  {
   "cell_type": "code",
   "execution_count": 83,
   "metadata": {},
   "outputs": [
    {
     "name": "stdout",
     "output_type": "stream",
     "text": [
      "30.0\n"
     ]
    }
   ],
   "source": [
    "def calculateAreOfTriangle(b,h):\n",
    "    return b*h/2\n",
    "\n",
    "print(calculateAreOfTriangle(10,6))\n"
   ]
  },
  {
   "cell_type": "markdown",
   "metadata": {},
   "source": [
    "### Example 31"
   ]
  },
  {
   "cell_type": "code",
   "execution_count": 11,
   "metadata": {},
   "outputs": [
    {
     "name": "stdout",
     "output_type": "stream",
     "text": [
      "1\n"
     ]
    }
   ],
   "source": [
    "def gcdCalculater(n1,n2):\n",
    "    gcd = 0\n",
    "\n",
    "    for i in range(min(n1,n2) + 1):\n",
    "        if i != 0:\n",
    "            if n1%i == 0 and n2%i == 0:\n",
    "                gcd = i\n",
    "\n",
    "    return gcd\n",
    "\n",
    "print(gcdCalculater(1,5))"
   ]
  },
  {
   "cell_type": "markdown",
   "metadata": {},
   "source": [
    "### Example 32"
   ]
  },
  {
   "cell_type": "code",
   "execution_count": 18,
   "metadata": {},
   "outputs": [
    {
     "name": "stdout",
     "output_type": "stream",
     "text": [
      "91\n"
     ]
    }
   ],
   "source": [
    "def lcmCalculater(n1,n2):\n",
    "    \n",
    "    bigNumber = max(n1,n2)\n",
    "    lcm = bigNumber\n",
    "\n",
    "    while lcm%n1 != 0 or lcm%n2 !=0:\n",
    "        lcm += 1\n",
    "    return lcm\n",
    "\n",
    "print(lcmCalculater(13,91))\n",
    "\n",
    "\n"
   ]
  },
  {
   "cell_type": "markdown",
   "metadata": {},
   "source": [
    "### Example 33\n"
   ]
  },
  {
   "cell_type": "code",
   "execution_count": 22,
   "metadata": {},
   "outputs": [
    {
     "name": "stdout",
     "output_type": "stream",
     "text": [
      "0\n"
     ]
    }
   ],
   "source": [
    "def weirdSumFunciton(a,b,c):\n",
    "    if a == b or a == c or b == c:\n",
    "        return 0\n",
    "    else:\n",
    "        return a + b + c\n",
    "print(weirdSumFunciton(3,3,2))\n"
   ]
  },
  {
   "cell_type": "markdown",
   "metadata": {},
   "source": [
    "### Example 34"
   ]
  },
  {
   "cell_type": "code",
   "execution_count": 23,
   "metadata": {},
   "outputs": [
    {
     "name": "stdout",
     "output_type": "stream",
     "text": [
      "7\n",
      "20\n"
     ]
    }
   ],
   "source": [
    "def strangeSumFunc(a,b):\n",
    "    sum = a + b\n",
    "\n",
    "    if sum in range(15,21):\n",
    "        return 20\n",
    "\n",
    "    else:\n",
    "        return sum\n",
    "\n",
    "print (strangeSumFunc(3,4))\n",
    "print(strangeSumFunc(8,9))"
   ]
  },
  {
   "cell_type": "markdown",
   "metadata": {},
   "source": [
    "### Example 35"
   ]
  },
  {
   "cell_type": "code",
   "execution_count": 24,
   "metadata": {},
   "outputs": [
    {
     "name": "stdout",
     "output_type": "stream",
     "text": [
      "True\n",
      "True\n",
      "False\n"
     ]
    }
   ],
   "source": [
    "def fiveOrEqualFunc(a,b):\n",
    "    if a == b or abs(a-b) == 5:\n",
    "        return True\n",
    "    else :\n",
    "        return False\n",
    "\n",
    "print(fiveOrEqualFunc(10,5))\n",
    "print(fiveOrEqualFunc(10,10))\n",
    "print(fiveOrEqualFunc(10,32))\n"
   ]
  },
  {
   "cell_type": "markdown",
   "metadata": {},
   "source": [
    "### Example 36"
   ]
  },
  {
   "cell_type": "code",
   "execution_count": 28,
   "metadata": {},
   "outputs": [
    {
     "name": "stdout",
     "output_type": "stream",
     "text": [
      "7\n",
      "give integer values only\n",
      "give integer values only\n",
      "give integer values only\n"
     ]
    }
   ],
   "source": [
    "def sumFunc(a,b):\n",
    "    if isinstance(a,int) and isinstance(b,int):\n",
    "        return a + b\n",
    "    else:\n",
    "        return \"give integer values only\"\n",
    "print(sumFunc(3,4))\n",
    "print(sumFunc(5,5.1))\n",
    "print(sumFunc(2.1,2.1))\n",
    "print(sumFunc(\"c\",\"y\"))"
   ]
  },
  {
   "cell_type": "markdown",
   "metadata": {},
   "source": [
    "### Example 37"
   ]
  },
  {
   "cell_type": "code",
   "execution_count": 35,
   "metadata": {},
   "outputs": [
    {
     "name": "stdout",
     "output_type": "stream",
     "text": [
      "Name: Yunus \n",
      "Age: 19 \n",
      "Adress: Istanbul/Ümraniye\n"
     ]
    }
   ],
   "source": [
    "def personal_details():\n",
    "    name, age, adress = \"Yunus\",19,\"Istanbul/Ümraniye\"\n",
    "    return \"Name: {} \\nAge: {} \\nAdress: {}\".format(name,age,adress)\n",
    "\n",
    "print(personal_details())"
   ]
  },
  {
   "cell_type": "markdown",
   "metadata": {},
   "source": [
    "### Example 38"
   ]
  },
  {
   "cell_type": "code",
   "execution_count": 36,
   "metadata": {},
   "outputs": [
    {
     "name": "stdout",
     "output_type": "stream",
     "text": [
      "225\n"
     ]
    }
   ],
   "source": [
    "def strangeFunc(a,b):\n",
    "    sum = a + b\n",
    "    return sum **2\n",
    "\n",
    "print(strangeFunc(10,5))\n"
   ]
  },
  {
   "cell_type": "markdown",
   "metadata": {},
   "source": [
    "### Example 39"
   ]
  },
  {
   "cell_type": "code",
   "execution_count": 38,
   "metadata": {},
   "outputs": [
    {
     "data": {
      "text/plain": [
       "8"
      ]
     },
     "execution_count": 38,
     "metadata": {},
     "output_type": "execute_result"
    }
   ],
   "source": [
    "def interestRateCalculater(p,r,n,t):\n",
    "    return round(((1+r/n)*p)**t)\n",
    "\n",
    "interestRateCalculater(1,2,3,4)"
   ]
  },
  {
   "cell_type": "markdown",
   "metadata": {},
   "source": [
    "### Example 40"
   ]
  },
  {
   "cell_type": "code",
   "execution_count": 45,
   "metadata": {},
   "outputs": [
    {
     "name": "stdout",
     "output_type": "stream",
     "text": [
      "8.0\n"
     ]
    }
   ],
   "source": [
    "from math import sqrt\n",
    "\n",
    "\n",
    "def twoPointDistance(p1,p2):\n",
    "    xDistance = abs(p1[0]-p2[0])\n",
    "    yDistance = abs(p1[1]-p2[1])\n",
    "\n",
    "    return sqrt(xDistance**2 + yDistance**2)\n",
    "\n",
    "print(twoPointDistance((5,0),(5,8)))"
   ]
  },
  {
   "cell_type": "markdown",
   "metadata": {},
   "source": [
    "### Example 41"
   ]
  },
  {
   "cell_type": "code",
   "execution_count": 4,
   "metadata": {},
   "outputs": [
    {
     "name": "stdout",
     "output_type": "stream",
     "text": [
      "True\n"
     ]
    }
   ],
   "source": [
    "import os\n",
    "\n",
    "print(os.path.exists(\"/Users/yunusmerve/Documents/MerveninFelsefeÖdevi.docx\"))"
   ]
  },
  {
   "cell_type": "markdown",
   "metadata": {},
   "source": [
    "### Example 42\n"
   ]
  },
  {
   "cell_type": "code",
   "execution_count": 5,
   "metadata": {},
   "outputs": [
    {
     "name": "stdout",
     "output_type": "stream",
     "text": [
      "64bit\n"
     ]
    }
   ],
   "source": [
    "import platform\n",
    "\n",
    "print(platform.architecture()[0])"
   ]
  },
  {
   "cell_type": "markdown",
   "metadata": {},
   "source": [
    "### Example 43"
   ]
  },
  {
   "cell_type": "code",
   "execution_count": 6,
   "metadata": {},
   "outputs": [
    {
     "name": "stdout",
     "output_type": "stream",
     "text": [
      "\n",
      "Name of the Operating System: posix\n",
      "Name of the OS System: Darwin\n",
      "Version of the Operating System: 21.6.0\n",
      "\n"
     ]
    }
   ],
   "source": [
    "import os\n",
    "import platform\n",
    "\n",
    "print(f\"\"\"\n",
    "Name of the Operating System: {os.name}\n",
    "Name of the OS System: {platform.system()}\n",
    "Version of the Operating System: {platform.release()}\n",
    "\"\"\")"
   ]
  },
  {
   "cell_type": "markdown",
   "metadata": {},
   "source": [
    "### Example 44"
   ]
  },
  {
   "cell_type": "code",
   "execution_count": 7,
   "metadata": {},
   "outputs": [
    {
     "name": "stdout",
     "output_type": "stream",
     "text": [
      "['/Users/yunusmerve/opt/anaconda3/lib/python3.9/site-packages']\n"
     ]
    }
   ],
   "source": [
    "import site\n",
    "print(site.getsitepackages())"
   ]
  },
  {
   "cell_type": "markdown",
   "metadata": {},
   "source": [
    "### Example 45"
   ]
  },
  {
   "cell_type": "code",
   "execution_count": 9,
   "metadata": {},
   "outputs": [
    {
     "name": "stdout",
     "output_type": "stream",
     "text": [
      "01 - Variables.ipynb\n",
      "02-Listeler[].ipynb\n",
      "03-Sozlukler{}.ipynb\n",
      "04-Setler(Diziler){}.ipynb\n",
      "05-Tuple().ipynb\n",
      "06-Boolean.ipynb\n",
      "07-EgerKontrolleri.ipynb\n",
      "08-ForLoop.ipynb\n",
      "09-ContinueBreakPass.ipynb\n",
      "10-WhileLoop.ipynb\n",
      "11- VeriBilimiMetotlar.ipynb\n",
      "12-FonksiyonlarMethodlar.ipynb\n",
      "13-FaydaliFonksiyonlar.ipynb\n",
      "14-Kapsam(Scope).ipynb\n",
      "15-HesapMakinesi.ipynb\n",
      "16-OOP.ipynb\n",
      "17-OOP-OzelMethodlar.ipynb\n",
      "18-HataHandling.ipynb\n",
      "19-Moduller.ipynb\n",
      "20-NumpyGiris.ipynb\n",
      "21-NumpyOperasyonlar.ipynb\n",
      "22-PandasGiris.ipynb\n",
      "23-DataFramePandas.ipynb\n",
      "24-PandasOperasyonlar.ipynb\n",
      "26-PandasExcel.ipynb\n",
      "27-MatplotlibGiris.ipynb\n",
      "ExamplesP1_150.ipynb\n",
      "PandasOperasyonDevamı.ipynb\n",
      "maasBilgisi.xlsx\n",
      "tamMaas.xlsx\n",
      "0\n"
     ]
    }
   ],
   "source": [
    "import os\n",
    "print(os.system('ls'))"
   ]
  },
  {
   "cell_type": "markdown",
   "metadata": {},
   "source": [
    "### Example 46"
   ]
  },
  {
   "cell_type": "code",
   "execution_count": 12,
   "metadata": {},
   "outputs": [
    {
     "ename": "NameError",
     "evalue": "name '__file__' is not defined",
     "output_type": "error",
     "traceback": [
      "\u001b[0;31m---------------------------------------------------------------------------\u001b[0m",
      "\u001b[0;31mNameError\u001b[0m                                 Traceback (most recent call last)",
      "\u001b[1;32m/Users/yunusmerve/Documents/PythonDevlet/ExamplesP1_150.ipynb Cell 92\u001b[0m in \u001b[0;36m<cell line: 2>\u001b[0;34m()\u001b[0m\n\u001b[1;32m      <a href='vscode-notebook-cell:/Users/yunusmerve/Documents/PythonDevlet/ExamplesP1_150.ipynb#Y205sZmlsZQ%3D%3D?line=0'>1</a>\u001b[0m \u001b[39mimport\u001b[39;00m \u001b[39mos\u001b[39;00m\n\u001b[0;32m----> <a href='vscode-notebook-cell:/Users/yunusmerve/Documents/PythonDevlet/ExamplesP1_150.ipynb#Y205sZmlsZQ%3D%3D?line=1'>2</a>\u001b[0m \u001b[39mprint\u001b[39m(\u001b[39mf\u001b[39m\u001b[39m\"\u001b[39m\u001b[39mCurrent File Name: \u001b[39m\u001b[39m{\u001b[39;00mos\u001b[39m.\u001b[39mpath\u001b[39m.\u001b[39mrealpath(\u001b[39m__file__\u001b[39m)\u001b[39m}\u001b[39;00m\u001b[39m\"\u001b[39m)\n",
      "\u001b[0;31mNameError\u001b[0m: name '__file__' is not defined"
     ]
    }
   ],
   "source": [
    "import os\n",
    "print(f\"Current File Name: {os.path.realpath(__file__)}\")"
   ]
  },
  {
   "cell_type": "markdown",
   "metadata": {},
   "source": [
    "### Example 47"
   ]
  },
  {
   "cell_type": "code",
   "execution_count": 13,
   "metadata": {},
   "outputs": [
    {
     "name": "stdout",
     "output_type": "stream",
     "text": [
      "8\n"
     ]
    }
   ],
   "source": [
    "import multiprocessing\n",
    "\n",
    "print(multiprocessing.cpu_count())"
   ]
  },
  {
   "cell_type": "markdown",
   "metadata": {},
   "source": [
    "### Example 48"
   ]
  },
  {
   "cell_type": "code",
   "execution_count": 15,
   "metadata": {},
   "outputs": [
    {
     "name": "stdout",
     "output_type": "stream",
     "text": [
      "\n",
      "1453.12\n",
      "1453.12\n",
      "1453\n",
      "\n"
     ]
    }
   ],
   "source": [
    "x = \"1453.12\"\n",
    "\n",
    "y = float(x)\n",
    "z = int(y)\n",
    "\n",
    "print(f\"\"\"\n",
    "{x}\n",
    "{y}\n",
    "{z}\n",
    "\"\"\")"
   ]
  },
  {
   "cell_type": "markdown",
   "metadata": {},
   "source": [
    "### Example 49"
   ]
  },
  {
   "cell_type": "code",
   "execution_count": 16,
   "metadata": {},
   "outputs": [
    {
     "name": "stdout",
     "output_type": "stream",
     "text": [
      "['RebaseTestProjesi', '.DS_Store', 'JavaKitabı', 'Kitap', 'GitKursu', 'KotlinKitabi']\n"
     ]
    }
   ],
   "source": [
    "import os\n",
    "\n",
    "path = \"/Users/yunusmerve/Desktop/GitGenel\"\n",
    "dir_list = os.listdir(path)\n",
    "\n",
    "print(dir_list)\n"
   ]
  },
  {
   "cell_type": "markdown",
   "metadata": {},
   "source": [
    "### Example 50"
   ]
  },
  {
   "cell_type": "code",
   "execution_count": 22,
   "metadata": {},
   "outputs": [
    {
     "name": "stdout",
     "output_type": "stream",
     "text": [
      "*****\n",
      "yunus korkmazc\n"
     ]
    }
   ],
   "source": [
    "for i in range(5):\n",
    "    print(\"*\", end=\"\")\n",
    "\n",
    "print(\"\\nyunus\",end=\" korkmaz\")\n",
    "print(\"c\")"
   ]
  },
  {
   "cell_type": "markdown",
   "metadata": {},
   "source": [
    "### Example 51"
   ]
  },
  {
   "cell_type": "code",
   "execution_count": 27,
   "metadata": {},
   "outputs": [
    {
     "name": "stdout",
     "output_type": "stream",
     "text": [
      "xxxxx         157 function calls in 0.001 seconds\n",
      "\n",
      "   Ordered by: standard name\n",
      "\n",
      "   ncalls  tottime  percall  cumtime  percall filename:lineno(function)\n",
      "        1    0.000    0.000    0.001    0.001 2694685293.py:2(sumFunc)\n",
      "        1    0.000    0.000    0.001    0.001 <string>:1(<module>)\n",
      "       11    0.000    0.000    0.001    0.000 iostream.py:208(schedule)\n",
      "       10    0.000    0.000    0.000    0.000 iostream.py:420(_is_master_process)\n",
      "       10    0.000    0.000    0.000    0.000 iostream.py:439(_schedule_flush)\n",
      "       10    0.000    0.000    0.001    0.000 iostream.py:502(write)\n",
      "       11    0.000    0.000    0.000    0.000 iostream.py:97(_event_pipe)\n",
      "       11    0.001    0.000    0.001    0.000 socket.py:480(send)\n",
      "       11    0.000    0.000    0.000    0.000 threading.py:1059(_wait_for_tstate_lock)\n",
      "       11    0.000    0.000    0.000    0.000 threading.py:1126(is_alive)\n",
      "       11    0.000    0.000    0.000    0.000 threading.py:529(is_set)\n",
      "        1    0.000    0.000    0.001    0.001 {built-in method builtins.exec}\n",
      "       10    0.000    0.000    0.000    0.000 {built-in method builtins.isinstance}\n",
      "       10    0.000    0.000    0.000    0.000 {built-in method builtins.len}\n",
      "        5    0.000    0.000    0.001    0.000 {built-in method builtins.print}\n",
      "       10    0.000    0.000    0.000    0.000 {built-in method posix.getpid}\n",
      "       11    0.000    0.000    0.000    0.000 {method 'acquire' of '_thread.lock' objects}\n",
      "       11    0.000    0.000    0.000    0.000 {method 'append' of 'collections.deque' objects}\n",
      "        1    0.000    0.000    0.000    0.000 {method 'disable' of '_lsprof.Profiler' objects}\n",
      "\n",
      "\n"
     ]
    }
   ],
   "source": [
    "import cProfile\n",
    "def sumFunc():\n",
    "    for e in range(5):\n",
    "        print(\"x\",end=\"\")\n",
    "cProfile.run('sumFunc()')"
   ]
  },
  {
   "cell_type": "markdown",
   "metadata": {},
   "source": [
    "### Example 52"
   ]
  },
  {
   "cell_type": "code",
   "execution_count": 28,
   "metadata": {},
   "outputs": [
    {
     "name": "stderr",
     "output_type": "stream",
     "text": [
      "Very big error\n"
     ]
    }
   ],
   "source": [
    "import sys\n",
    "print(\"Very big error\", file=sys.stderr)"
   ]
  },
  {
   "cell_type": "markdown",
   "metadata": {},
   "source": [
    "### Example 53"
   ]
  },
  {
   "cell_type": "code",
   "execution_count": 33,
   "metadata": {},
   "outputs": [
    {
     "name": "stdout",
     "output_type": "stream",
     "text": [
      "environ({'SHELL': '/bin/zsh', 'TMPDIR': '/var/folders/mh/x5vmc6194szf246rdvs1s6n40000gn/T/', 'CONDA_SHLVL': '1', 'CONDA_PROMPT_MODIFIER': '(base) ', 'PYTHONUNBUFFERED': '1', 'MallocNanoZone': '0', 'ORIGINAL_XDG_CURRENT_DESKTOP': 'undefined', 'USER': 'yunusmerve', 'PYTHONIOENCODING': 'utf-8', 'COMMAND_MODE': 'unix2003', 'CONDA_EXE': '/Users/yunusmerve/opt/anaconda3/bin/conda', 'SSH_AUTH_SOCK': '/private/tmp/com.apple.launchd.0LHtbuAyjQ/Listeners', '__CF_USER_TEXT_ENCODING': '0x1F5:0x0:0x0', 'ELECTRON_RUN_AS_NODE': '1', 'VSCODE_AMD_ENTRYPOINT': 'vs/workbench/api/node/extensionHostProcess', '_CE_CONDA': '', 'CONDA_ROOT': '/Users/yunusmerve/opt/anaconda3', 'PATH': '/Users/yunusmerve/opt/anaconda3/bin:/Users/yunusmerve/opt/anaconda3/condabin:/opt/homebrew/bin:/usr/local/bin:/usr/bin:/bin:/usr/sbin:/sbin:/usr/local/share/dotnet:/Users/yunusmerve/.dotnet/tools:/Library/Frameworks/Mono.framework/Versions/Current/Commands', '__CFBundleIdentifier': 'com.microsoft.VSCode', 'CONDA_PREFIX': '/Users/yunusmerve/opt/anaconda3', 'PWD': '/', 'VSCODE_HANDLES_UNCAUGHT_ERRORS': 'true', 'XPC_FLAGS': '0x0', 'XPC_SERVICE_NAME': '0', '_CE_M': '', 'HOME': '/Users/yunusmerve', 'SHLVL': '2', 'VSCODE_NLS_CONFIG': '{\"locale\":\"en-us\",\"availableLanguages\":{},\"_languagePackSupport\":true}', 'LOGNAME': 'yunusmerve', 'CONDA_PYTHON_EXE': '/Users/yunusmerve/opt/anaconda3/bin/python', 'LC_CTYPE': 'UTF-8', 'VSCODE_CODE_CACHE_PATH': '/Users/yunusmerve/Library/Application Support/Code/CachedData/d045a5eda657f4d7b676dedbfa7aab8207f8a075', 'VSCODE_IPC_HOOK': '/Users/yunusmerve/Library/Application Support/Code/1.72.2-main.sock', 'CONDA_DEFAULT_ENV': 'base', 'VSCODE_PID': '32199', 'VSCODE_CWD': '/', '_': '/Users/yunusmerve/opt/anaconda3/bin/python', 'PYTHONPATH': '/Users/yunusmerve/.vscode/extensions/ms-toolsai.jupyter-2022.9.1202862440/pythonFiles:/Users/yunusmerve/.vscode/extensions/ms-toolsai.jupyter-2022.9.1202862440/pythonFiles/lib/python', 'JUPYTER_PATH': '/Users/yunusmerve/.vscode/extensions/ms-toolsai.jupyter-2022.9.1202862440/temp/jupyter', 'PYDEVD_USE_FRAME_EVAL': 'NO', 'OLDPWD': '/', 'JPY_PARENT_PID': '32451', 'TERM': 'xterm-color', 'CLICOLOR': '1', 'PAGER': 'cat', 'GIT_PAGER': 'cat', 'MPLBACKEND': 'module://matplotlib_inline.backend_inline', 'PYDEVD_IPYTHON_COMPATIBLE_DEBUGGING': '1'})\n"
     ]
    }
   ],
   "source": [
    "import os\n",
    "print(os.environ)"
   ]
  },
  {
   "cell_type": "markdown",
   "metadata": {},
   "source": [
    "### Example 54"
   ]
  },
  {
   "cell_type": "code",
   "execution_count": 34,
   "metadata": {},
   "outputs": [
    {
     "name": "stdout",
     "output_type": "stream",
     "text": [
      "yunusmerve\n"
     ]
    }
   ],
   "source": [
    "import getpass\n",
    "print(getpass.getuser())"
   ]
  },
  {
   "cell_type": "markdown",
   "metadata": {},
   "source": [
    "### Example 55"
   ]
  },
  {
   "cell_type": "code",
   "execution_count": 36,
   "metadata": {},
   "outputs": [
    {
     "name": "stdout",
     "output_type": "stream",
     "text": [
      "Our IP Adress: 127.0.0.1\n"
     ]
    }
   ],
   "source": [
    "import socket\n",
    "hostname = socket.gethostname()\n",
    "IPadress = socket.gethostbyname(hostname)\n",
    "\n",
    "print(f\"Our IP Adress: {IPadress}\")"
   ]
  },
  {
   "cell_type": "markdown",
   "metadata": {},
   "source": [
    "## RNA Question"
   ]
  },
  {
   "cell_type": "code",
   "execution_count": 42,
   "metadata": {},
   "outputs": [
    {
     "data": {
      "text/plain": [
       "'yunuş'"
      ]
     },
     "execution_count": 42,
     "metadata": {},
     "output_type": "execute_result"
    }
   ],
   "source": [
    "a = \"yunus\"\n",
    "listOfa = list(a)\n",
    "listOfa[4] =  \"ş\"\n",
    "\n",
    "aN = ''.join(listOfa)\n",
    "aN"
   ]
  },
  {
   "cell_type": "code",
   "execution_count": 44,
   "metadata": {},
   "outputs": [
    {
     "name": "stdout",
     "output_type": "stream",
     "text": [
      "UCCA AUUU UCGA ACGU UDCG UDCG AUUU CGUU AUUU CGUU UCCC\n"
     ]
    }
   ],
   "source": [
    "def rnaConverter(DNA):\n",
    "    tempList = list(DNA)\n",
    "    editingList = tempList\n",
    "    index = -1\n",
    "    for l in tempList:\n",
    "        index += 1\n",
    "        if l == \"G\":\n",
    "            editingList[index] = \"C\"\n",
    "        elif l == \"C\":\n",
    "            editingList[index] = \"G\"\n",
    "        elif l == \"T\":\n",
    "            editingList[index] = \"A\"\n",
    "        elif l == \"A\":\n",
    "            editingList[index] = \"U\"\n",
    "    return ''.join(editingList)\n",
    "\n",
    "print(rnaConverter(\"AGGT TAAA AGCT TGCA ADGC ADGC TAAA GCAA TAAA GCAA AGGG\"))\n",
    "            \n"
   ]
  },
  {
   "cell_type": "code",
   "execution_count": 1,
   "metadata": {},
   "outputs": [],
   "source": [
    "import numpy as np\n"
   ]
  },
  {
   "cell_type": "code",
   "execution_count": 7,
   "metadata": {},
   "outputs": [
    {
     "name": "stdout",
     "output_type": "stream",
     "text": [
      "[[1 2 3]\n",
      " [2 3 4]\n",
      " [3 4 5]]\n"
     ]
    }
   ],
   "source": [
    "arr = np.array([[1,2,3],[2,3,4],[3,4,5]])\n",
    "print(arr)"
   ]
  },
  {
   "cell_type": "code",
   "execution_count": 9,
   "metadata": {},
   "outputs": [
    {
     "name": "stdout",
     "output_type": "stream",
     "text": [
      "[[[1 2 3]\n",
      "  [2 3 4]\n",
      "  [3 4 5]\n",
      "  [2 3 4]\n",
      "  [2 3 4]\n",
      "  [2 3 4]]]\n"
     ]
    }
   ],
   "source": [
    "arr = np.array([[[1,2,3],[2,3,4],[3,4,5],[2,3,4],[2,3,4],[2,3,4]]])\n",
    "print(arr)"
   ]
  },
  {
   "cell_type": "code",
   "execution_count": 10,
   "metadata": {},
   "outputs": [
    {
     "name": "stdout",
     "output_type": "stream",
     "text": [
      "0\n",
      "1\n",
      "2\n",
      "3\n"
     ]
    }
   ],
   "source": [
    "a = np.array(42)\n",
    "b = np.array([1, 2, 3, 4, 5])\n",
    "c = np.array([[1, 2, 3], [4, 5, 6]])\n",
    "d = np.array([[[1, 2, 3], [4, 5, 6]], [[1, 2, 3], [4, 5, 6]]])\n",
    "\n",
    "print(a.ndim)\n",
    "print(b.ndim)\n",
    "print(c.ndim)\n",
    "print(d.ndim)"
   ]
  },
  {
   "cell_type": "code",
   "execution_count": 12,
   "metadata": {},
   "outputs": [
    {
     "name": "stdout",
     "output_type": "stream",
     "text": [
      "[[[[[12]]]]]\n"
     ]
    }
   ],
   "source": [
    "arr = np.array(12, ndmin=5)\n",
    "print(arr)"
   ]
  },
  {
   "cell_type": "code",
   "execution_count": 18,
   "metadata": {},
   "outputs": [
    {
     "name": "stdout",
     "output_type": "stream",
     "text": [
      "1\n"
     ]
    }
   ],
   "source": [
    "arr = np.array([1,2,3], ndmin=1)\n",
    "print(arr.ndim)"
   ]
  },
  {
   "cell_type": "code",
   "execution_count": 19,
   "metadata": {},
   "outputs": [
    {
     "name": "stdout",
     "output_type": "stream",
     "text": [
      "1\n"
     ]
    }
   ],
   "source": [
    "print(arr[0])\n"
   ]
  },
  {
   "cell_type": "code",
   "execution_count": 22,
   "metadata": {},
   "outputs": [
    {
     "name": "stdout",
     "output_type": "stream",
     "text": [
      "[[1 2 3]\n",
      " [1 2 3]\n",
      " [1 2 3]]\n",
      "2\n"
     ]
    }
   ],
   "source": [
    "arr = np.array([[1,2,3],[1,2,3],[1,2,3]])\n",
    "print(arr)\n",
    "print(arr.ndim)"
   ]
  },
  {
   "cell_type": "code",
   "execution_count": 30,
   "metadata": {},
   "outputs": [],
   "source": [
    "arr = np.array([[[1,2,3],[1,2,3],[1,2,3]]])"
   ]
  },
  {
   "cell_type": "code",
   "execution_count": 31,
   "metadata": {},
   "outputs": [
    {
     "data": {
      "text/plain": [
       "(1, 3, 3)"
      ]
     },
     "execution_count": 31,
     "metadata": {},
     "output_type": "execute_result"
    }
   ],
   "source": [
    "arr.shape"
   ]
  },
  {
   "cell_type": "code",
   "execution_count": 33,
   "metadata": {},
   "outputs": [],
   "source": [
    "arr = np.array([1,2,3,4,5,6])"
   ]
  },
  {
   "cell_type": "code",
   "execution_count": 34,
   "metadata": {},
   "outputs": [
    {
     "data": {
      "text/plain": [
       "array([[1, 2, 3],\n",
       "       [4, 5, 6]])"
      ]
     },
     "execution_count": 34,
     "metadata": {},
     "output_type": "execute_result"
    }
   ],
   "source": [
    "arr.reshape(2,3)"
   ]
  },
  {
   "cell_type": "code",
   "execution_count": 47,
   "metadata": {},
   "outputs": [
    {
     "name": "stdout",
     "output_type": "stream",
     "text": [
      "[[[1 2]\n",
      "  [1 2]]\n",
      "\n",
      " [[2 3]\n",
      "  [2 3]]]\n"
     ]
    }
   ],
   "source": [
    "ar = np.array([[1,2],[1,2]])\n",
    "arr = np.array([[2,3],[2,3]])\n",
    "a = np.concatenate((arr,ar), axis=0)\n",
    "#print(a)\n",
    "b = np.stack((ar,arr),axis=0)\n",
    "print(b)"
   ]
  },
  {
   "cell_type": "code",
   "execution_count": 50,
   "metadata": {},
   "outputs": [
    {
     "data": {
      "text/plain": [
       "12"
      ]
     },
     "execution_count": 50,
     "metadata": {},
     "output_type": "execute_result"
    }
   ],
   "source": [
    "myDict = {'y': 12}\n",
    "myDict[\"y\"]"
   ]
  },
  {
   "cell_type": "code",
   "execution_count": null,
   "metadata": {},
   "outputs": [],
   "source": []
  }
 ],
 "metadata": {
  "kernelspec": {
   "display_name": "Python 3 (ipykernel)",
   "language": "python",
   "name": "python3"
  },
  "language_info": {
   "codemirror_mode": {
    "name": "ipython",
    "version": 3
   },
   "file_extension": ".py",
   "mimetype": "text/x-python",
   "name": "python",
   "nbconvert_exporter": "python",
   "pygments_lexer": "ipython3",
   "version": "3.9.13"
  },
  "vscode": {
   "interpreter": {
    "hash": "283103cdf23164261a4f80376715adc876c767435c04e1d0b04cd8909e4fdcab"
   }
  }
 },
 "nbformat": 4,
 "nbformat_minor": 2
}
