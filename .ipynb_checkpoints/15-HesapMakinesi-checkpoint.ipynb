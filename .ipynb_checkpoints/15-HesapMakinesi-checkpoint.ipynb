{
 "cells": [
  {
   "cell_type": "code",
   "execution_count": 1,
   "id": "0291ab36",
   "metadata": {},
   "outputs": [],
   "source": [
    "def hesapla(n1,n2,w):\n",
    "    if(w not in \"+*\"):\n",
    "        return \"Omg\"\n",
    "        \n",
    "    if w == \"+\":\n",
    "        return (str(a)+\" \"+\" \"+str(b) + \" \" + \"= \" + str(a+b))\n",
    "    elif w == \"*\":\n",
    "        return n1*n2\n",
    "    "
   ]
  },
  {
   "cell_type": "code",
   "execution_count": null,
   "id": "36d4ec09",
   "metadata": {},
   "outputs": [
    {
     "name": "stdout",
     "output_type": "stream",
     "text": [
      "İlk Sayıyı giriniz: 10\n",
      "İkinci Sayıyı Giriniz:  20\n",
      "İşleminizi Seçiniz: +,-,*,/+\n",
      "10.0  20.0 = 30.0\n",
      "İlk Sayıyı giriniz: 10\n",
      "İkinci Sayıyı Giriniz:  20\n",
      "İşleminizi Seçiniz: +,-,*,/*\n",
      "200.0\n",
      "İlk Sayıyı giriniz: merhaba\n",
      "Lütfen Doğru Gir\n",
      "İlk Sayıyı giriniz: 20\n",
      "İkinci Sayıyı Giriniz:  slm\n",
      "Lütfen Doğru Gir\n",
      "İlk Sayıyı giriniz: 10\n",
      "İkinci Sayıyı Giriniz:  20\n",
      "İşleminizi Seçiniz: +,-,*,/*\n",
      "200.0\n",
      "Lütfen Doğru Gir\n"
     ]
    }
   ],
   "source": [
    "while True:\n",
    "    try:\n",
    "        a = float(input(\"İlk Sayıyı giriniz: \"))\n",
    "        b = float(input(\"İkinci Sayıyı Giriniz:  \"))\n",
    "        islem = input(\"İşleminizi Seçiniz: +,-,*,/\")\n",
    "        print(hesapla(a,b,islem))\n",
    "    except:\n",
    "        print(\"Lütfen Doğru Gir\")\n"
   ]
  },
  {
   "cell_type": "code",
   "execution_count": null,
   "id": "32f236df",
   "metadata": {},
   "outputs": [],
   "source": []
  }
 ],
 "metadata": {
  "kernelspec": {
   "display_name": "Python 3 (ipykernel)",
   "language": "python",
   "name": "python3"
  },
  "language_info": {
   "codemirror_mode": {
    "name": "ipython",
    "version": 3
   },
   "file_extension": ".py",
   "mimetype": "text/x-python",
   "name": "python",
   "nbconvert_exporter": "python",
   "pygments_lexer": "ipython3",
   "version": "3.9.12"
  }
 },
 "nbformat": 4,
 "nbformat_minor": 5
}
