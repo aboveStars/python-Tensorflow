{
 "cells": [
  {
   "cell_type": "code",
   "execution_count": 1,
   "id": "abfd3713",
   "metadata": {},
   "outputs": [
    {
     "ename": "SyntaxError",
     "evalue": "invalid non-printable character U+00A0 (1140941375.py, line 1)",
     "output_type": "error",
     "traceback": [
      "\u001b[0;36m  Input \u001b[0;32mIn [1]\u001b[0;36m\u001b[0m\n\u001b[0;31m    3 > 1\u001b[0m\n\u001b[0m       ^\u001b[0m\n\u001b[0;31mSyntaxError\u001b[0m\u001b[0;31m:\u001b[0m invalid non-printable character U+00A0\n"
     ]
    }
   ],
   "source": [
    "3 > 1"
   ]
  },
  {
   "cell_type": "code",
   "execution_count": 2,
   "id": "8cc497dc",
   "metadata": {},
   "outputs": [
    {
     "data": {
      "text/plain": [
       "True"
      ]
     },
     "execution_count": 2,
     "metadata": {},
     "output_type": "execute_result"
    }
   ],
   "source": [
    "3 > 1"
   ]
  },
  {
   "cell_type": "code",
   "execution_count": 3,
   "id": "f56fcd54",
   "metadata": {},
   "outputs": [
    {
     "data": {
      "text/plain": [
       "True"
      ]
     },
     "execution_count": 3,
     "metadata": {},
     "output_type": "execute_result"
    }
   ],
   "source": [
    "3 >   1"
   ]
  },
  {
   "cell_type": "code",
   "execution_count": 12,
   "id": "237de3f8",
   "metadata": {},
   "outputs": [
    {
     "name": "stdout",
     "output_type": "stream",
     "text": [
      "if koşulunun dışına çıktık\n"
     ]
    }
   ],
   "source": [
    "if 3 > 4:\n",
    "    print(\"yunus korkmaz\")\n",
    "    print(\"if koşulu sağlandı\")\n",
    "print(\"if koşulunun dışına çıktık\")\n",
    "    "
   ]
  },
  {
   "cell_type": "code",
   "execution_count": 22,
   "id": "723502d5",
   "metadata": {},
   "outputs": [],
   "source": [
    "x = 4\n",
    "y = 4\n"
   ]
  },
  {
   "cell_type": "code",
   "execution_count": 26,
   "id": "80516de8",
   "metadata": {},
   "outputs": [
    {
     "name": "stdout",
     "output_type": "stream",
     "text": [
      "y ve x birbirine eşitmiş\n"
     ]
    }
   ],
   "source": [
    "if x > y:\n",
    "    print(\"x, y'den daha büyük\")\n",
    "elif y > x:\n",
    "    print(\"y, x'den daha büyükmüş\")\n",
    "else:\n",
    "    print(\"y ve x birbirine eşitmiş\")"
   ]
  },
  {
   "cell_type": "code",
   "execution_count": 2,
   "id": "901c3ec5",
   "metadata": {},
   "outputs": [
    {
     "name": "stdout",
     "output_type": "stream",
     "text": [
      "SuperKahramanSeciniz:  Batman\n"
     ]
    }
   ],
   "source": [
    "benimKahramanim = input(\"SuperKahramanSeciniz:  \")"
   ]
  },
  {
   "cell_type": "code",
   "execution_count": null,
   "id": "8fa4ddb5",
   "metadata": {},
   "outputs": [],
   "source": [
    "if benimKahramanim == \"Batman\":\n",
    "    print(\"Batman'i seçmişsiz\")\n",
    "elif benimKahramanim == \"Superman\":\n",
    "    print(\"Sup\")"
   ]
  }
 ],
 "metadata": {
  "kernelspec": {
   "display_name": "Python 3 (ipykernel)",
   "language": "python",
   "name": "python3"
  },
  "language_info": {
   "codemirror_mode": {
    "name": "ipython",
    "version": 3
   },
   "file_extension": ".py",
   "mimetype": "text/x-python",
   "name": "python",
   "nbconvert_exporter": "python",
   "pygments_lexer": "ipython3",
   "version": "3.9.12"
  }
 },
 "nbformat": 4,
 "nbformat_minor": 5
}
