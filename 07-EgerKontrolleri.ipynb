{
 "cells": [
  {
   "cell_type": "code",
   "execution_count": 1,
   "id": "abfd3713",
   "metadata": {},
   "outputs": [
    {
     "ename": "SyntaxError",
     "evalue": "invalid non-printable character U+00A0 (1140941375.py, line 1)",
     "output_type": "error",
     "traceback": [
      "\u001b[0;36m  Input \u001b[0;32mIn [1]\u001b[0;36m\u001b[0m\n\u001b[0;31m    3 > 1\u001b[0m\n\u001b[0m       ^\u001b[0m\n\u001b[0;31mSyntaxError\u001b[0m\u001b[0;31m:\u001b[0m invalid non-printable character U+00A0\n"
     ]
    }
   ],
   "source": [
    "3 > 1"
   ]
  },
  {
   "cell_type": "code",
   "execution_count": 2,
   "id": "8cc497dc",
   "metadata": {},
   "outputs": [
    {
     "data": {
      "text/plain": [
       "True"
      ]
     },
     "execution_count": 2,
     "metadata": {},
     "output_type": "execute_result"
    }
   ],
   "source": [
    "3 > 1"
   ]
  },
  {
   "cell_type": "code",
   "execution_count": 3,
   "id": "f56fcd54",
   "metadata": {},
   "outputs": [
    {
     "data": {
      "text/plain": [
       "True"
      ]
     },
     "execution_count": 3,
     "metadata": {},
     "output_type": "execute_result"
    }
   ],
   "source": [
    "3 >   1"
   ]
  },
  {
   "cell_type": "code",
   "execution_count": 12,
   "id": "237de3f8",
   "metadata": {},
   "outputs": [
    {
     "name": "stdout",
     "output_type": "stream",
     "text": [
      "if koşulunun dışına çıktık\n"
     ]
    }
   ],
   "source": [
    "if 3 > 4:\n",
    "    print(\"yunus korkmaz\")\n",
    "    print(\"if koşulu sağlandı\")\n",
    "print(\"if koşulunun dışına çıktık\")\n",
    "    "
   ]
  },
  {
   "cell_type": "code",
   "execution_count": 22,
   "id": "723502d5",
   "metadata": {},
   "outputs": [],
   "source": [
    "x = 4\n",
    "y = 4\n"
   ]
  },
  {
   "cell_type": "code",
   "execution_count": 26,
   "id": "80516de8",
   "metadata": {},
   "outputs": [
    {
     "name": "stdout",
     "output_type": "stream",
     "text": [
      "y ve x birbirine eşitmiş\n"
     ]
    }
   ],
   "source": [
    "if x > y:\n",
    "    print(\"x, y'den daha büyük\")\n",
    "elif y > x:\n",
    "    print(\"y, x'den daha büyükmüş\")\n",
    "else:\n",
    "    print(\"y ve x birbirine eşitmiş\")"
   ]
  },
  {
   "cell_type": "code",
   "execution_count": 4,
   "id": "c1234284",
   "metadata": {},
   "outputs": [
    {
     "name": "stdout",
     "output_type": "stream",
     "text": [
      "SuperKahramanSeciniz:  Superman\n"
     ]
    }
   ],
   "source": [
    "benimKahramanim = input(\"SuperKahramanSeciniz:  \")"
   ]
  },
  {
   "cell_type": "code",
   "execution_count": 5,
   "id": "2e415389",
   "metadata": {},
   "outputs": [
    {
     "name": "stdout",
     "output_type": "stream",
     "text": [
      "Superman adamdır\n"
     ]
    }
   ],
   "source": [
    "if benimKahramanim == \"Batman\":\n",
    "    print(\"Batman'i seçmişsiz\")\n",
    "elif benimKahramanim == \"Superman\":\n",
    "    print(\"Superman adamdır\")\n",
    "elif benimKahramanim == \"IronMan\":\n",
    "    print(\"Iron man kim olum\")\n",
    "else :\n",
    "    print(\"O ne la\")"
   ]
  },
  {
   "cell_type": "code",
   "execution_count": 6,
   "id": "cb56649f",
   "metadata": {},
   "outputs": [],
   "source": [
    "a = 10\n",
    "b = 20\n",
    "c= 30"
   ]
  },
  {
   "cell_type": "code",
   "execution_count": 8,
   "id": "d8de4fd9",
   "metadata": {},
   "outputs": [
    {
     "name": "stdout",
     "output_type": "stream",
     "text": [
      "a<b ve b<c\n"
     ]
    }
   ],
   "source": [
    "if a>b and b>c:\n",
    "    print(\"a>b ve b>c\")\n",
    "elif a<b and b<c:\n",
    "    print(\"a<b ve b<c\")"
   ]
  },
  {
   "cell_type": "code",
   "execution_count": 13,
   "id": "4501faa6",
   "metadata": {},
   "outputs": [],
   "source": [
    "m = 3\n",
    "k = 4\n",
    "l = 5"
   ]
  },
  {
   "cell_type": "code",
   "execution_count": 16,
   "id": "be196060",
   "metadata": {},
   "outputs": [
    {
     "name": "stdout",
     "output_type": "stream",
     "text": [
      "dsdsd\n"
     ]
    }
   ],
   "source": [
    "if m>k or k>l:\n",
    "    print(\"hello\")\n",
    "elif l>k:\n",
    "    print(\"dsdsd\")"
   ]
  },
  {
   "cell_type": "code",
   "execution_count": 22,
   "id": "81a77b66",
   "metadata": {},
   "outputs": [],
   "source": [
    "live = False"
   ]
  },
  {
   "cell_type": "code",
   "execution_count": 23,
   "id": "c8dab0b3",
   "metadata": {},
   "outputs": [
    {
     "name": "stdout",
     "output_type": "stream",
     "text": [
      "noooo\n"
     ]
    }
   ],
   "source": [
    "if live == True:\n",
    "    print(\"olley\")\n",
    "else:\n",
    "    print(\"noooo\")"
   ]
  },
  {
   "cell_type": "code",
   "execution_count": 24,
   "id": "832ad183",
   "metadata": {},
   "outputs": [],
   "source": [
    "if live:\n",
    "    print(\"ollley\")"
   ]
  },
  {
   "cell_type": "code",
   "execution_count": 25,
   "id": "2f6c534e",
   "metadata": {},
   "outputs": [
    {
     "name": "stdout",
     "output_type": "stream",
     "text": [
      "öll\n"
     ]
    }
   ],
   "source": [
    "if not live:\n",
    "    print(\"öll\")"
   ]
  },
  {
   "cell_type": "code",
   "execution_count": 26,
   "id": "f1a75823",
   "metadata": {},
   "outputs": [],
   "source": [
    "benimString = \"Yunus Korkmaz\""
   ]
  },
  {
   "cell_type": "code",
   "execution_count": 27,
   "id": "cfb9f86e",
   "metadata": {},
   "outputs": [
    {
     "name": "stdout",
     "output_type": "stream",
     "text": [
      "siktir\n"
     ]
    }
   ],
   "source": [
    "if(benimString == \"yunus korkmaz\"):\n",
    "    print(\"eşit\")\n",
    "else:\n",
    "    print(\"siktir\")"
   ]
  },
  {
   "cell_type": "markdown",
   "id": "cd442abd",
   "metadata": {},
   "source": [
    "### In kullanımı"
   ]
  },
  {
   "cell_type": "code",
   "execution_count": 43,
   "id": "6e23f967",
   "metadata": {},
   "outputs": [
    {
     "name": "stdout",
     "output_type": "stream",
     "text": [
      "yok\n"
     ]
    }
   ],
   "source": [
    "if \"ns\" in benimString:\n",
    "    print(\"var\")\n",
    "else:\n",
    "    print (\"yok\")"
   ]
  },
  {
   "cell_type": "code",
   "execution_count": 38,
   "id": "14d29a0d",
   "metadata": {},
   "outputs": [
    {
     "data": {
      "text/plain": [
       "'Yunus Korkmaz'"
      ]
     },
     "execution_count": 38,
     "metadata": {},
     "output_type": "execute_result"
    }
   ],
   "source": [
    "benimString"
   ]
  },
  {
   "cell_type": "code",
   "execution_count": 44,
   "id": "8dfb0831",
   "metadata": {},
   "outputs": [],
   "source": [
    "benimListem = [10,20,30,40,50]"
   ]
  },
  {
   "cell_type": "code",
   "execution_count": 50,
   "id": "910b3586",
   "metadata": {},
   "outputs": [
    {
     "name": "stdout",
     "output_type": "stream",
     "text": [
      "10 is here\n"
     ]
    }
   ],
   "source": [
    "if 40 in benimListem:\n",
    "    print(\"10 is here\")\n",
    "else:\n",
    "    print(\"Nope\")"
   ]
  },
  {
   "cell_type": "code",
   "execution_count": 51,
   "id": "636bee6b",
   "metadata": {},
   "outputs": [],
   "source": [
    "myDict = {\"muz\": 100, \"elma\": 150, \"karpuz\":500}"
   ]
  },
  {
   "cell_type": "code",
   "execution_count": 52,
   "id": "1d5261e5",
   "metadata": {},
   "outputs": [
    {
     "data": {
      "text/plain": [
       "<function dict.keys>"
      ]
     },
     "execution_count": 52,
     "metadata": {},
     "output_type": "execute_result"
    }
   ],
   "source": [
    "myDict.keys"
   ]
  },
  {
   "cell_type": "code",
   "execution_count": 53,
   "id": "1ddfb0e4",
   "metadata": {},
   "outputs": [
    {
     "data": {
      "text/plain": [
       "dict_keys(['muz', 'elma', 'karpuz'])"
      ]
     },
     "execution_count": 53,
     "metadata": {},
     "output_type": "execute_result"
    }
   ],
   "source": [
    "myDict.keys()"
   ]
  },
  {
   "cell_type": "code",
   "execution_count": 55,
   "id": "59d5b106",
   "metadata": {},
   "outputs": [
    {
     "name": "stdout",
     "output_type": "stream",
     "text": [
      "Muz varmış\n"
     ]
    }
   ],
   "source": [
    "if \"muz\" in myDict.keys():\n",
    "    print(\"Muz varmış\")"
   ]
  },
  {
   "cell_type": "code",
   "execution_count": 56,
   "id": "8f6cdb0c",
   "metadata": {},
   "outputs": [
    {
     "name": "stdout",
     "output_type": "stream",
     "text": [
      "yes\n"
     ]
    }
   ],
   "source": [
    "if 500 in myDict.values():\n",
    "    print(\"yes\")"
   ]
  }
 ],
 "metadata": {
  "kernelspec": {
   "display_name": "Python 3 (ipykernel)",
   "language": "python",
   "name": "python3"
  },
  "language_info": {
   "codemirror_mode": {
    "name": "ipython",
    "version": 3
   },
   "file_extension": ".py",
   "mimetype": "text/x-python",
   "name": "python",
   "nbconvert_exporter": "python",
   "pygments_lexer": "ipython3",
   "version": "3.9.12"
  }
 },
 "nbformat": 4,
 "nbformat_minor": 5
}
