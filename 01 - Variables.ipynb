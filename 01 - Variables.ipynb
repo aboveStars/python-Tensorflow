{
 "cells": [
  {
   "cell_type": "code",
   "execution_count": 7,
   "id": "3af08a59",
   "metadata": {},
   "outputs": [
    {
     "data": {
      "text/plain": [
       "10"
      ]
     },
     "execution_count": 7,
     "metadata": {},
     "output_type": "execute_result"
    }
   ],
   "source": [
    "5*1"
   ]
  },
  {
   "cell_type": "code",
   "execution_count": 9,
   "id": "b032a6d1",
   "metadata": {},
   "outputs": [
    {
     "data": {
      "text/plain": [
       "3500"
      ]
     },
     "execution_count": 9,
     "metadata": {},
     "output_type": "execute_result"
    }
   ],
   "source": [
    "1000 + 2500"
   ]
  },
  {
   "cell_type": "code",
   "execution_count": 10,
   "id": "fb47f228",
   "metadata": {},
   "outputs": [
    {
     "name": "stdout",
     "output_type": "stream",
     "text": [
      "5\n"
     ]
    }
   ],
   "source": [
    "print(5*1)"
   ]
  },
  {
   "cell_type": "markdown",
   "id": "d3b2542f",
   "metadata": {},
   "source": [
    "Python Öğreniyorum"
   ]
  },
  {
   "cell_type": "code",
   "execution_count": 11,
   "id": "9aa5c392",
   "metadata": {},
   "outputs": [
    {
     "ename": "SyntaxError",
     "evalue": "invalid syntax (918009849.py, line 1)",
     "output_type": "error",
     "traceback": [
      "\u001b[0;36m  Input \u001b[0;32mIn [11]\u001b[0;36m\u001b[0m\n\u001b[0;31m    python öğreniyorum\u001b[0m\n\u001b[0m           ^\u001b[0m\n\u001b[0;31mSyntaxError\u001b[0m\u001b[0;31m:\u001b[0m invalid syntax\n"
     ]
    }
   ],
   "source": [
    "python öğreniyorum"
   ]
  },
  {
   "cell_type": "markdown",
   "id": "61657ca9",
   "metadata": {},
   "source": [
    "# Python Öğreniyorum"
   ]
  },
  {
   "cell_type": "code",
   "execution_count": 16,
   "id": "752f1fea",
   "metadata": {},
   "outputs": [],
   "source": [
    "## Python"
   ]
  },
  {
   "cell_type": "code",
   "execution_count": 27,
   "id": "21151e10",
   "metadata": {},
   "outputs": [],
   "source": [
    "x = 5"
   ]
  },
  {
   "cell_type": "code",
   "execution_count": 18,
   "id": "58cde4d6",
   "metadata": {},
   "outputs": [],
   "source": [
    " y= 4"
   ]
  },
  {
   "cell_type": "code",
   "execution_count": 24,
   "id": "48348e46",
   "metadata": {},
   "outputs": [
    {
     "data": {
      "text/plain": [
       "24"
      ]
     },
     "execution_count": 24,
     "metadata": {},
     "output_type": "execute_result"
    }
   ],
   "source": [
    "x*y"
   ]
  },
  {
   "cell_type": "code",
   "execution_count": 25,
   "id": "214ac31e",
   "metadata": {},
   "outputs": [
    {
     "data": {
      "text/plain": [
       "6"
      ]
     },
     "execution_count": 25,
     "metadata": {},
     "output_type": "execute_result"
    }
   ],
   "source": [
    "x"
   ]
  },
  {
   "cell_type": "code",
   "execution_count": 28,
   "id": "615dac53",
   "metadata": {},
   "outputs": [
    {
     "data": {
      "text/plain": [
       "5"
      ]
     },
     "execution_count": 28,
     "metadata": {},
     "output_type": "execute_result"
    }
   ],
   "source": [
    "x"
   ]
  },
  {
   "cell_type": "code",
   "execution_count": 22,
   "id": "b60c37fb",
   "metadata": {},
   "outputs": [],
   "source": [
    "x = 6"
   ]
  },
  {
   "cell_type": "code",
   "execution_count": 29,
   "id": "7af47d03",
   "metadata": {},
   "outputs": [
    {
     "data": {
      "text/plain": [
       "20"
      ]
     },
     "execution_count": 29,
     "metadata": {},
     "output_type": "execute_result"
    }
   ],
   "source": [
    "x *y"
   ]
  },
  {
   "cell_type": "code",
   "execution_count": 30,
   "id": "ba17d62e",
   "metadata": {},
   "outputs": [
    {
     "data": {
      "text/plain": [
       "40"
      ]
     },
     "execution_count": 30,
     "metadata": {},
     "output_type": "execute_result"
    }
   ],
   "source": [
    "y * 10"
   ]
  },
  {
   "cell_type": "markdown",
   "id": "fd587abd",
   "metadata": {},
   "source": [
    "# Variables (Değişkenler)"
   ]
  },
  {
   "cell_type": "markdown",
   "id": "962a3474",
   "metadata": {},
   "source": [
    "## Integer & Float"
   ]
  },
  {
   "cell_type": "code",
   "execution_count": 31,
   "id": "27ad414b",
   "metadata": {},
   "outputs": [],
   "source": [
    "benimDegiskenim = 10\n",
    "benimDigerDegiskenim = 20"
   ]
  },
  {
   "cell_type": "code",
   "execution_count": 32,
   "id": "2f6c1ab2",
   "metadata": {},
   "outputs": [
    {
     "data": {
      "text/plain": [
       "30"
      ]
     },
     "execution_count": 32,
     "metadata": {},
     "output_type": "execute_result"
    }
   ],
   "source": [
    "benimDegiskenim + benimDigerDegiskenim"
   ]
  },
  {
   "cell_type": "code",
   "execution_count": 33,
   "id": "6c3e5149",
   "metadata": {},
   "outputs": [
    {
     "data": {
      "text/plain": [
       "int"
      ]
     },
     "execution_count": 33,
     "metadata": {},
     "output_type": "execute_result"
    }
   ],
   "source": [
    "type(benimDegiskenim)"
   ]
  },
  {
   "cell_type": "code",
   "execution_count": 36,
   "id": "feee871d",
   "metadata": {},
   "outputs": [],
   "source": [
    "sonuc = benimDigerDegiskenim / benimDegiskenim"
   ]
  },
  {
   "cell_type": "code",
   "execution_count": 37,
   "id": "0317ee17",
   "metadata": {},
   "outputs": [
    {
     "data": {
      "text/plain": [
       "2.0"
      ]
     },
     "execution_count": 37,
     "metadata": {},
     "output_type": "execute_result"
    }
   ],
   "source": [
    "sonuc"
   ]
  },
  {
   "cell_type": "code",
   "execution_count": 38,
   "id": "94a487e3",
   "metadata": {},
   "outputs": [
    {
     "data": {
      "text/plain": [
       "float"
      ]
     },
     "execution_count": 38,
     "metadata": {},
     "output_type": "execute_result"
    }
   ],
   "source": [
    "type(sonuc)"
   ]
  },
  {
   "cell_type": "code",
   "execution_count": 39,
   "id": "2d6ba7e9",
   "metadata": {},
   "outputs": [],
   "source": [
    "a = 3\n",
    "b = 2"
   ]
  },
  {
   "cell_type": "code",
   "execution_count": 40,
   "id": "84074360",
   "metadata": {},
   "outputs": [
    {
     "data": {
      "text/plain": [
       "1.5"
      ]
     },
     "execution_count": 40,
     "metadata": {},
     "output_type": "execute_result"
    }
   ],
   "source": [
    "a/b"
   ]
  },
  {
   "cell_type": "code",
   "execution_count": 41,
   "id": "4a45975e",
   "metadata": {},
   "outputs": [],
   "source": [
    "pi = 3.14"
   ]
  },
  {
   "cell_type": "code",
   "execution_count": 42,
   "id": "655feffb",
   "metadata": {},
   "outputs": [
    {
     "data": {
      "text/plain": [
       "float"
      ]
     },
     "execution_count": 42,
     "metadata": {},
     "output_type": "execute_result"
    }
   ],
   "source": [
    "type(pi)"
   ]
  },
  {
   "cell_type": "code",
   "execution_count": 43,
   "id": "be3d2c54",
   "metadata": {},
   "outputs": [],
   "source": [
    "a = 5\n"
   ]
  },
  {
   "cell_type": "code",
   "execution_count": 44,
   "id": "e1275bef",
   "metadata": {},
   "outputs": [
    {
     "data": {
      "text/plain": [
       "int"
      ]
     },
     "execution_count": 44,
     "metadata": {},
     "output_type": "execute_result"
    }
   ],
   "source": [
    "type(a)"
   ]
  },
  {
   "cell_type": "code",
   "execution_count": 45,
   "id": "25e0f494",
   "metadata": {},
   "outputs": [
    {
     "data": {
      "text/plain": [
       "8.14"
      ]
     },
     "execution_count": 45,
     "metadata": {},
     "output_type": "execute_result"
    }
   ],
   "source": [
    "a + pi"
   ]
  },
  {
   "cell_type": "code",
   "execution_count": 46,
   "id": "458fad85",
   "metadata": {},
   "outputs": [
    {
     "data": {
      "text/plain": [
       "15.700000000000001"
      ]
     },
     "execution_count": 46,
     "metadata": {},
     "output_type": "execute_result"
    }
   ],
   "source": [
    "a * pi"
   ]
  },
  {
   "cell_type": "code",
   "execution_count": 47,
   "id": "2fa5804f",
   "metadata": {},
   "outputs": [
    {
     "data": {
      "text/plain": [
       "1.592356687898089"
      ]
     },
     "execution_count": 47,
     "metadata": {},
     "output_type": "execute_result"
    }
   ],
   "source": [
    "a / pi"
   ]
  },
  {
   "cell_type": "code",
   "execution_count": 48,
   "id": "15842313",
   "metadata": {},
   "outputs": [],
   "source": [
    "a = 5\n",
    "b = 4"
   ]
  },
  {
   "cell_type": "code",
   "execution_count": 49,
   "id": "745c3c97",
   "metadata": {},
   "outputs": [],
   "source": [
    "sonuc = a+b"
   ]
  },
  {
   "cell_type": "code",
   "execution_count": 50,
   "id": "79e2d2b7",
   "metadata": {},
   "outputs": [
    {
     "data": {
      "text/plain": [
       "int"
      ]
     },
     "execution_count": 50,
     "metadata": {},
     "output_type": "execute_result"
    }
   ],
   "source": [
    "type(sonuc)"
   ]
  },
  {
   "cell_type": "code",
   "execution_count": 51,
   "id": "2a619dc4",
   "metadata": {},
   "outputs": [],
   "source": [
    "sonuc = a*b"
   ]
  },
  {
   "cell_type": "code",
   "execution_count": 52,
   "id": "e8972f8a",
   "metadata": {},
   "outputs": [
    {
     "data": {
      "text/plain": [
       "int"
      ]
     },
     "execution_count": 52,
     "metadata": {},
     "output_type": "execute_result"
    }
   ],
   "source": [
    "type(sonuc)"
   ]
  },
  {
   "cell_type": "markdown",
   "id": "d8435d4e",
   "metadata": {},
   "source": [
    "## Matematiksel İşlemler"
   ]
  },
  {
   "cell_type": "code",
   "execution_count": 53,
   "id": "9c1b0488",
   "metadata": {},
   "outputs": [],
   "source": [
    "x = 5\n",
    "y = 3"
   ]
  },
  {
   "cell_type": "code",
   "execution_count": 54,
   "id": "bdabb888",
   "metadata": {},
   "outputs": [
    {
     "data": {
      "text/plain": [
       "150"
      ]
     },
     "execution_count": 54,
     "metadata": {},
     "output_type": "execute_result"
    }
   ],
   "source": [
    "x * y * 10"
   ]
  },
  {
   "cell_type": "code",
   "execution_count": 55,
   "id": "6530544b",
   "metadata": {},
   "outputs": [
    {
     "data": {
      "text/plain": [
       "625"
      ]
     },
     "execution_count": 55,
     "metadata": {},
     "output_type": "execute_result"
    }
   ],
   "source": [
    "x * x * x*x"
   ]
  },
  {
   "cell_type": "code",
   "execution_count": 56,
   "id": "b7e36281",
   "metadata": {},
   "outputs": [
    {
     "data": {
      "text/plain": [
       "625"
      ]
     },
     "execution_count": 56,
     "metadata": {},
     "output_type": "execute_result"
    }
   ],
   "source": [
    "x ** 4\n"
   ]
  },
  {
   "cell_type": "code",
   "execution_count": 57,
   "id": "cd1a46ff",
   "metadata": {},
   "outputs": [
    {
     "data": {
      "text/plain": [
       "6103515625"
      ]
     },
     "execution_count": 57,
     "metadata": {},
     "output_type": "execute_result"
    }
   ],
   "source": [
    "x ** 14"
   ]
  },
  {
   "cell_type": "markdown",
   "id": "89e4539c",
   "metadata": {},
   "source": [
    "## Remainder - kalanını bulmak"
   ]
  },
  {
   "cell_type": "code",
   "execution_count": 59,
   "id": "568c6d6d",
   "metadata": {},
   "outputs": [
    {
     "data": {
      "text/plain": [
       "0"
      ]
     },
     "execution_count": 59,
     "metadata": {},
     "output_type": "execute_result"
    }
   ],
   "source": [
    "10 % 2\n"
   ]
  },
  {
   "cell_type": "code",
   "execution_count": 60,
   "id": "2b93f860",
   "metadata": {},
   "outputs": [
    {
     "data": {
      "text/plain": [
       "1"
      ]
     },
     "execution_count": 60,
     "metadata": {},
     "output_type": "execute_result"
    }
   ],
   "source": [
    "11 % 2"
   ]
  },
  {
   "cell_type": "code",
   "execution_count": 61,
   "id": "ea03b7fa",
   "metadata": {},
   "outputs": [
    {
     "data": {
      "text/plain": [
       "2"
      ]
     },
     "execution_count": 61,
     "metadata": {},
     "output_type": "execute_result"
    }
   ],
   "source": [
    "11 % 3"
   ]
  },
  {
   "cell_type": "code",
   "execution_count": 64,
   "id": "c467a786",
   "metadata": {},
   "outputs": [],
   "source": [
    "kullanicinin_yasi = 10"
   ]
  },
  {
   "cell_type": "code",
   "execution_count": 65,
   "id": "4c70bb35",
   "metadata": {},
   "outputs": [],
   "source": [
    "## camelCase(python) vs snake_case"
   ]
  },
  {
   "cell_type": "code",
   "execution_count": 66,
   "id": "69e7807d",
   "metadata": {},
   "outputs": [],
   "source": [
    "kullanicininYasi = 10"
   ]
  },
  {
   "cell_type": "code",
   "execution_count": 67,
   "id": "0a7234ea",
   "metadata": {},
   "outputs": [
    {
     "data": {
      "text/plain": [
       "16.666666666666668"
      ]
     },
     "execution_count": 67,
     "metadata": {},
     "output_type": "execute_result"
    }
   ],
   "source": [
    "kullanicininYasi * 5 / 3"
   ]
  },
  {
   "cell_type": "code",
   "execution_count": 68,
   "id": "6b567840",
   "metadata": {},
   "outputs": [
    {
     "data": {
      "text/plain": [
       "int"
      ]
     },
     "execution_count": 68,
     "metadata": {},
     "output_type": "execute_result"
    }
   ],
   "source": [
    "type(kullanicininYasi)"
   ]
  },
  {
   "cell_type": "code",
   "execution_count": 69,
   "id": "0c93c18c",
   "metadata": {},
   "outputs": [
    {
     "name": "stdout",
     "output_type": "stream",
     "text": [
      "Yaşınızı Giriniz60\n"
     ]
    },
    {
     "data": {
      "text/plain": [
       "'60'"
      ]
     },
     "execution_count": 69,
     "metadata": {},
     "output_type": "execute_result"
    }
   ],
   "source": [
    "input(\"Yaşınızı Giriniz\")"
   ]
  },
  {
   "cell_type": "markdown",
   "id": "20dd40f0",
   "metadata": {},
   "source": [
    "## Input"
   ]
  },
  {
   "cell_type": "code",
   "execution_count": 70,
   "id": "5a75b771",
   "metadata": {},
   "outputs": [
    {
     "name": "stdout",
     "output_type": "stream",
     "text": [
      "Yaşınızı Giriniz:  40\n"
     ]
    }
   ],
   "source": [
    "kullanicininYasi = input(\"Yaşınızı Giriniz:  \")"
   ]
  },
  {
   "cell_type": "code",
   "execution_count": 71,
   "id": "fe1c8d72",
   "metadata": {},
   "outputs": [
    {
     "data": {
      "text/plain": [
       "'40'"
      ]
     },
     "execution_count": 71,
     "metadata": {},
     "output_type": "execute_result"
    }
   ],
   "source": [
    "kullanicininYasi"
   ]
  },
  {
   "cell_type": "code",
   "execution_count": 72,
   "id": "62990c3e",
   "metadata": {},
   "outputs": [
    {
     "data": {
      "text/plain": [
       "str"
      ]
     },
     "execution_count": 72,
     "metadata": {},
     "output_type": "execute_result"
    }
   ],
   "source": [
    "type(kullanicininYasi)"
   ]
  },
  {
   "cell_type": "code",
   "execution_count": 73,
   "id": "5c58bf8a",
   "metadata": {},
   "outputs": [
    {
     "data": {
      "text/plain": [
       "'4040404040'"
      ]
     },
     "execution_count": 73,
     "metadata": {},
     "output_type": "execute_result"
    }
   ],
   "source": [
    "kullanicininYasi *5"
   ]
  },
  {
   "cell_type": "markdown",
   "id": "0017e52f",
   "metadata": {},
   "source": [
    "## String"
   ]
  },
  {
   "cell_type": "code",
   "execution_count": 74,
   "id": "d368f1ef",
   "metadata": {},
   "outputs": [
    {
     "data": {
      "text/plain": [
       "'merhaba dünya'"
      ]
     },
     "execution_count": 74,
     "metadata": {},
     "output_type": "execute_result"
    }
   ],
   "source": [
    "\"merhaba dünya\""
   ]
  },
  {
   "cell_type": "code",
   "execution_count": 75,
   "id": "d5f7cfb8",
   "metadata": {},
   "outputs": [],
   "source": [
    "x = \"merhaba dünya\""
   ]
  },
  {
   "cell_type": "code",
   "execution_count": 76,
   "id": "bf65380a",
   "metadata": {},
   "outputs": [],
   "source": [
    "x = 20.5"
   ]
  },
  {
   "cell_type": "code",
   "execution_count": 77,
   "id": "54a616e9",
   "metadata": {},
   "outputs": [],
   "source": [
    "x = \"hello world\""
   ]
  },
  {
   "cell_type": "code",
   "execution_count": 78,
   "id": "ad6f4b68",
   "metadata": {},
   "outputs": [
    {
     "data": {
      "text/plain": [
       "str"
      ]
     },
     "execution_count": 78,
     "metadata": {},
     "output_type": "execute_result"
    }
   ],
   "source": [
    "type(x)"
   ]
  },
  {
   "cell_type": "code",
   "execution_count": 79,
   "id": "ce062808",
   "metadata": {},
   "outputs": [],
   "source": [
    "y = 'yeni string'"
   ]
  },
  {
   "cell_type": "code",
   "execution_count": 80,
   "id": "91dc01d8",
   "metadata": {},
   "outputs": [
    {
     "data": {
      "text/plain": [
       "str"
      ]
     },
     "execution_count": 80,
     "metadata": {},
     "output_type": "execute_result"
    }
   ],
   "source": [
    "type(y)"
   ]
  },
  {
   "cell_type": "code",
   "execution_count": 82,
   "id": "bad06d83",
   "metadata": {},
   "outputs": [
    {
     "data": {
      "text/plain": [
       "\"Atıl'ın yeri\""
      ]
     },
     "execution_count": 82,
     "metadata": {},
     "output_type": "execute_result"
    }
   ],
   "source": [
    "\"Atıl'ın yeri\""
   ]
  },
  {
   "cell_type": "code",
   "execution_count": 83,
   "id": "a480995f",
   "metadata": {},
   "outputs": [],
   "source": [
    "a = 5"
   ]
  },
  {
   "cell_type": "code",
   "execution_count": 84,
   "id": "67e03233",
   "metadata": {},
   "outputs": [
    {
     "data": {
      "text/plain": [
       "<function str.capitalize()>"
      ]
     },
     "execution_count": 84,
     "metadata": {},
     "output_type": "execute_result"
    }
   ],
   "source": [
    "y.capitalize"
   ]
  },
  {
   "cell_type": "code",
   "execution_count": 85,
   "id": "8ab6f92b",
   "metadata": {},
   "outputs": [
    {
     "data": {
      "text/plain": [
       "'Yeni string'"
      ]
     },
     "execution_count": 85,
     "metadata": {},
     "output_type": "execute_result"
    }
   ],
   "source": [
    "y.capitalize()"
   ]
  },
  {
   "cell_type": "code",
   "execution_count": 86,
   "id": "acc1e5b8",
   "metadata": {},
   "outputs": [
    {
     "data": {
      "text/plain": [
       "False"
      ]
     },
     "execution_count": 86,
     "metadata": {},
     "output_type": "execute_result"
    }
   ],
   "source": [
    "y.istitle()"
   ]
  },
  {
   "cell_type": "code",
   "execution_count": 87,
   "id": "b1d6df23",
   "metadata": {},
   "outputs": [
    {
     "data": {
      "text/plain": [
       "['yeni', 'string']"
      ]
     },
     "execution_count": 87,
     "metadata": {},
     "output_type": "execute_result"
    }
   ],
   "source": [
    "y.split()"
   ]
  },
  {
   "cell_type": "code",
   "execution_count": 88,
   "id": "cb88c13b",
   "metadata": {},
   "outputs": [
    {
     "data": {
      "text/plain": [
       "'yeni string'"
      ]
     },
     "execution_count": 88,
     "metadata": {},
     "output_type": "execute_result"
    }
   ],
   "source": [
    "y"
   ]
  },
  {
   "cell_type": "code",
   "execution_count": 89,
   "id": "a6327f0b",
   "metadata": {},
   "outputs": [],
   "source": [
    "benimString = \"Atıl Samancıoğlu\""
   ]
  },
  {
   "cell_type": "code",
   "execution_count": 90,
   "id": "7ab290e5",
   "metadata": {},
   "outputs": [
    {
     "data": {
      "text/plain": [
       "'Atıl Samancıoğluyeni string'"
      ]
     },
     "execution_count": 90,
     "metadata": {},
     "output_type": "execute_result"
    }
   ],
   "source": [
    "benimString + y"
   ]
  },
  {
   "cell_type": "code",
   "execution_count": 91,
   "id": "201d5b25",
   "metadata": {},
   "outputs": [
    {
     "data": {
      "text/plain": [
       "'Atıl SamancıoğluAtıl SamancıoğluAtıl SamancıoğluAtıl Samancıoğlu'"
      ]
     },
     "execution_count": 91,
     "metadata": {},
     "output_type": "execute_result"
    }
   ],
   "source": [
    "benimString * 4"
   ]
  },
  {
   "cell_type": "code",
   "execution_count": 92,
   "id": "2bb7ecca",
   "metadata": {},
   "outputs": [
    {
     "name": "stdout",
     "output_type": "stream",
     "text": [
      "Yaşınızı Giriniz: 12\n"
     ]
    }
   ],
   "source": [
    "benimInput = input(\"Yaşınızı Giriniz: \")"
   ]
  },
  {
   "cell_type": "code",
   "execution_count": 93,
   "id": "5f8e6dfa",
   "metadata": {},
   "outputs": [
    {
     "data": {
      "text/plain": [
       "str"
      ]
     },
     "execution_count": 93,
     "metadata": {},
     "output_type": "execute_result"
    }
   ],
   "source": [
    "type(benimInput)"
   ]
  },
  {
   "cell_type": "code",
   "execution_count": 94,
   "id": "1312382f",
   "metadata": {},
   "outputs": [
    {
     "data": {
      "text/plain": [
       "'yunuskorkmaz'"
      ]
     },
     "execution_count": 94,
     "metadata": {},
     "output_type": "execute_result"
    }
   ],
   "source": [
    "\"yunus\" + \"korkmaz\""
   ]
  },
  {
   "cell_type": "code",
   "execution_count": 95,
   "id": "ed4c7409",
   "metadata": {},
   "outputs": [],
   "source": [
    "selam = \"yunus\"\n",
    "aleykum = \"korkmaz\""
   ]
  },
  {
   "cell_type": "code",
   "execution_count": 96,
   "id": "23ddd0a5",
   "metadata": {},
   "outputs": [
    {
     "data": {
      "text/plain": [
       "'yunuskorkmaz'"
      ]
     },
     "execution_count": 96,
     "metadata": {},
     "output_type": "execute_result"
    }
   ],
   "source": [
    "selam + aleykum"
   ]
  },
  {
   "cell_type": "code",
   "execution_count": 97,
   "id": "06a99798",
   "metadata": {},
   "outputs": [],
   "source": [
    "benimIntInput = int(benimInput)"
   ]
  },
  {
   "cell_type": "code",
   "execution_count": 98,
   "id": "2b914493",
   "metadata": {},
   "outputs": [
    {
     "data": {
      "text/plain": [
       "12"
      ]
     },
     "execution_count": 98,
     "metadata": {},
     "output_type": "execute_result"
    }
   ],
   "source": [
    "benimIntInput"
   ]
  },
  {
   "cell_type": "code",
   "execution_count": 99,
   "id": "95e74021",
   "metadata": {},
   "outputs": [
    {
     "data": {
      "text/plain": [
       "20.0"
      ]
     },
     "execution_count": 99,
     "metadata": {},
     "output_type": "execute_result"
    }
   ],
   "source": [
    "benimIntInput / 3 * 5"
   ]
  },
  {
   "cell_type": "code",
   "execution_count": 100,
   "id": "8b36d591",
   "metadata": {},
   "outputs": [
    {
     "data": {
      "text/plain": [
       "str"
      ]
     },
     "execution_count": 100,
     "metadata": {},
     "output_type": "execute_result"
    }
   ],
   "source": [
    "type(selam)"
   ]
  },
  {
   "cell_type": "code",
   "execution_count": 101,
   "id": "c4775e39",
   "metadata": {},
   "outputs": [],
   "source": [
    "k = \"korkmaz\""
   ]
  },
  {
   "cell_type": "code",
   "execution_count": 102,
   "id": "e39c3ec7",
   "metadata": {},
   "outputs": [
    {
     "data": {
      "text/plain": [
       "7"
      ]
     },
     "execution_count": 102,
     "metadata": {},
     "output_type": "execute_result"
    }
   ],
   "source": [
    "len(k)"
   ]
  },
  {
   "cell_type": "code",
   "execution_count": 103,
   "id": "3d49fb28",
   "metadata": {},
   "outputs": [
    {
     "ename": "TypeError",
     "evalue": "unsupported operand type(s) for /: 'str' and 'int'",
     "output_type": "error",
     "traceback": [
      "\u001b[0;31m---------------------------------------------------------------------------\u001b[0m",
      "\u001b[0;31mTypeError\u001b[0m                                 Traceback (most recent call last)",
      "Input \u001b[0;32mIn [103]\u001b[0m, in \u001b[0;36m<cell line: 1>\u001b[0;34m()\u001b[0m\n\u001b[0;32m----> 1\u001b[0m \u001b[43mk\u001b[49m\u001b[43m \u001b[49m\u001b[38;5;241;43m/\u001b[39;49m\u001b[43m \u001b[49m\u001b[38;5;241;43m2\u001b[39;49m\n",
      "\u001b[0;31mTypeError\u001b[0m: unsupported operand type(s) for /: 'str' and 'int'"
     ]
    }
   ],
   "source": [
    "k / 2"
   ]
  },
  {
   "cell_type": "code",
   "execution_count": 104,
   "id": "5d373704",
   "metadata": {},
   "outputs": [
    {
     "data": {
      "text/plain": [
       "'korkmazkorkmazkorkmaz'"
      ]
     },
     "execution_count": 104,
     "metadata": {},
     "output_type": "execute_result"
    }
   ],
   "source": [
    "k *3"
   ]
  },
  {
   "cell_type": "code",
   "execution_count": 105,
   "id": "c60bd7a6",
   "metadata": {},
   "outputs": [
    {
     "name": "stdout",
     "output_type": "stream",
     "text": [
      "merhaba python\n"
     ]
    }
   ],
   "source": [
    "print(\"merhaba python\")"
   ]
  },
  {
   "cell_type": "code",
   "execution_count": 106,
   "id": "a7731b44",
   "metadata": {},
   "outputs": [
    {
     "ename": "SyntaxError",
     "evalue": "EOL while scanning string literal (4138976326.py, line 1)",
     "output_type": "error",
     "traceback": [
      "\u001b[0;36m  Input \u001b[0;32mIn [106]\u001b[0;36m\u001b[0m\n\u001b[0;31m    \"selam\u001b[0m\n\u001b[0m          ^\u001b[0m\n\u001b[0;31mSyntaxError\u001b[0m\u001b[0;31m:\u001b[0m EOL while scanning string literal\n"
     ]
    }
   ],
   "source": [
    "\"selam\n",
    "\""
   ]
  },
  {
   "cell_type": "code",
   "execution_count": 107,
   "id": "1301c653",
   "metadata": {},
   "outputs": [
    {
     "data": {
      "text/plain": [
       "'selam'"
      ]
     },
     "execution_count": 107,
     "metadata": {},
     "output_type": "execute_result"
    }
   ],
   "source": [
    "\"selam\""
   ]
  },
  {
   "cell_type": "code",
   "execution_count": 108,
   "id": "76b2d865",
   "metadata": {},
   "outputs": [
    {
     "name": "stdout",
     "output_type": "stream",
     "text": [
      "merhaba \n",
      "python\n"
     ]
    }
   ],
   "source": [
    "print(\"merhaba \\npython\")"
   ]
  },
  {
   "cell_type": "code",
   "execution_count": 109,
   "id": "d5e6807e",
   "metadata": {},
   "outputs": [
    {
     "name": "stdout",
     "output_type": "stream",
     "text": [
      "merhaba \n",
      " python\n"
     ]
    }
   ],
   "source": [
    "print(\"merhaba \\n python\")"
   ]
  },
  {
   "cell_type": "code",
   "execution_count": 110,
   "id": "e9e1faca",
   "metadata": {},
   "outputs": [],
   "source": [
    "isimString = \"Yunus Korkmaz\""
   ]
  },
  {
   "cell_type": "code",
   "execution_count": 111,
   "id": "f2e4d1e4",
   "metadata": {},
   "outputs": [
    {
     "data": {
      "text/plain": [
       "'Yunus Korkmaz'"
      ]
     },
     "execution_count": 111,
     "metadata": {},
     "output_type": "execute_result"
    }
   ],
   "source": [
    "isimString\n"
   ]
  },
  {
   "cell_type": "markdown",
   "id": "634dc109",
   "metadata": {},
   "source": [
    "## Index"
   ]
  },
  {
   "cell_type": "code",
   "execution_count": 112,
   "id": "14f92820",
   "metadata": {},
   "outputs": [
    {
     "data": {
      "text/plain": [
       "'Y'"
      ]
     },
     "execution_count": 112,
     "metadata": {},
     "output_type": "execute_result"
    }
   ],
   "source": [
    "isimString[0]"
   ]
  },
  {
   "cell_type": "code",
   "execution_count": 113,
   "id": "8a791371",
   "metadata": {},
   "outputs": [
    {
     "data": {
      "text/plain": [
       "'o'"
      ]
     },
     "execution_count": 113,
     "metadata": {},
     "output_type": "execute_result"
    }
   ],
   "source": [
    "isimString[7]"
   ]
  },
  {
   "cell_type": "code",
   "execution_count": 114,
   "id": "be798b36",
   "metadata": {},
   "outputs": [
    {
     "data": {
      "text/plain": [
       "' '"
      ]
     },
     "execution_count": 114,
     "metadata": {},
     "output_type": "execute_result"
    }
   ],
   "source": [
    "isimString[5]"
   ]
  },
  {
   "cell_type": "code",
   "execution_count": 115,
   "id": "aebbaf3a",
   "metadata": {},
   "outputs": [
    {
     "data": {
      "text/plain": [
       "'z'"
      ]
     },
     "execution_count": 115,
     "metadata": {},
     "output_type": "execute_result"
    }
   ],
   "source": [
    "isimString[12]"
   ]
  },
  {
   "cell_type": "code",
   "execution_count": 116,
   "id": "b0a3962c",
   "metadata": {},
   "outputs": [
    {
     "data": {
      "text/plain": [
       "'z'"
      ]
     },
     "execution_count": 116,
     "metadata": {},
     "output_type": "execute_result"
    }
   ],
   "source": [
    "isimString[-1]"
   ]
  },
  {
   "cell_type": "code",
   "execution_count": 117,
   "id": "ae27cc82",
   "metadata": {},
   "outputs": [
    {
     "data": {
      "text/plain": [
       "'a'"
      ]
     },
     "execution_count": 117,
     "metadata": {},
     "output_type": "execute_result"
    }
   ],
   "source": [
    "isimString[-2]"
   ]
  },
  {
   "cell_type": "code",
   "execution_count": 118,
   "id": "1c7658a2",
   "metadata": {},
   "outputs": [
    {
     "data": {
      "text/plain": [
       "'Yz'"
      ]
     },
     "execution_count": 118,
     "metadata": {},
     "output_type": "execute_result"
    }
   ],
   "source": [
    "isimString[0] + isimString[-1]"
   ]
  },
  {
   "cell_type": "code",
   "execution_count": 119,
   "id": "6e4f5107",
   "metadata": {},
   "outputs": [],
   "source": [
    "yeniString = \"0123456789\""
   ]
  },
  {
   "cell_type": "code",
   "execution_count": 120,
   "id": "38f443dc",
   "metadata": {},
   "outputs": [
    {
     "data": {
      "text/plain": [
       "'5'"
      ]
     },
     "execution_count": 120,
     "metadata": {},
     "output_type": "execute_result"
    }
   ],
   "source": [
    "yeniString[5\n",
    "          ]"
   ]
  },
  {
   "cell_type": "markdown",
   "id": "5bea9398",
   "metadata": {},
   "source": [
    "## Slicing"
   ]
  },
  {
   "cell_type": "code",
   "execution_count": 122,
   "id": "c59094c7",
   "metadata": {},
   "outputs": [
    {
     "data": {
      "text/plain": [
       "str"
      ]
     },
     "execution_count": 122,
     "metadata": {},
     "output_type": "execute_result"
    }
   ],
   "source": [
    "type(yeniString[5])"
   ]
  },
  {
   "cell_type": "code",
   "execution_count": 123,
   "id": "e60717fc",
   "metadata": {},
   "outputs": [
    {
     "data": {
      "text/plain": [
       "'23456789'"
      ]
     },
     "execution_count": 123,
     "metadata": {},
     "output_type": "execute_result"
    }
   ],
   "source": [
    "yeniString[2:]"
   ]
  },
  {
   "cell_type": "code",
   "execution_count": 124,
   "id": "7f5c74ff",
   "metadata": {},
   "outputs": [],
   "source": [
    "harfString = \"asdfghjk\""
   ]
  },
  {
   "cell_type": "code",
   "execution_count": 125,
   "id": "10f80de1",
   "metadata": {},
   "outputs": [
    {
     "data": {
      "text/plain": [
       "'fghjk'"
      ]
     },
     "execution_count": 125,
     "metadata": {},
     "output_type": "execute_result"
    }
   ],
   "source": [
    "harfString[3:]"
   ]
  },
  {
   "cell_type": "code",
   "execution_count": 127,
   "id": "c456ea21",
   "metadata": {},
   "outputs": [
    {
     "data": {
      "text/plain": [
       "'unus'"
      ]
     },
     "execution_count": 127,
     "metadata": {},
     "output_type": "execute_result"
    }
   ],
   "source": [
    "\"yunus\"[1:]"
   ]
  },
  {
   "cell_type": "code",
   "execution_count": 128,
   "id": "25f52217",
   "metadata": {},
   "outputs": [
    {
     "data": {
      "text/plain": [
       "'asd'"
      ]
     },
     "execution_count": 128,
     "metadata": {},
     "output_type": "execute_result"
    }
   ],
   "source": [
    "harfString[:3]"
   ]
  },
  {
   "cell_type": "code",
   "execution_count": 129,
   "id": "433e5723",
   "metadata": {},
   "outputs": [],
   "source": [
    "gelenVeri = \"AhmetinYasi65\""
   ]
  },
  {
   "cell_type": "code",
   "execution_count": 130,
   "id": "ba924245",
   "metadata": {},
   "outputs": [
    {
     "data": {
      "text/plain": [
       "'65'"
      ]
     },
     "execution_count": 130,
     "metadata": {},
     "output_type": "execute_result"
    }
   ],
   "source": [
    "gelenVeri[11:]"
   ]
  },
  {
   "cell_type": "code",
   "execution_count": 131,
   "id": "3b565aea",
   "metadata": {},
   "outputs": [
    {
     "data": {
      "text/plain": [
       "'AhmetinYasi'"
      ]
     },
     "execution_count": 131,
     "metadata": {},
     "output_type": "execute_result"
    }
   ],
   "source": [
    "gelenVeri[:11]"
   ]
  },
  {
   "cell_type": "code",
   "execution_count": 132,
   "id": "c9cc81fd",
   "metadata": {},
   "outputs": [
    {
     "data": {
      "text/plain": [
       "'65'"
      ]
     },
     "execution_count": 132,
     "metadata": {},
     "output_type": "execute_result"
    }
   ],
   "source": [
    "gelenVeri[11:]"
   ]
  },
  {
   "cell_type": "code",
   "execution_count": 134,
   "id": "a1217a19",
   "metadata": {},
   "outputs": [
    {
     "data": {
      "text/plain": [
       "'AhmetinYasi'"
      ]
     },
     "execution_count": 134,
     "metadata": {},
     "output_type": "execute_result"
    }
   ],
   "source": [
    "gelenVeri[:11]"
   ]
  },
  {
   "cell_type": "code",
   "execution_count": 135,
   "id": "f44482f3",
   "metadata": {},
   "outputs": [],
   "source": [
    "normal = \"abcdefg\""
   ]
  },
  {
   "cell_type": "code",
   "execution_count": 136,
   "id": "3c5c4610",
   "metadata": {},
   "outputs": [
    {
     "data": {
      "text/plain": [
       "'bcdefg'"
      ]
     },
     "execution_count": 136,
     "metadata": {},
     "output_type": "execute_result"
    }
   ],
   "source": [
    "normal[1:]"
   ]
  },
  {
   "cell_type": "code",
   "execution_count": 137,
   "id": "7212d37f",
   "metadata": {},
   "outputs": [],
   "source": [
    "normal = \"normal\""
   ]
  },
  {
   "cell_type": "code",
   "execution_count": 138,
   "id": "9316c216",
   "metadata": {},
   "outputs": [
    {
     "data": {
      "text/plain": [
       "'ormal'"
      ]
     },
     "execution_count": 138,
     "metadata": {},
     "output_type": "execute_result"
    }
   ],
   "source": [
    "normal[1:]"
   ]
  },
  {
   "cell_type": "code",
   "execution_count": 139,
   "id": "8976e09e",
   "metadata": {},
   "outputs": [
    {
     "data": {
      "text/plain": [
       "'rmal'"
      ]
     },
     "execution_count": 139,
     "metadata": {},
     "output_type": "execute_result"
    }
   ],
   "source": [
    "normal[2:]"
   ]
  },
  {
   "cell_type": "code",
   "execution_count": 140,
   "id": "02eb2aa1",
   "metadata": {},
   "outputs": [
    {
     "data": {
      "text/plain": [
       "'no'"
      ]
     },
     "execution_count": 140,
     "metadata": {},
     "output_type": "execute_result"
    }
   ],
   "source": [
    "normal[:2]"
   ]
  },
  {
   "cell_type": "code",
   "execution_count": 141,
   "id": "9af24202",
   "metadata": {},
   "outputs": [
    {
     "data": {
      "text/plain": [
       "'rmal'"
      ]
     },
     "execution_count": 141,
     "metadata": {},
     "output_type": "execute_result"
    }
   ],
   "source": [
    "normal[2:]"
   ]
  },
  {
   "cell_type": "code",
   "execution_count": 142,
   "id": "a4258fbd",
   "metadata": {},
   "outputs": [
    {
     "data": {
      "text/plain": [
       "'ormal'"
      ]
     },
     "execution_count": 142,
     "metadata": {},
     "output_type": "execute_result"
    }
   ],
   "source": [
    "normal[1:]"
   ]
  },
  {
   "cell_type": "code",
   "execution_count": 143,
   "id": "a55ba629",
   "metadata": {},
   "outputs": [
    {
     "data": {
      "text/plain": [
       "'n'"
      ]
     },
     "execution_count": 143,
     "metadata": {},
     "output_type": "execute_result"
    }
   ],
   "source": [
    "normal[:1]"
   ]
  },
  {
   "cell_type": "code",
   "execution_count": 144,
   "id": "628f8ae9",
   "metadata": {},
   "outputs": [
    {
     "data": {
      "text/plain": [
       "'l'"
      ]
     },
     "execution_count": 144,
     "metadata": {},
     "output_type": "execute_result"
    }
   ],
   "source": [
    "normal[-1:]"
   ]
  },
  {
   "cell_type": "code",
   "execution_count": 145,
   "id": "cff31031",
   "metadata": {},
   "outputs": [
    {
     "data": {
      "text/plain": [
       "'ormal'"
      ]
     },
     "execution_count": 145,
     "metadata": {},
     "output_type": "execute_result"
    }
   ],
   "source": [
    "normal[1:]"
   ]
  },
  {
   "cell_type": "code",
   "execution_count": 146,
   "id": "f2345574",
   "metadata": {},
   "outputs": [
    {
     "data": {
      "text/plain": [
       "'l'"
      ]
     },
     "execution_count": 146,
     "metadata": {},
     "output_type": "execute_result"
    }
   ],
   "source": [
    "normal[-1:]"
   ]
  },
  {
   "cell_type": "code",
   "execution_count": 147,
   "id": "da4aea3b",
   "metadata": {},
   "outputs": [
    {
     "data": {
      "text/plain": [
       "'norma'"
      ]
     },
     "execution_count": 147,
     "metadata": {},
     "output_type": "execute_result"
    }
   ],
   "source": [
    "normal[:-1]"
   ]
  },
  {
   "cell_type": "code",
   "execution_count": 148,
   "id": "1d4a2e21",
   "metadata": {},
   "outputs": [],
   "source": [
    "testString = \"Yunus'un Yaşı 19\""
   ]
  },
  {
   "cell_type": "code",
   "execution_count": 149,
   "id": "18a1bf18",
   "metadata": {},
   "outputs": [
    {
     "data": {
      "text/plain": [
       "'19'"
      ]
     },
     "execution_count": 149,
     "metadata": {},
     "output_type": "execute_result"
    }
   ],
   "source": [
    "testString[-2:]"
   ]
  },
  {
   "cell_type": "code",
   "execution_count": 150,
   "id": "f14f70ea",
   "metadata": {},
   "outputs": [
    {
     "data": {
      "text/plain": [
       "'Yaşı 19'"
      ]
     },
     "execution_count": 150,
     "metadata": {},
     "output_type": "execute_result"
    }
   ],
   "source": [
    "testString[9:]"
   ]
  },
  {
   "cell_type": "code",
   "execution_count": 151,
   "id": "42c5e9cf",
   "metadata": {},
   "outputs": [
    {
     "data": {
      "text/plain": [
       "'9'"
      ]
     },
     "execution_count": 151,
     "metadata": {},
     "output_type": "execute_result"
    }
   ],
   "source": [
    "testString[-1:]"
   ]
  },
  {
   "cell_type": "code",
   "execution_count": 152,
   "id": "a54123c8",
   "metadata": {},
   "outputs": [
    {
     "data": {
      "text/plain": [
       "'19'"
      ]
     },
     "execution_count": 152,
     "metadata": {},
     "output_type": "execute_result"
    }
   ],
   "source": [
    "testString[-2:]"
   ]
  },
  {
   "cell_type": "code",
   "execution_count": 153,
   "id": "9f5d71a3",
   "metadata": {},
   "outputs": [
    {
     "data": {
      "text/plain": [
       "\"nus'un Yaşı 19\""
      ]
     },
     "execution_count": 153,
     "metadata": {},
     "output_type": "execute_result"
    }
   ],
   "source": [
    "testString[2:]"
   ]
  },
  {
   "cell_type": "code",
   "execution_count": 154,
   "id": "cec8ebd5",
   "metadata": {},
   "outputs": [
    {
     "data": {
      "text/plain": [
       "'nu'"
      ]
     },
     "execution_count": 154,
     "metadata": {},
     "output_type": "execute_result"
    }
   ],
   "source": [
    "testString[2:4]"
   ]
  },
  {
   "cell_type": "code",
   "execution_count": 155,
   "id": "8fd9f930",
   "metadata": {},
   "outputs": [
    {
     "data": {
      "text/plain": [
       "'o'"
      ]
     },
     "execution_count": 155,
     "metadata": {},
     "output_type": "execute_result"
    }
   ],
   "source": [
    "normal[1:2]"
   ]
  },
  {
   "cell_type": "code",
   "execution_count": 156,
   "id": "26cb36f0",
   "metadata": {},
   "outputs": [
    {
     "data": {
      "text/plain": [
       "'nor'"
      ]
     },
     "execution_count": 156,
     "metadata": {},
     "output_type": "execute_result"
    }
   ],
   "source": [
    "normal[0:3]"
   ]
  },
  {
   "cell_type": "markdown",
   "id": "790b62fc",
   "metadata": {},
   "source": [
    "### StepSize"
   ]
  },
  {
   "cell_type": "code",
   "execution_count": 157,
   "id": "83cbad90",
   "metadata": {},
   "outputs": [
    {
     "data": {
      "text/plain": [
       "'AhmetinYasi65'"
      ]
     },
     "execution_count": 157,
     "metadata": {},
     "output_type": "execute_result"
    }
   ],
   "source": [
    "gelenVeri"
   ]
  },
  {
   "cell_type": "code",
   "execution_count": 158,
   "id": "05f83733",
   "metadata": {},
   "outputs": [
    {
     "data": {
      "text/plain": [
       "'AhmetinYasi65'"
      ]
     },
     "execution_count": 158,
     "metadata": {},
     "output_type": "execute_result"
    }
   ],
   "source": [
    "gelenVeri[::1]"
   ]
  },
  {
   "cell_type": "code",
   "execution_count": 159,
   "id": "222ade8a",
   "metadata": {},
   "outputs": [
    {
     "data": {
      "text/plain": [
       "'Amtnai5'"
      ]
     },
     "execution_count": 159,
     "metadata": {},
     "output_type": "execute_result"
    }
   ],
   "source": [
    "gelenVeri[::2]"
   ]
  },
  {
   "cell_type": "code",
   "execution_count": 160,
   "id": "37e50359",
   "metadata": {},
   "outputs": [
    {
     "data": {
      "text/plain": [
       "'Aens5'"
      ]
     },
     "execution_count": 160,
     "metadata": {},
     "output_type": "execute_result"
    }
   ],
   "source": [
    "gelenVeri[::3] ## aens5"
   ]
  },
  {
   "cell_type": "code",
   "execution_count": 161,
   "id": "953bed34",
   "metadata": {},
   "outputs": [
    {
     "data": {
      "text/plain": [
       "'AhmetinYasi65'"
      ]
     },
     "execution_count": 161,
     "metadata": {},
     "output_type": "execute_result"
    }
   ],
   "source": [
    "gelenVeri"
   ]
  },
  {
   "cell_type": "code",
   "execution_count": 163,
   "id": "8cf95118",
   "metadata": {},
   "outputs": [
    {
     "data": {
      "text/plain": [
       "'56isaYnitemhA'"
      ]
     },
     "execution_count": 163,
     "metadata": {},
     "output_type": "execute_result"
    }
   ],
   "source": [
    "gelenVeri[::-1]"
   ]
  },
  {
   "cell_type": "code",
   "execution_count": 164,
   "id": "0c322546",
   "metadata": {},
   "outputs": [],
   "source": [
    "abcdefghjk = \"abcdefghjk\""
   ]
  },
  {
   "cell_type": "code",
   "execution_count": 166,
   "id": "1e0cd934",
   "metadata": {},
   "outputs": [
    {
     "data": {
      "text/plain": [
       "'e'"
      ]
     },
     "execution_count": 166,
     "metadata": {},
     "output_type": "execute_result"
    }
   ],
   "source": [
    "abcdefghjk[4] ## e"
   ]
  },
  {
   "cell_type": "code",
   "execution_count": 168,
   "id": "bd57f6b2",
   "metadata": {},
   "outputs": [
    {
     "data": {
      "text/plain": [
       "'bcdefghjk'"
      ]
     },
     "execution_count": 168,
     "metadata": {},
     "output_type": "execute_result"
    }
   ],
   "source": [
    "abcdefghjk[1:] #bcdefghjk"
   ]
  },
  {
   "cell_type": "code",
   "execution_count": 169,
   "id": "b239e43b",
   "metadata": {},
   "outputs": [
    {
     "data": {
      "text/plain": [
       "'a'"
      ]
     },
     "execution_count": 169,
     "metadata": {},
     "output_type": "execute_result"
    }
   ],
   "source": [
    "abcdefghjk[:1] #a"
   ]
  },
  {
   "cell_type": "code",
   "execution_count": 171,
   "id": "96cdb619",
   "metadata": {},
   "outputs": [
    {
     "data": {
      "text/plain": [
       "'k'"
      ]
     },
     "execution_count": 171,
     "metadata": {},
     "output_type": "execute_result"
    }
   ],
   "source": [
    "abcdefghjk[-1:] ## k"
   ]
  },
  {
   "cell_type": "code",
   "execution_count": 172,
   "id": "f28003ef",
   "metadata": {},
   "outputs": [
    {
     "data": {
      "text/plain": [
       "'jk'"
      ]
     },
     "execution_count": 172,
     "metadata": {},
     "output_type": "execute_result"
    }
   ],
   "source": [
    "abcdefghjk[-2:] ## jk"
   ]
  },
  {
   "cell_type": "code",
   "execution_count": 173,
   "id": "f3861208",
   "metadata": {},
   "outputs": [
    {
     "data": {
      "text/plain": [
       "'hjk'"
      ]
     },
     "execution_count": 173,
     "metadata": {},
     "output_type": "execute_result"
    }
   ],
   "source": [
    "abcdefghjk[-3:] ## hjk"
   ]
  },
  {
   "cell_type": "code",
   "execution_count": 174,
   "id": "858e6223",
   "metadata": {},
   "outputs": [
    {
     "data": {
      "text/plain": [
       "'abcdefghj'"
      ]
     },
     "execution_count": 174,
     "metadata": {},
     "output_type": "execute_result"
    }
   ],
   "source": [
    "abcdefghjk[:-1] ## abcdefghj"
   ]
  },
  {
   "cell_type": "code",
   "execution_count": 175,
   "id": "03e9c83e",
   "metadata": {},
   "outputs": [
    {
     "data": {
      "text/plain": [
       "'abcdefg'"
      ]
     },
     "execution_count": 175,
     "metadata": {},
     "output_type": "execute_result"
    }
   ],
   "source": [
    "abcdefghjk[:-3] ## abcdefg"
   ]
  },
  {
   "cell_type": "code",
   "execution_count": 177,
   "id": "d5b43a98",
   "metadata": {},
   "outputs": [
    {
     "data": {
      "text/plain": [
       "'defghjk'"
      ]
     },
     "execution_count": 177,
     "metadata": {},
     "output_type": "execute_result"
    }
   ],
   "source": [
    "abcdefghjk[3:]"
   ]
  },
  {
   "cell_type": "code",
   "execution_count": 178,
   "id": "6c0d2093",
   "metadata": {},
   "outputs": [
    {
     "data": {
      "text/plain": [
       "'efghjk'"
      ]
     },
     "execution_count": 178,
     "metadata": {},
     "output_type": "execute_result"
    }
   ],
   "source": [
    "abcdefghjk[4:]"
   ]
  },
  {
   "cell_type": "code",
   "execution_count": 179,
   "id": "6882687a",
   "metadata": {},
   "outputs": [
    {
     "data": {
      "text/plain": [
       "'ab'"
      ]
     },
     "execution_count": 179,
     "metadata": {},
     "output_type": "execute_result"
    }
   ],
   "source": [
    "abcdefghjk[:2]"
   ]
  },
  {
   "cell_type": "code",
   "execution_count": 180,
   "id": "97da2ee4",
   "metadata": {},
   "outputs": [
    {
     "data": {
      "text/plain": [
       "'ab'"
      ]
     },
     "execution_count": 180,
     "metadata": {},
     "output_type": "execute_result"
    }
   ],
   "source": [
    "abcdefghjk[:2]"
   ]
  },
  {
   "cell_type": "code",
   "execution_count": 181,
   "id": "557a8f4d",
   "metadata": {},
   "outputs": [
    {
     "data": {
      "text/plain": [
       "'bcd'"
      ]
     },
     "execution_count": 181,
     "metadata": {},
     "output_type": "execute_result"
    }
   ],
   "source": [
    "abcdefghjk[1:4] ##bcd"
   ]
  },
  {
   "cell_type": "code",
   "execution_count": 182,
   "id": "34c96c9d",
   "metadata": {},
   "outputs": [
    {
     "data": {
      "text/plain": [
       "'cde'"
      ]
     },
     "execution_count": 182,
     "metadata": {},
     "output_type": "execute_result"
    }
   ],
   "source": [
    "abcdefghjk[2:5] #cde"
   ]
  },
  {
   "cell_type": "code",
   "execution_count": 183,
   "id": "03963a20",
   "metadata": {},
   "outputs": [
    {
     "data": {
      "text/plain": [
       "'cdef'"
      ]
     },
     "execution_count": 183,
     "metadata": {},
     "output_type": "execute_result"
    }
   ],
   "source": [
    "abcdefghjk[2:6] # cdef"
   ]
  },
  {
   "cell_type": "code",
   "execution_count": 184,
   "id": "337f8608",
   "metadata": {},
   "outputs": [
    {
     "data": {
      "text/plain": [
       "'abcdefghjk'"
      ]
     },
     "execution_count": 184,
     "metadata": {},
     "output_type": "execute_result"
    }
   ],
   "source": [
    "abcdefghjk[::1]"
   ]
  },
  {
   "cell_type": "code",
   "execution_count": 185,
   "id": "4e53a38a",
   "metadata": {},
   "outputs": [
    {
     "data": {
      "text/plain": [
       "'acegj'"
      ]
     },
     "execution_count": 185,
     "metadata": {},
     "output_type": "execute_result"
    }
   ],
   "source": [
    "abcdefghjk[::2]"
   ]
  },
  {
   "cell_type": "code",
   "execution_count": 186,
   "id": "676bdc35",
   "metadata": {},
   "outputs": [
    {
     "data": {
      "text/plain": [
       "'kjhgfedcba'"
      ]
     },
     "execution_count": 186,
     "metadata": {},
     "output_type": "execute_result"
    }
   ],
   "source": [
    "abcdefghjk[::-1]"
   ]
  },
  {
   "cell_type": "code",
   "execution_count": 187,
   "id": "26170fa9",
   "metadata": {},
   "outputs": [
    {
     "data": {
      "text/plain": [
       "''"
      ]
     },
     "execution_count": 187,
     "metadata": {},
     "output_type": "execute_result"
    }
   ],
   "source": [
    "abcdefghjk[-1:-2] #k"
   ]
  },
  {
   "cell_type": "code",
   "execution_count": 188,
   "id": "4a6cc4a9",
   "metadata": {},
   "outputs": [
    {
     "data": {
      "text/plain": [
       "'k'"
      ]
     },
     "execution_count": 188,
     "metadata": {},
     "output_type": "execute_result"
    }
   ],
   "source": [
    "abcdefghjk[-1:] # k"
   ]
  },
  {
   "cell_type": "code",
   "execution_count": 189,
   "id": "6c91e30c",
   "metadata": {},
   "outputs": [
    {
     "data": {
      "text/plain": [
       "'jk'"
      ]
     },
     "execution_count": 189,
     "metadata": {},
     "output_type": "execute_result"
    }
   ],
   "source": [
    "abcdefghjk[-2:] # jk"
   ]
  },
  {
   "cell_type": "code",
   "execution_count": 190,
   "id": "d4103978",
   "metadata": {},
   "outputs": [
    {
     "data": {
      "text/plain": [
       "'hj'"
      ]
     },
     "execution_count": 190,
     "metadata": {},
     "output_type": "execute_result"
    }
   ],
   "source": [
    "abcdefghjk[-3:-1] # hj"
   ]
  },
  {
   "cell_type": "code",
   "execution_count": 191,
   "id": "13d8fc2c",
   "metadata": {},
   "outputs": [
    {
     "data": {
      "text/plain": [
       "'fgh'"
      ]
     },
     "execution_count": 191,
     "metadata": {},
     "output_type": "execute_result"
    }
   ],
   "source": [
    "abcdefghjk[-5:-2] # fgh"
   ]
  },
  {
   "cell_type": "code",
   "execution_count": 192,
   "id": "d68d4ea5",
   "metadata": {},
   "outputs": [
    {
     "data": {
      "text/plain": [
       "'efgh'"
      ]
     },
     "execution_count": 192,
     "metadata": {},
     "output_type": "execute_result"
    }
   ],
   "source": [
    "abcdefghjk[-6:8] # efgh"
   ]
  },
  {
   "cell_type": "code",
   "execution_count": 193,
   "id": "3f28f13d",
   "metadata": {},
   "outputs": [
    {
     "data": {
      "text/plain": [
       "'hjk'"
      ]
     },
     "execution_count": 193,
     "metadata": {},
     "output_type": "execute_result"
    }
   ],
   "source": [
    "abcdefghjk[-3:] # hjk"
   ]
  },
  {
   "cell_type": "code",
   "execution_count": 194,
   "id": "d14310e4",
   "metadata": {},
   "outputs": [
    {
     "data": {
      "text/plain": [
       "'fghj'"
      ]
     },
     "execution_count": 194,
     "metadata": {},
     "output_type": "execute_result"
    }
   ],
   "source": [
    "abcdefghjk[-5:-1] # fghj"
   ]
  },
  {
   "cell_type": "code",
   "execution_count": 195,
   "id": "2f8c09a3",
   "metadata": {},
   "outputs": [
    {
     "data": {
      "text/plain": [
       "'khfdb'"
      ]
     },
     "execution_count": 195,
     "metadata": {},
     "output_type": "execute_result"
    }
   ],
   "source": [
    "abcdefghjk[::-2]"
   ]
  },
  {
   "cell_type": "code",
   "execution_count": 196,
   "id": "6bc05138",
   "metadata": {},
   "outputs": [
    {
     "data": {
      "text/plain": [
       "'kgda'"
      ]
     },
     "execution_count": 196,
     "metadata": {},
     "output_type": "execute_result"
    }
   ],
   "source": [
    "abcdefghjk[::-3] ## kgda"
   ]
  },
  {
   "cell_type": "markdown",
   "id": "ee9da666",
   "metadata": {},
   "source": [
    "## Functions"
   ]
  },
  {
   "cell_type": "code",
   "execution_count": 197,
   "id": "dc609881",
   "metadata": {},
   "outputs": [],
   "source": [
    "benimIsmim = \"yunus\""
   ]
  },
  {
   "cell_type": "code",
   "execution_count": 198,
   "id": "086c0f9d",
   "metadata": {},
   "outputs": [
    {
     "data": {
      "text/plain": [
       "'Yunus'"
      ]
     },
     "execution_count": 198,
     "metadata": {},
     "output_type": "execute_result"
    }
   ],
   "source": [
    "benimIsmim.capitalize()"
   ]
  },
  {
   "cell_type": "code",
   "execution_count": 199,
   "id": "55a05f90",
   "metadata": {},
   "outputs": [
    {
     "data": {
      "text/plain": [
       "'yunus'"
      ]
     },
     "execution_count": 199,
     "metadata": {},
     "output_type": "execute_result"
    }
   ],
   "source": [
    "benimIsmim"
   ]
  },
  {
   "cell_type": "code",
   "execution_count": 200,
   "id": "5775e20b",
   "metadata": {},
   "outputs": [
    {
     "name": "stdout",
     "output_type": "stream",
     "text": [
      "yunus\n"
     ]
    }
   ],
   "source": [
    "print(benimIsmim)"
   ]
  },
  {
   "cell_type": "code",
   "execution_count": 201,
   "id": "1c6b1b8b",
   "metadata": {},
   "outputs": [],
   "source": [
    "benimYeniIsmim = benimIsmim.capitalize()"
   ]
  },
  {
   "cell_type": "code",
   "execution_count": 202,
   "id": "d4b5b658",
   "metadata": {},
   "outputs": [
    {
     "data": {
      "text/plain": [
       "'Yunus'"
      ]
     },
     "execution_count": 202,
     "metadata": {},
     "output_type": "execute_result"
    }
   ],
   "source": [
    "benimYeniIsmim"
   ]
  },
  {
   "cell_type": "code",
   "execution_count": 206,
   "id": "6a79060d",
   "metadata": {},
   "outputs": [],
   "source": [
    "benimTamIsmim = \"Yunus Korkmaz Test\""
   ]
  },
  {
   "cell_type": "code",
   "execution_count": 207,
   "id": "26b04f44",
   "metadata": {},
   "outputs": [
    {
     "data": {
      "text/plain": [
       "['Yunus', 'Korkmaz', 'Test']"
      ]
     },
     "execution_count": 207,
     "metadata": {},
     "output_type": "execute_result"
    }
   ],
   "source": [
    "benimTamIsmim.split()"
   ]
  },
  {
   "cell_type": "code",
   "execution_count": 208,
   "id": "7b34ba43",
   "metadata": {},
   "outputs": [
    {
     "data": {
      "text/plain": [
       "list"
      ]
     },
     "execution_count": 208,
     "metadata": {},
     "output_type": "execute_result"
    }
   ],
   "source": [
    "type(benimTamIsmim.split())"
   ]
  },
  {
   "cell_type": "code",
   "execution_count": 209,
   "id": "bad04367",
   "metadata": {},
   "outputs": [],
   "source": [
    "listeler = benimTamIsmim.split()"
   ]
  },
  {
   "cell_type": "code",
   "execution_count": 210,
   "id": "e4d9b089",
   "metadata": {},
   "outputs": [
    {
     "data": {
      "text/plain": [
       "'Yunus'"
      ]
     },
     "execution_count": 210,
     "metadata": {},
     "output_type": "execute_result"
    }
   ],
   "source": [
    "listeler[0]"
   ]
  },
  {
   "cell_type": "code",
   "execution_count": 211,
   "id": "13b7c296",
   "metadata": {},
   "outputs": [
    {
     "data": {
      "text/plain": [
       "'Yunus Korkmaz Test'"
      ]
     },
     "execution_count": 211,
     "metadata": {},
     "output_type": "execute_result"
    }
   ],
   "source": [
    "benimTamIsmim\n"
   ]
  },
  {
   "cell_type": "code",
   "execution_count": 212,
   "id": "bf9167a6",
   "metadata": {},
   "outputs": [
    {
     "data": {
      "text/plain": [
       "'YUNUS KORKMAZ TEST'"
      ]
     },
     "execution_count": 212,
     "metadata": {},
     "output_type": "execute_result"
    }
   ],
   "source": [
    "benimTamIsmim.upper()"
   ]
  },
  {
   "cell_type": "code",
   "execution_count": 213,
   "id": "2c28676c",
   "metadata": {},
   "outputs": [
    {
     "data": {
      "text/plain": [
       "'yunus'"
      ]
     },
     "execution_count": 213,
     "metadata": {},
     "output_type": "execute_result"
    }
   ],
   "source": [
    "benimIsmim\n"
   ]
  },
  {
   "cell_type": "code",
   "execution_count": 214,
   "id": "5f3068e9",
   "metadata": {},
   "outputs": [
    {
     "data": {
      "text/plain": [
       "'yunusyunusyunusyunusyunusyunusyunusyunusyunusyunus'"
      ]
     },
     "execution_count": 214,
     "metadata": {},
     "output_type": "execute_result"
    }
   ],
   "source": [
    "benimIsmim*10"
   ]
  },
  {
   "cell_type": "code",
   "execution_count": 215,
   "id": "d8b2b761",
   "metadata": {},
   "outputs": [
    {
     "data": {
      "text/plain": [
       "'yunusYunus Korkmaz Test'"
      ]
     },
     "execution_count": 215,
     "metadata": {},
     "output_type": "execute_result"
    }
   ],
   "source": [
    "benimIsmim + benimTamIsmim"
   ]
  },
  {
   "cell_type": "code",
   "execution_count": 216,
   "id": "016ebdc9",
   "metadata": {},
   "outputs": [
    {
     "ename": "TypeError",
     "evalue": "can only concatenate str (not \"int\") to str",
     "output_type": "error",
     "traceback": [
      "\u001b[0;31m---------------------------------------------------------------------------\u001b[0m",
      "\u001b[0;31mTypeError\u001b[0m                                 Traceback (most recent call last)",
      "Input \u001b[0;32mIn [216]\u001b[0m, in \u001b[0;36m<cell line: 1>\u001b[0;34m()\u001b[0m\n\u001b[0;32m----> 1\u001b[0m \u001b[43mbenimIsmim\u001b[49m\u001b[38;5;241;43m+\u001b[39;49m\u001b[38;5;241;43m2\u001b[39;49m\n",
      "\u001b[0;31mTypeError\u001b[0m: can only concatenate str (not \"int\") to str"
     ]
    }
   ],
   "source": [
    "benimIsmim+2"
   ]
  },
  {
   "cell_type": "code",
   "execution_count": 217,
   "id": "64a12af0",
   "metadata": {},
   "outputs": [],
   "source": [
    "benimSoyIsmim = \"korkmaz\""
   ]
  },
  {
   "cell_type": "code",
   "execution_count": 218,
   "id": "7635715a",
   "metadata": {},
   "outputs": [
    {
     "data": {
      "text/plain": [
       "'yunuskorkmaz'"
      ]
     },
     "execution_count": 218,
     "metadata": {},
     "output_type": "execute_result"
    }
   ],
   "source": [
    "benimIsmim + benimSoyIsmim"
   ]
  },
  {
   "cell_type": "code",
   "execution_count": 220,
   "id": "c708bea4",
   "metadata": {},
   "outputs": [
    {
     "data": {
      "text/plain": [
       "'yunuskorkmaz'"
      ]
     },
     "execution_count": 220,
     "metadata": {},
     "output_type": "execute_result"
    }
   ],
   "source": [
    "benimIsmim +\"\"+ benimSoyIsmim"
   ]
  },
  {
   "cell_type": "code",
   "execution_count": 221,
   "id": "1d1008fe",
   "metadata": {},
   "outputs": [
    {
     "data": {
      "text/plain": [
       "'123'"
      ]
     },
     "execution_count": 221,
     "metadata": {},
     "output_type": "execute_result"
    }
   ],
   "source": [
    "a = \"1\"\n",
    "b = \"2\"\n",
    "c = \"3\"\n",
    "a+b+c"
   ]
  },
  {
   "cell_type": "code",
   "execution_count": null,
   "id": "a504c85b",
   "metadata": {},
   "outputs": [],
   "source": []
  }
 ],
 "metadata": {
  "kernelspec": {
   "display_name": "Python 3 (ipykernel)",
   "language": "python",
   "name": "python3"
  },
  "language_info": {
   "codemirror_mode": {
    "name": "ipython",
    "version": 3
   },
   "file_extension": ".py",
   "mimetype": "text/x-python",
   "name": "python",
   "nbconvert_exporter": "python",
   "pygments_lexer": "ipython3",
   "version": "3.9.12"
  }
 },
 "nbformat": 4,
 "nbformat_minor": 5
}
