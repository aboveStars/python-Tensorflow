{
 "cells": [
  {
   "cell_type": "code",
   "execution_count": 1,
   "id": "f6ad928a",
   "metadata": {},
   "outputs": [],
   "source": [
    "benimListem = [1,2,3]"
   ]
  },
  {
   "cell_type": "code",
   "execution_count": 2,
   "id": "24b624ad",
   "metadata": {},
   "outputs": [
    {
     "data": {
      "text/plain": [
       "1"
      ]
     },
     "execution_count": 2,
     "metadata": {},
     "output_type": "execute_result"
    }
   ],
   "source": [
    "benimListem[0]"
   ]
  },
  {
   "cell_type": "markdown",
   "id": "d337be80",
   "metadata": {},
   "source": [
    "## Key Value Pairing (Anahtar Kelime Eşleşmesi)"
   ]
  },
  {
   "cell_type": "code",
   "execution_count": 3,
   "id": "0ab3c970",
   "metadata": {},
   "outputs": [],
   "source": [
    "benimYemeklerim = [\"Elma\",\"Karpuz\",\"Muz\"]"
   ]
  },
  {
   "cell_type": "code",
   "execution_count": 4,
   "id": "bd1d0814",
   "metadata": {},
   "outputs": [],
   "source": [
    "benimKalorilerim = [100,200,300]"
   ]
  },
  {
   "cell_type": "code",
   "execution_count": 5,
   "id": "5c54129b",
   "metadata": {},
   "outputs": [
    {
     "data": {
      "text/plain": [
       "'Karpuz'"
      ]
     },
     "execution_count": 5,
     "metadata": {},
     "output_type": "execute_result"
    }
   ],
   "source": [
    "benimYemeklerim[1]"
   ]
  },
  {
   "cell_type": "code",
   "execution_count": 6,
   "id": "98cf0e37",
   "metadata": {},
   "outputs": [
    {
     "data": {
      "text/plain": [
       "200"
      ]
     },
     "execution_count": 6,
     "metadata": {},
     "output_type": "execute_result"
    }
   ],
   "source": [
    "benimKalorilerim[1]"
   ]
  },
  {
   "cell_type": "markdown",
   "id": "6b13d9cd",
   "metadata": {},
   "source": [
    "### Dictionary"
   ]
  },
  {
   "cell_type": "code",
   "execution_count": 7,
   "id": "00c0bc9d",
   "metadata": {},
   "outputs": [],
   "source": [
    "benimSozluk = {\"anahtarKelime\" : \"deger\"}"
   ]
  },
  {
   "cell_type": "code",
   "execution_count": 8,
   "id": "8db42ace",
   "metadata": {},
   "outputs": [
    {
     "data": {
      "text/plain": [
       "dict"
      ]
     },
     "execution_count": 8,
     "metadata": {},
     "output_type": "execute_result"
    }
   ],
   "source": [
    "type(benimSozluk)"
   ]
  },
  {
   "cell_type": "code",
   "execution_count": 9,
   "id": "80d5605b",
   "metadata": {},
   "outputs": [
    {
     "ename": "KeyError",
     "evalue": "0",
     "output_type": "error",
     "traceback": [
      "\u001b[0;31m---------------------------------------------------------------------------\u001b[0m",
      "\u001b[0;31mKeyError\u001b[0m                                  Traceback (most recent call last)",
      "Input \u001b[0;32mIn [9]\u001b[0m, in \u001b[0;36m<cell line: 1>\u001b[0;34m()\u001b[0m\n\u001b[0;32m----> 1\u001b[0m \u001b[43mbenimSozluk\u001b[49m\u001b[43m[\u001b[49m\u001b[38;5;241;43m0\u001b[39;49m\u001b[43m]\u001b[49m\n",
      "\u001b[0;31mKeyError\u001b[0m: 0"
     ]
    }
   ],
   "source": [
    "benimSozluk[0]"
   ]
  },
  {
   "cell_type": "code",
   "execution_count": 10,
   "id": "c076babb",
   "metadata": {},
   "outputs": [
    {
     "data": {
      "text/plain": [
       "'deger'"
      ]
     },
     "execution_count": 10,
     "metadata": {},
     "output_type": "execute_result"
    }
   ],
   "source": [
    "benimSozluk[\"anahtarKelime\"]"
   ]
  },
  {
   "cell_type": "code",
   "execution_count": 11,
   "id": "ded36735",
   "metadata": {},
   "outputs": [],
   "source": [
    "benimYemekKaloriSozlugum = {\"elma\":100,\"karpuz\":200,\"muz\": 300}"
   ]
  },
  {
   "cell_type": "code",
   "execution_count": 12,
   "id": "bf023eb5",
   "metadata": {},
   "outputs": [
    {
     "data": {
      "text/plain": [
       "{'elma': 100, 'karpuz': 200, 'muz': 300}"
      ]
     },
     "execution_count": 12,
     "metadata": {},
     "output_type": "execute_result"
    }
   ],
   "source": [
    "benimYemekKaloriSozlugum"
   ]
  },
  {
   "cell_type": "code",
   "execution_count": 13,
   "id": "5260f014",
   "metadata": {},
   "outputs": [
    {
     "data": {
      "text/plain": [
       "100"
      ]
     },
     "execution_count": 13,
     "metadata": {},
     "output_type": "execute_result"
    }
   ],
   "source": [
    "benimYemekKaloriSozlugum[\"elma\"]"
   ]
  },
  {
   "cell_type": "code",
   "execution_count": 14,
   "id": "ae66248c",
   "metadata": {},
   "outputs": [],
   "source": [
    "benimYemekKaloriSozlugum[\"elma\"] = 150"
   ]
  },
  {
   "cell_type": "code",
   "execution_count": 15,
   "id": "70a992d0",
   "metadata": {},
   "outputs": [
    {
     "data": {
      "text/plain": [
       "{'elma': 150, 'karpuz': 200, 'muz': 300}"
      ]
     },
     "execution_count": 15,
     "metadata": {},
     "output_type": "execute_result"
    }
   ],
   "source": [
    "benimYemekKaloriSozlugum"
   ]
  },
  {
   "cell_type": "code",
   "execution_count": 16,
   "id": "7593aa1e",
   "metadata": {},
   "outputs": [],
   "source": [
    "benimDegisikSozlugum = {1 :\"atıl\", 2:\"atlas\", 3:14}"
   ]
  },
  {
   "cell_type": "code",
   "execution_count": 17,
   "id": "1b27f175",
   "metadata": {},
   "outputs": [
    {
     "data": {
      "text/plain": [
       "14"
      ]
     },
     "execution_count": 17,
     "metadata": {},
     "output_type": "execute_result"
    }
   ],
   "source": [
    "benimDegisikSozlugum[3]"
   ]
  },
  {
   "cell_type": "code",
   "execution_count": 21,
   "id": "579df152",
   "metadata": {},
   "outputs": [],
   "source": [
    "yeniDict = {\"anahtar1\": 100, \"anahatar2\": [10,20,30,40,4.5,\"atıl\"],\"anahtar3\": {\"anahtar9\":4}}"
   ]
  },
  {
   "cell_type": "code",
   "execution_count": 19,
   "id": "a8dff66a",
   "metadata": {},
   "outputs": [
    {
     "data": {
      "text/plain": [
       "dict_keys(['anahtar1', 'anahatar2', 'anahtar3'])"
      ]
     },
     "execution_count": 19,
     "metadata": {},
     "output_type": "execute_result"
    }
   ],
   "source": [
    "yeniDict.keys()"
   ]
  },
  {
   "cell_type": "code",
   "execution_count": 20,
   "id": "65e3454b",
   "metadata": {},
   "outputs": [
    {
     "data": {
      "text/plain": [
       "dict_values([100, [10, 20, 30, 40, 4.5], {'anahtar9': 4}])"
      ]
     },
     "execution_count": 20,
     "metadata": {},
     "output_type": "execute_result"
    }
   ],
   "source": [
    "yeniDict.values()"
   ]
  },
  {
   "cell_type": "code",
   "execution_count": 22,
   "id": "a6ac08d5",
   "metadata": {},
   "outputs": [
    {
     "data": {
      "text/plain": [
       "{'anahtar1': 100,\n",
       " 'anahatar2': [10, 20, 30, 40, 4.5, 'atıl'],\n",
       " 'anahtar3': {'anahtar9': 4}}"
      ]
     },
     "execution_count": 22,
     "metadata": {},
     "output_type": "execute_result"
    }
   ],
   "source": [
    "yeniDict"
   ]
  },
  {
   "cell_type": "code",
   "execution_count": 26,
   "id": "28db2c29",
   "metadata": {},
   "outputs": [
    {
     "name": "stdout",
     "output_type": "stream",
     "text": [
      "İstenen String: atıl\n",
      "İstenen Sayı: 4\n"
     ]
    }
   ],
   "source": [
    "istenenString = yeniDict[\"anahatar2\"][5] #atıl\n",
    "print(\"İstenen String: \" + istenenString)\n",
    "istenenSayi = yeniDict[\"anahtar3\"][\"anahtar9\"] ## 4\n",
    "print(\"İstenen Sayı: \" + str(istenenSayi))"
   ]
  },
  {
   "cell_type": "code",
   "execution_count": 27,
   "id": "ca4d0ec2",
   "metadata": {},
   "outputs": [
    {
     "ename": "TypeError",
     "evalue": "can only concatenate str (not \"int\") to str",
     "output_type": "error",
     "traceback": [
      "\u001b[0;31m---------------------------------------------------------------------------\u001b[0m",
      "\u001b[0;31mTypeError\u001b[0m                                 Traceback (most recent call last)",
      "Input \u001b[0;32mIn [27]\u001b[0m, in \u001b[0;36m<cell line: 1>\u001b[0;34m()\u001b[0m\n\u001b[0;32m----> 1\u001b[0m \u001b[38;5;28mprint\u001b[39m(\u001b[38;5;124;43m\"\u001b[39;49m\u001b[38;5;124;43mYunus\u001b[39;49m\u001b[38;5;124;43m\"\u001b[39;49m\u001b[43m \u001b[49m\u001b[38;5;241;43m+\u001b[39;49m\u001b[43m \u001b[49m\u001b[38;5;241;43m10\u001b[39;49m)\n",
      "\u001b[0;31mTypeError\u001b[0m: can only concatenate str (not \"int\") to str"
     ]
    }
   ],
   "source": [
    "print(\"Yunus\" + 10)"
   ]
  },
  {
   "cell_type": "code",
   "execution_count": 28,
   "id": "29191db0",
   "metadata": {},
   "outputs": [
    {
     "name": "stdout",
     "output_type": "stream",
     "text": [
      "10\n"
     ]
    }
   ],
   "source": [
    "print(10)"
   ]
  },
  {
   "cell_type": "code",
   "execution_count": 29,
   "id": "d0a86e8a",
   "metadata": {},
   "outputs": [
    {
     "name": "stdout",
     "output_type": "stream",
     "text": [
      "1020\n"
     ]
    }
   ],
   "source": [
    "print(\"10\" + \"20\")"
   ]
  },
  {
   "cell_type": "code",
   "execution_count": 30,
   "id": "a14d16c2",
   "metadata": {
    "scrolled": true
   },
   "outputs": [
    {
     "ename": "TypeError",
     "evalue": "can only concatenate str (not \"int\") to str",
     "output_type": "error",
     "traceback": [
      "\u001b[0;31m---------------------------------------------------------------------------\u001b[0m",
      "\u001b[0;31mTypeError\u001b[0m                                 Traceback (most recent call last)",
      "Input \u001b[0;32mIn [30]\u001b[0m, in \u001b[0;36m<cell line: 1>\u001b[0;34m()\u001b[0m\n\u001b[0;32m----> 1\u001b[0m \u001b[38;5;124;43m\"\u001b[39;49m\u001b[38;5;124;43myunus\u001b[39;49m\u001b[38;5;124;43m\"\u001b[39;49m\u001b[43m \u001b[49m\u001b[38;5;241;43m+\u001b[39;49m\u001b[43m \u001b[49m\u001b[38;5;241;43m10\u001b[39;49m\n",
      "\u001b[0;31mTypeError\u001b[0m: can only concatenate str (not \"int\") to str"
     ]
    }
   ],
   "source": [
    "\"yunus\" + 10"
   ]
  },
  {
   "cell_type": "code",
   "execution_count": 31,
   "id": "3ceed46b",
   "metadata": {},
   "outputs": [
    {
     "data": {
      "text/plain": [
       "{'anahtar1': 100,\n",
       " 'anahatar2': [10, 20, 30, 40, 4.5, 'atıl'],\n",
       " 'anahtar3': {'anahtar9': 4}}"
      ]
     },
     "execution_count": 31,
     "metadata": {},
     "output_type": "execute_result"
    }
   ],
   "source": [
    "yeniDict"
   ]
  },
  {
   "cell_type": "code",
   "execution_count": 32,
   "id": "ea0e2c4c",
   "metadata": {},
   "outputs": [
    {
     "data": {
      "text/plain": [
       "'atıl'"
      ]
     },
     "execution_count": 32,
     "metadata": {},
     "output_type": "execute_result"
    }
   ],
   "source": [
    "yeniDict[\"anahatar2\"][5]"
   ]
  },
  {
   "cell_type": "code",
   "execution_count": 33,
   "id": "5e996d90",
   "metadata": {},
   "outputs": [
    {
     "data": {
      "text/plain": [
       "4"
      ]
     },
     "execution_count": 33,
     "metadata": {},
     "output_type": "execute_result"
    }
   ],
   "source": [
    "yeniDict[\"anahtar3\"][\"anahtar9\"]"
   ]
  }
 ],
 "metadata": {
  "kernelspec": {
   "display_name": "Python 3 (ipykernel)",
   "language": "python",
   "name": "python3"
  },
  "language_info": {
   "codemirror_mode": {
    "name": "ipython",
    "version": 3
   },
   "file_extension": ".py",
   "mimetype": "text/x-python",
   "name": "python",
   "nbconvert_exporter": "python",
   "pygments_lexer": "ipython3",
   "version": "3.9.12"
  }
 },
 "nbformat": 4,
 "nbformat_minor": 5
}
